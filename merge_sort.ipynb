{
 "cells": [
  {
   "cell_type": "markdown",
   "metadata": {},
   "source": [
    "## Merge Sort\n",
    "\n",
    "O código abaixo ilustra o algoritmo Merge Sort. O algoritmo tem 2 funções principais:\n",
    "- chamada principal, que divide o vetor inicial por 2 em vetores menores, sucessivamente.\n",
    "- chamada de função de intercalação (merge), que ordena os elementos de 2 vetores em um vetor de saída."
   ]
  },
  {
   "cell_type": "code",
   "execution_count": 1,
   "metadata": {},
   "outputs": [],
   "source": [
    "#include <iostream>\n",
    "#include <stdlib.h> \n",
    "using namespace std;"
   ]
  },
  {
   "cell_type": "markdown",
   "metadata": {},
   "source": [
    "Imprime vetores intermediários após cada chamada da função _intercala_."
   ]
  },
  {
   "cell_type": "code",
   "execution_count": 2,
   "metadata": {},
   "outputs": [],
   "source": [
    "void imprime (int A[], int tamVetor){\n",
    "    cout << \"\\n\";\n",
    "    for (int i = 0; i < tamVetor; i++)\n",
    "        cout << A[i] << \".\";    \n",
    "}"
   ]
  },
  {
   "cell_type": "markdown",
   "metadata": {},
   "source": [
    "Função que faz a intercalação ordenada (merge) dos elemementos dos vetores."
   ]
  },
  {
   "cell_type": "code",
   "execution_count": 3,
   "metadata": {},
   "outputs": [],
   "source": [
    "void intercala(int A[], int inicio, int meio, int fim){\n",
    "    int i1, i2, i_saida;\n",
    "    int v_saida[fim-inicio +1];\n",
    "    i1 = inicio;\n",
    "    i2 = meio+1;\n",
    "    i_saida = 0;\n",
    "    \n",
    "    while (i1 <= meio & i2 <= fim){ //primeira intercalacao (merge)\n",
    "        if (A[i1] <= A[i2]){\n",
    "            v_saida[i_saida] = A[i1];\n",
    "            i1 ++;            \n",
    "        }\n",
    "        else {\n",
    "            v_saida[i_saida] = A[i2];\n",
    "            i2 ++;\n",
    "        }\n",
    "        i_saida++;\n",
    "    }\n",
    "    while (i1 <= meio) { //elementos na primeira metade que 'sobraram' da intercalação\n",
    "        v_saida[i_saida] = A[i1];\n",
    "        i_saida++;\n",
    "        i1++;\n",
    "    }\n",
    "    while (i2 <= fim) { //elementos na segunda metade que 'sobraram' da intercalação\n",
    "        v_saida[i_saida] = A[i2];\n",
    "        i_saida ++;\n",
    "        i2 ++;\n",
    "    }\n",
    "    for (i_saida = inicio; i_saida <=fim; i_saida++){\n",
    "        A[i_saida] = v_saida[i_saida-inicio];\n",
    "    }\n",
    "    imprime(A,i_saida);\n",
    "}"
   ]
  },
  {
   "cell_type": "markdown",
   "metadata": {},
   "source": [
    "Função principal do algoritmo merge sort. Faz a divisão dos vetores e chama a função de intercalação, para ordenar os elementos dos vetores intermediários."
   ]
  },
  {
   "cell_type": "code",
   "execution_count": 4,
   "metadata": {},
   "outputs": [],
   "source": [
    "void merge_sort(int A[], int inicio, int fim){\n",
    "    int meio;\n",
    "    if (inicio < fim) {\n",
    "        meio = (inicio + fim) / 2;\n",
    "        merge_sort(A, inicio, meio);\n",
    "        merge_sort(A, meio + 1, fim);\n",
    "        intercala(A, inicio, meio, fim);\n",
    "    }\n",
    "}"
   ]
  },
  {
   "cell_type": "code",
   "execution_count": 5,
   "metadata": {},
   "outputs": [],
   "source": [
    "void iniciaprograma(){\n",
    "    int tamVetor = 8;\n",
    "    int A[] = {5,2,4,7,1,3,8,6};\n",
    "    //int A[] = {5,2,4,7,1,3,8,6,14,20, 18,17,40,19,50,43,30}; //outro exemplo de vetor, tamVetor = 16\n",
    "    merge_sort(A,0,tamVetor-1);\n",
    "    imprime(A, tamVetor);    \n",
    "}"
   ]
  },
  {
   "cell_type": "code",
   "execution_count": 6,
   "metadata": {},
   "outputs": [
    {
     "name": "stdout",
     "output_type": "stream",
     "text": [
      "\n",
      "2.5.\n",
      "2.5.4.7.\n",
      "2.4.5.7.\n",
      "2.4.5.7.1.3.\n",
      "2.4.5.7.1.3.6.8.\n",
      "2.4.5.7.1.3.6.8.\n",
      "1.2.3.4.5.6.7.8.\n",
      "1.2.3.4.5.6.7.8.14.20.\n",
      "1.2.3.4.5.6.7.8.14.20.17.18.\n",
      "1.2.3.4.5.6.7.8.14.17.18.20.\n",
      "1.2.3.4.5.6.7.8.14.17.18.20.19.40.\n",
      "1.2.3.4.5.6.7.8.14.17.18.20.19.40.43.50.\n",
      "1.2.3.4.5.6.7.8.14.17.18.20.19.40.43.50.\n",
      "1.2.3.4.5.6.7.8.14.17.18.19.20.40.43.50.\n",
      "1.2.3.4.5.6.7.8.14.17.18.19.20.40.43.50.\n",
      "1.2.3.4.5.6.7.8.14.17.18.19.20.40.43.50."
     ]
    }
   ],
   "source": [
    "iniciaprograma();"
   ]
  }
 ],
 "metadata": {
  "kernelspec": {
   "display_name": "C++11",
   "language": "C++11",
   "name": "xcpp11"
  },
  "language_info": {
   "codemirror_mode": "text/x-c++src",
   "file_extension": ".cpp",
   "mimetype": "text/x-c++src",
   "name": "c++",
   "version": "11"
  }
 },
 "nbformat": 4,
 "nbformat_minor": 4
}

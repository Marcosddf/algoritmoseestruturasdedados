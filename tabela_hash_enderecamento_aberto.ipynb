{
 "cells": [
  {
   "cell_type": "markdown",
   "metadata": {},
   "source": [
    "## Tabela Hash - colisão por enderecamento aberto\n",
    "\n",
    "Uma tabela Hash é uma estrutura de dados de acesso direto, pois o índice do dado a ser acessado é conhecido.\n",
    "\n",
    "O índice de acesso a cada valor é dado por uma função hash `h(k) -> i`, que recebe a chave K e retorna o índice para acessar o valor V. \n",
    "\n",
    "Este notebook apresenta a implementação de uma tabela Hash com tratamento de colisões, utilizando o **método de endereçamento aberto**, que utiliza a própria tabela para armazenar elementos com colisões, usando métodos de re-dispersão. Os três mais comuns são:\n",
    "- linear\n",
    "- quadrático\n",
    "- hash duplo\n",
    "\n",
    "\n",
    "O notebook https://github.com/Marcosddf/algoritmoseestruturasdedados/blob/master/tabela_hash_simples.ipynb possui uma tabela hash sem tratamento de colisões.\n",
    "\n",
    "O notebook https://github.com/Marcosddf/algoritmoseestruturasdedados/blob/master/tabela_hash_encadeamento.ipynb implementa uma tabela com tratamento de colisões por encadeamento."
   ]
  },
  {
   "cell_type": "code",
   "execution_count": 1,
   "metadata": {},
   "outputs": [],
   "source": [
    "#include <iostream>\n",
    "#include <stdlib.h> \n",
    "#include <string.h>\n",
    "using namespace std;\n",
    "\n",
    "#define M 19; //tamanho da tabela Hash\n",
    "#define A_ASCII 65;"
   ]
  },
  {
   "cell_type": "markdown",
   "metadata": {},
   "source": [
    "Identificação do tipo da dispersão escolhida."
   ]
  },
  {
   "cell_type": "code",
   "execution_count": 2,
   "metadata": {},
   "outputs": [],
   "source": [
    "enum Dispersao {\n",
    "    LINEAR, QUADRATICA, HASH_DUPLO\n",
    "}"
   ]
  },
  {
   "cell_type": "markdown",
   "metadata": {},
   "source": [
    "O tamanho da tabela Hash depende do número de chaves existentes e da capacidade de armazenamento. "
   ]
  },
  {
   "cell_type": "code",
   "execution_count": 3,
   "metadata": {},
   "outputs": [],
   "source": [
    "int tamHash(){\n",
    "    return M;\n",
    "}"
   ]
  },
  {
   "cell_type": "markdown",
   "metadata": {},
   "source": [
    "O **método da divisão** é bastante usado para implementar funções hash.\n",
    "\n",
    "Dada uma tabela de tamanho **M**, a função hash será `h(k) -> k mod m`. M deverá ser preferencialmente um número primo, e potencias de 2 devem ser evitadas. \n",
    "\n",
    "Nesta implementação o M escolhido é 19.\n",
    "\n",
    "Esta função pode ser trocada para implementar diferentes métodos."
   ]
  },
  {
   "cell_type": "code",
   "execution_count": 4,
   "metadata": {},
   "outputs": [],
   "source": [
    "int hash_divisao(int k){\n",
    "    return (k % tamHash());\n",
    "}"
   ]
  },
  {
   "cell_type": "markdown",
   "metadata": {},
   "source": [
    "A função hash abaixo (`h(k) -> 1 + (k mod m-1)`) também implementa o hash da divisão, porém com uma variação do M, para ser usada no método de dispersão de hash duplo."
   ]
  },
  {
   "cell_type": "code",
   "execution_count": 5,
   "metadata": {},
   "outputs": [],
   "source": [
    "int hash_2_divisao(int k){\n",
    "    return 1 + (k % (tamHash() - 2));\n",
    "}"
   ]
  },
  {
   "cell_type": "markdown",
   "metadata": {},
   "source": [
    "Dada uma tabela de tamanho **M**, a função hash usando dispersão linear será `h(k,i) -> (h'(k) + i) mod m`."
   ]
  },
  {
   "cell_type": "code",
   "execution_count": 6,
   "metadata": {},
   "outputs": [],
   "source": [
    "int hash_linear(int k, int i){\n",
    "    return (hash_divisao(k) + i) % tamHash();\n",
    "}"
   ]
  },
  {
   "cell_type": "markdown",
   "metadata": {},
   "source": [
    "A função hash com disperção quadrática é implementada por: `h(k,i) = (h'(k) + c1*i + c2*i^2) mod m`"
   ]
  },
  {
   "cell_type": "code",
   "execution_count": 7,
   "metadata": {},
   "outputs": [],
   "source": [
    "int hash_quadratico(int k, int i){\n",
    "    int c1 = 2, c2 = 4;\n",
    "    return (hash_divisao(k) + c1*i + c2*i*i ) % tamHash();\n",
    "}"
   ]
  },
  {
   "cell_type": "markdown",
   "metadata": {},
   "source": [
    "A função hash com disperção por hash duplo é implementada por: `h(k, i) = (h1(k) + i*h2(k)) mod m` "
   ]
  },
  {
   "cell_type": "code",
   "execution_count": 8,
   "metadata": {},
   "outputs": [],
   "source": [
    "int hash_duplo(int k, int i){\n",
    "    int c1 = 2, c2 = 4;\n",
    "    return (hash_divisao(k) + i*hash_2_divisao(k)) % tamHash();\n",
    "}"
   ]
  },
  {
   "cell_type": "markdown",
   "metadata": {},
   "source": [
    "Função para iniciar todos os elementos da tabela hash."
   ]
  },
  {
   "cell_type": "code",
   "execution_count": 9,
   "metadata": {},
   "outputs": [],
   "source": [
    "void inicia(char tabela[][10]){\n",
    "    for (int i = 0; i < tamHash(); i ++)\n",
    "        tabela[i][0] = '\\0';\n",
    "}"
   ]
  },
  {
   "cell_type": "markdown",
   "metadata": {},
   "source": [
    "Função que converte um caracter ASCII para um índice numérico, que será a chave da string. Leva em consideração letras maiúsculas do alfabeto."
   ]
  },
  {
   "cell_type": "code",
   "execution_count": 10,
   "metadata": {},
   "outputs": [],
   "source": [
    "int char_to_chave(char chr){\n",
    "    char c = toupper(chr);\n",
    "    return c - A_ASCII;\n",
    "}"
   ]
  },
  {
   "cell_type": "markdown",
   "metadata": {},
   "source": [
    "Imprime os elementos da tabela Hash."
   ]
  },
  {
   "cell_type": "code",
   "execution_count": 11,
   "metadata": {},
   "outputs": [],
   "source": [
    "void imprime(char tabela[][10]){\n",
    "    cout << endl << endl;\n",
    "    for (int i = 0; i < tamHash(); i ++)\n",
    "        cout << i << ':' << tabela[i] << \".\";\n",
    "}"
   ]
  },
  {
   "cell_type": "markdown",
   "metadata": {},
   "source": [
    "Inclui um elemento na tabela Hash. Os elementos com colisão serão incluídos na próxima posição livre, de acordo com a técnica de dispersão escolhida: linear, quadrática ou hash duplo. \n",
    "\n",
    "Cada método de dispersão também poderia ser implementado em funções separadas."
   ]
  },
  {
   "cell_type": "code",
   "execution_count": 12,
   "metadata": {},
   "outputs": [],
   "source": [
    "void inclui (char tabelaHash[][10], const char *valor, Dispersao dispersao) {\n",
    "    int i = 0, j;\n",
    "    int chave = char_to_chave(valor[0]);\n",
    "    do {\n",
    "        if (dispersao == LINEAR)\n",
    "            j = hash_linear(chave, i);\n",
    "        else \n",
    "        if (dispersao == QUADRATICA)\n",
    "            j = hash_quadratico(chave, i);\n",
    "        else\n",
    "            j = hash_duplo(chave, i);\n",
    "        if (tabelaHash[j][0] == '\\0') {\n",
    "            strcpy(tabelaHash[j], valor);\n",
    "            return;\n",
    "        }        \n",
    "        i = i + 1;\n",
    "    } while (i < tamHash());\n",
    "    cout << \"\\nTabela cheia, valor não incluído\";\n",
    "}"
   ]
  },
  {
   "cell_type": "markdown",
   "metadata": {},
   "source": [
    "Busca um elemento na tabela Hash. Calcula o valor do índice usando a função Hash e retorna o elemento na posição da tabela."
   ]
  },
  {
   "cell_type": "code",
   "execution_count": 13,
   "metadata": {},
   "outputs": [],
   "source": [
    "char *busca (char tabelaHash[][10], char chave, Dispersao dispersao){\n",
    "    int i = 0, j;\n",
    "    char *retorno = (char *)malloc (sizeof (char)); retorno[0] = '\\0';\n",
    "    int chaveInt = char_to_chave(chave);\n",
    "    do {\n",
    "        if (dispersao == LINEAR) \n",
    "            j = hash_linear(chaveInt, i);\n",
    "        else\n",
    "        if (dispersao == QUADRATICA)\n",
    "            j = hash_quadratico(chaveInt, i);\n",
    "        else\n",
    "            j = hash_duplo(chaveInt, i);\n",
    "        if (tabelaHash[j][0] == chave)\n",
    "            return tabelaHash[j];\n",
    "        i = i + 1;\n",
    "    } while (i < tamHash() && tabelaHash[j][0] != '\\0');\n",
    "    return retorno;\n",
    "}"
   ]
  },
  {
   "cell_type": "markdown",
   "metadata": {},
   "source": [
    "Inclui e busca elementos desta tabela Hash, com tratamento de colisões usando o **método de endereçamento aberto**, dispersão **linear** ou **quadrática**.\n",
    "\n",
    "Não foi implementada função para exclusão. A exclusão de elementos poderia ser implementada apenas se um elemento excluído fique marcado como __excluido__, para que a busca funcione corretamente."
   ]
  },
  {
   "cell_type": "code",
   "execution_count": 14,
   "metadata": {},
   "outputs": [],
   "source": [
    "void iniciaprograma(){\n",
    "    \n",
    "    int t = tamHash();\n",
    "    char tabelaHash[t][10];\n",
    "    inicia(tabelaHash);\n",
    "    \n",
    "    inclui(tabelaHash, \"Ariel\", LINEAR);\n",
    "    inclui(tabelaHash, \"Lucas\", LINEAR);\n",
    "    inclui(tabelaHash, \"Rafael\", LINEAR);\n",
    "    inclui(tabelaHash, \"Pamela\", LINEAR);\n",
    "    inclui(tabelaHash, \"Tamara\", LINEAR);\n",
    "    inclui(tabelaHash, \"Val\", LINEAR);\n",
    "    inclui(tabelaHash, \"Claus\", LINEAR);\n",
    "    inclui(tabelaHash, \"Sonia\", LINEAR);\n",
    "    inclui(tabelaHash, \"Sonia2\", LINEAR);\n",
    "    inclui(tabelaHash, \"Bruno\", LINEAR);\n",
    "    \n",
    "    imprime(tabelaHash);\n",
    "    \n",
    "    cout << endl;\n",
    "    cout << \"\\n\" << busca(tabelaHash, 'R', LINEAR);\n",
    "    cout << \"\\n\" << busca(tabelaHash, 'P', LINEAR);\n",
    "    cout << \"\\n\" << busca(tabelaHash, 'K', LINEAR);\n",
    "    cout << \"\\n\" << busca(tabelaHash, 'C', LINEAR);\n",
    "    cout << \"\\n\" << busca(tabelaHash, 'B', LINEAR);\n",
    "        \n",
    "    cout << \"\\n\\n------------------------------------\";\n",
    "    cout << \"\\nMESMO CONJUNTO DE OPERAÇÕES, COM DISPERSÃO QUADRÁTICA\";\n",
    "\n",
    "    inicia(tabelaHash);\n",
    "    \n",
    "    inclui(tabelaHash, \"Ariel\", QUADRATICA);\n",
    "    inclui(tabelaHash, \"Lucas\", QUADRATICA);\n",
    "    inclui(tabelaHash, \"Rafael\", QUADRATICA);\n",
    "    inclui(tabelaHash, \"Pamela\", QUADRATICA);\n",
    "    inclui(tabelaHash, \"Tamara\", QUADRATICA);\n",
    "    inclui(tabelaHash, \"Val\", QUADRATICA);\n",
    "    inclui(tabelaHash, \"Claus\", QUADRATICA);\n",
    "    inclui(tabelaHash, \"Sonia\", QUADRATICA);\n",
    "    inclui(tabelaHash, \"Sonia2\", QUADRATICA);\n",
    "    inclui(tabelaHash, \"Bruno\", QUADRATICA);\n",
    "    \n",
    "    imprime(tabelaHash);\n",
    "    \n",
    "    cout << endl;\n",
    "    cout << \"\\n\" << busca(tabelaHash, 'R', QUADRATICA);\n",
    "    cout << \"\\n\" << busca(tabelaHash, 'P', QUADRATICA);\n",
    "    cout << \"\\n\" << busca(tabelaHash, 'K', QUADRATICA);\n",
    "    cout << \"\\n\" << busca(tabelaHash, 'C', QUADRATICA);\n",
    "    cout << \"\\n\" << busca(tabelaHash, 'B', QUADRATICA);\n",
    "    \n",
    "cout << \"\\n\\n------------------------------------\";\n",
    "    cout << \"\\nMESMO CONJUNTO DE OPERAÇÕES, COM HASH DUPLO\";\n",
    "\n",
    "    inicia(tabelaHash);\n",
    "    \n",
    "    inclui(tabelaHash, \"Ariel\", HASH_DUPLO);\n",
    "    inclui(tabelaHash, \"Lucas\", HASH_DUPLO);\n",
    "    inclui(tabelaHash, \"Rafael\", HASH_DUPLO);\n",
    "    inclui(tabelaHash, \"Pamela\", HASH_DUPLO);\n",
    "    inclui(tabelaHash, \"Tamara\", HASH_DUPLO);\n",
    "    inclui(tabelaHash, \"Val\", HASH_DUPLO);\n",
    "    inclui(tabelaHash, \"Claus\", HASH_DUPLO);\n",
    "    inclui(tabelaHash, \"Sonia\", HASH_DUPLO);\n",
    "    inclui(tabelaHash, \"Sonia2\", HASH_DUPLO);\n",
    "    inclui(tabelaHash, \"Bruno\", HASH_DUPLO);\n",
    "    \n",
    "    imprime(tabelaHash);\n",
    "    \n",
    "    cout << endl;\n",
    "    cout << \"\\n\" << busca(tabelaHash, 'R', HASH_DUPLO);\n",
    "    cout << \"\\n\" << busca(tabelaHash, 'P', HASH_DUPLO);\n",
    "    cout << \"\\n\" << busca(tabelaHash, 'K', HASH_DUPLO);\n",
    "    cout << \"\\n\" << busca(tabelaHash, 'C', HASH_DUPLO);\n",
    "    cout << \"\\n\" << busca(tabelaHash, 'B', HASH_DUPLO);    \n",
    "    \n",
    "    \n",
    "}"
   ]
  },
  {
   "cell_type": "code",
   "execution_count": 15,
   "metadata": {},
   "outputs": [
    {
     "name": "stdout",
     "output_type": "stream",
     "text": [
      "\n",
      "\n",
      "0:Ariel.1:Tamara.2:Val.3:Claus.4:Sonia2.5:Bruno.6:.7:.8:.9:.10:.11:Lucas.12:.13:.14:.15:Pamela.16:.17:Rafael.18:Sonia.\n",
      "\n",
      "Rafael\n",
      "Pamela\n",
      "\n",
      "Claus\n",
      "Bruno\n",
      "\n",
      "------------------------------------\n",
      "MESMO CONJUNTO DE OPERAÇÕES, COM DISPERSÃO QUADRÁTICA\n",
      "\n",
      "0:Ariel.1:Bruno.2:Val.3:.4:.5:Sonia2.6:Tamara.7:.8:Claus.9:.10:.11:Lucas.12:.13:.14:.15:Pamela.16:.17:Rafael.18:Sonia.\n",
      "\n",
      "Rafael\n",
      "Pamela\n",
      "\n",
      "Claus\n",
      "Bruno\n",
      "\n",
      "------------------------------------\n",
      "MESMO CONJUNTO DE OPERAÇÕES, COM HASH DUPLO\n",
      "\n",
      "0:Ariel.1:Sonia2.2:Val.3:Tamara.4:.5:Claus.6:.7:Bruno.8:.9:.10:.11:Lucas.12:.13:.14:.15:Pamela.16:.17:Rafael.18:Sonia.\n",
      "\n",
      "Rafael\n",
      "Pamela\n",
      "\n",
      "Claus\n",
      "Bruno"
     ]
    }
   ],
   "source": [
    "iniciaprograma();"
   ]
  }
 ],
 "metadata": {
  "kernelspec": {
   "display_name": "C++14",
   "language": "C++14",
   "name": "xcpp14"
  },
  "language_info": {
   "codemirror_mode": "text/x-c++src",
   "file_extension": ".cpp",
   "mimetype": "text/x-c++src",
   "name": "c++",
   "version": "14"
  }
 },
 "nbformat": 4,
 "nbformat_minor": 4
}

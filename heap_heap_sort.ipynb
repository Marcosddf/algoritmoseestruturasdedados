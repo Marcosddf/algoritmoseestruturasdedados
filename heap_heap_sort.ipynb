{
 "cells": [
  {
   "cell_type": "markdown",
   "metadata": {},
   "source": [
    "## HEAP - HeapSort\n",
    "\n",
    "O código abaixo implementa o TAD HEAP, com um conjunto de funções, e o algoritmo HeapSort, usand a estrutura e funções implementadas. Esta implementação suporta um HEAP estático com 10 posições.\n",
    "\n",
    "Um heap é uma representação em vetor de uma árvore binária quase completa. A ordenação dos elementos segue a propriedade **max heap** (heap máximo) ou **min heap** (heap mínimo).\n",
    "\n",
    "**Max heap**: A[pai(i)] >= A[i] : o maior elemento é a raiz.\n",
    "\n",
    "**Min heap**: A[pai(i)] <= A[i] : o menor elemento é a raiz.\n"
   ]
  },
  {
   "cell_type": "code",
   "execution_count": 1,
   "metadata": {},
   "outputs": [],
   "source": [
    "#include <iostream>\n",
    "#include <stdlib.h> \n",
    "using namespace std;\n",
    "\n",
    "#define ARRAY_SIZE 10;"
   ]
  },
  {
   "cell_type": "markdown",
   "metadata": {},
   "source": [
    "Dado um HEAP e o índice de um elemento, esta função retorna o **índice** do elemento pai."
   ]
  },
  {
   "cell_type": "code",
   "execution_count": 2,
   "metadata": {},
   "outputs": [],
   "source": [
    "int pai(int i){\n",
    "    if (i > 0)\n",
    "        return (i-1)/2;\n",
    "    else\n",
    "        return -1;\n",
    "}"
   ]
  },
  {
   "cell_type": "markdown",
   "metadata": {},
   "source": [
    "Esta função retorna o **índice** do elemento da esquerda."
   ]
  },
  {
   "cell_type": "code",
   "execution_count": 3,
   "metadata": {},
   "outputs": [],
   "source": [
    "int esq(int i){\n",
    "    return 2*i+1;\n",
    "}"
   ]
  },
  {
   "cell_type": "markdown",
   "metadata": {},
   "source": [
    "Esta função retorna o **índice** do elemento da direita."
   ]
  },
  {
   "cell_type": "code",
   "execution_count": 4,
   "metadata": {},
   "outputs": [],
   "source": [
    "int dir(int i){\n",
    "    return 2*i+2;\n",
    "}"
   ]
  },
  {
   "cell_type": "markdown",
   "metadata": {},
   "source": [
    "Esta função retorna o **índice** de um elemento, dado o seu valor. Não faz parte de funções padrão de HEAPs, é usada para facilitar a apresentação dos resultados."
   ]
  },
  {
   "cell_type": "code",
   "execution_count": 5,
   "metadata": {},
   "outputs": [],
   "source": [
    "int get_indice(int A[], int valor) {\n",
    "    int tamHeap = ARRAY_SIZE;\n",
    "    for (int i=0; i < tamHeap; i++)\n",
    "        if (valor == A[i])\n",
    "            return i;\n",
    "    return -1;\n",
    "}"
   ]
  },
  {
   "cell_type": "markdown",
   "metadata": {},
   "source": [
    "Retorna o tamanho do vetor do HEAP. Nesta implementação o tamanho é fixo."
   ]
  },
  {
   "cell_type": "code",
   "execution_count": 6,
   "metadata": {},
   "outputs": [],
   "source": [
    "int tam(){\n",
    "    return ARRAY_SIZE;\n",
    "}"
   ]
  },
  {
   "cell_type": "markdown",
   "metadata": {},
   "source": [
    "Imprime os elementos do vetor do HEAP."
   ]
  },
  {
   "cell_type": "code",
   "execution_count": 7,
   "metadata": {},
   "outputs": [],
   "source": [
    "void imprime(const char *msg, int A[], int tamHeap){\n",
    "    cout << msg;\n",
    "    for (int i = 0; i < tamHeap; i ++)\n",
    "        cout << A[i] << \".\";\n",
    "}"
   ]
  },
  {
   "cell_type": "markdown",
   "metadata": {},
   "source": [
    "Executa percurso em pré-ordem no Heap. "
   ]
  },
  {
   "cell_type": "code",
   "execution_count": 8,
   "metadata": {},
   "outputs": [],
   "source": [
    "void preordem(int A[], int indice, int tamHeap){\n",
    "    if (indice < tamHeap){\n",
    "        cout << A[indice] << \".\";\n",
    "        preordem(A, esq(indice),tamHeap);\n",
    "        preordem(A, dir(indice),tamHeap);\n",
    "    }\n",
    "}"
   ]
  },
  {
   "cell_type": "markdown",
   "metadata": {},
   "source": [
    "Troca dois elementos do vetor, de acordo com os índices passados como parâmetro."
   ]
  },
  {
   "cell_type": "code",
   "execution_count": 9,
   "metadata": {},
   "outputs": [],
   "source": [
    "void troca(int A[], int i, int j){    \n",
    "    int aux = A[i];\n",
    "    A[i] = A[j];\n",
    "    A[j] = aux;\n",
    "}"
   ]
  },
  {
   "cell_type": "markdown",
   "metadata": {},
   "source": [
    "Esta função ajusta para que fique de acordo com a propriedade *max heap*. A função assume que a subárvore já está seguindo a propriedade max heap."
   ]
  },
  {
   "cell_type": "code",
   "execution_count": 10,
   "metadata": {},
   "outputs": [],
   "source": [
    "void max_heapify(int A[], int i, int tamHeap){\n",
    "    int e = esq(i), d = dir(i);\n",
    "    int maior;\n",
    "    if (e < tamHeap && A[e] > A[i])\n",
    "        maior = e;\n",
    "    else\n",
    "        maior = i;\n",
    "    if (d < tamHeap && A[d] > A[maior])\n",
    "        maior = d;\n",
    "    if (maior  != i){\n",
    "        troca(A, i, maior);\n",
    "        max_heapify(A, maior, tamHeap);\n",
    "    }        \n",
    "}"
   ]
  },
  {
   "cell_type": "markdown",
   "metadata": {},
   "source": [
    "Função max_heapify iterativa. Segue o mesmo principio das comparações da função anterior. "
   ]
  },
  {
   "cell_type": "code",
   "execution_count": 11,
   "metadata": {},
   "outputs": [],
   "source": [
    "void max_heapifyIterativo(int A[], int i, int tamHeap){\n",
    "    int maior; int e, d;\n",
    "    while ((2*i)+1 <= tamHeap) {  \n",
    "        e = esq(i);\n",
    "        d = dir(i);\n",
    "        if (e < tamHeap && A[e] > A[i])\n",
    "            maior = e;\n",
    "        else\n",
    "            maior = i;\n",
    "        if (d < tamHeap && A[d] > A[maior])\n",
    "            maior = d;\n",
    "        if (maior != i){\n",
    "            troca(A, i, maior);\n",
    "            i = maior;\n",
    "        }\n",
    "        else \n",
    "            i = tamHeap;\n",
    "    }\n",
    "}"
   ]
  },
  {
   "cell_type": "markdown",
   "metadata": {},
   "source": [
    "Constroi um heap máximo a partir de um vetor de inteiros desordenado."
   ]
  },
  {
   "cell_type": "code",
   "execution_count": 12,
   "metadata": {},
   "outputs": [],
   "source": [
    "void constroi_max_heap(int A[], int tamHeap){\n",
    "    int indice = (tamHeap-1)/2;\n",
    "    for (int i=indice; i>=0; i--){\n",
    "        //max_heapifyIterativo(A,i,tamHeap);\n",
    "        max_heapify(A,i, tamHeap);\n",
    "    }\n",
    "}"
   ]
  },
  {
   "cell_type": "markdown",
   "metadata": {},
   "source": [
    "Retorna o valor máximo do heap, i.e., o valor do primeiro elemento."
   ]
  },
  {
   "cell_type": "code",
   "execution_count": 13,
   "metadata": {},
   "outputs": [],
   "source": [
    "int maximo(int A[]){\n",
    "    return A[0];\n",
    "}"
   ]
  },
  {
   "cell_type": "markdown",
   "metadata": {},
   "source": [
    "Extrai o primeiro elemento (retira do heap), atribui o valor do último elemento para o primeiro e executa o max heapify."
   ]
  },
  {
   "cell_type": "code",
   "execution_count": 14,
   "metadata": {},
   "outputs": [],
   "source": [
    "int extrai_max(int A[], int *tamHeap){\n",
    "    int max = -1;\n",
    "    if ((*tamHeap) >= 0) {\n",
    "        max = A[0];\n",
    "        troca(A,0,(*tamHeap)-1);\n",
    "        (*tamHeap) --;\n",
    "        max_heapify(A,0,(*tamHeap));\n",
    "    }\n",
    "    return max;\n",
    "}"
   ]
  },
  {
   "cell_type": "markdown",
   "metadata": {},
   "source": [
    "Aumenta o valor de uma chave de um determinado nó e posiciona a chave corretamente no heap."
   ]
  },
  {
   "cell_type": "code",
   "execution_count": 15,
   "metadata": {},
   "outputs": [],
   "source": [
    "void aumenta_chave(int A[], int i, int novaChave){\n",
    "    if (novaChave > A[i]) {\n",
    "        A[i] = novaChave;\n",
    "        while (i >= 0 && A[pai(i)] < A [i]){\n",
    "            troca(A, i, pai(i));\n",
    "            i = pai(i);\n",
    "        }\n",
    "    }\n",
    "}"
   ]
  },
  {
   "cell_type": "markdown",
   "metadata": {},
   "source": [
    "Inclui nova chave, até o tamanho máximo do vetor estático."
   ]
  },
  {
   "cell_type": "code",
   "execution_count": 16,
   "metadata": {},
   "outputs": [],
   "source": [
    "void inclui (int A[], int chave, int *tamHeap){\n",
    "    int tamMax = ARRAY_SIZE;\n",
    "    if ((*tamHeap) < tamMax){\n",
    "        (*tamHeap)++;\n",
    "        A[(*tamHeap)-1]=-1;\n",
    "        aumenta_chave(A, (*tamHeap)-1, chave);\n",
    "    }\n",
    "    else\n",
    "        cout << \"\\nNão pode incluir nova chave, tamanho do vetor não suportado\\n\";\n",
    "}"
   ]
  },
  {
   "cell_type": "markdown",
   "metadata": {},
   "source": [
    "Implementa o algoritmo **HeapSort**, utilizando as funções previamente implementadas."
   ]
  },
  {
   "cell_type": "code",
   "execution_count": 17,
   "metadata": {},
   "outputs": [],
   "source": [
    "void heap_sort(int A[], int tamHeap){\n",
    "    constroi_max_heap(A, tamHeap);\n",
    "    for (int i=tamHeap-1; i >= 0; i--){\n",
    "        troca(A, 0, i);\n",
    "        tamHeap --; \n",
    "        //max_heapifyIterativo(A,0,tamHeap);\n",
    "        max_heapify(A,0, tamHeap);\n",
    "    }\n",
    "}"
   ]
  },
  {
   "cell_type": "code",
   "execution_count": 18,
   "metadata": {},
   "outputs": [],
   "source": [
    "void iniciaprograma(){\n",
    "    \n",
    "    int tamHeapA = ARRAY_SIZE;\n",
    "    int tamHeapB = ARRAY_SIZE;\n",
    "    int tamHeapD = ARRAY_SIZE;\n",
    "    \n",
    "    int A[10] = {16, 4, 10, 14, 7, 9, 3, 2, 8, 1};   \n",
    "    int B[10] = {4, 7, 10, 14, 9, 3, 8, 2, 1, 16};\n",
    "    int D[10] = {12, 15, 22, 10, 5, 11, 7, 25, 20, 2};\n",
    "    \n",
    "    cout << \"pai 10::\" << A[pai(get_indice(A, 10))];\n",
    "    cout << \"\\npai 9::\" << A[pai(get_indice(A, 9))];\n",
    "    cout << \"\\npai 7::\" << A[pai(get_indice(A, 7))];\n",
    "    \n",
    "    cout << \"\\nesq 16 ::\" << A[esq(get_indice(A, 16))];\n",
    "    cout << \"\\nesq 14 ::\" << A[esq(get_indice(A, 14))];\n",
    "    cout << \"\\nesq 10 ::\" << A[esq(get_indice(A, 10))];    \n",
    "    \n",
    "    cout << \"\\ndir 16 ::\" << A[dir(get_indice(A, 16))];\n",
    "    cout << \"\\ndir 14 ::\" << A[dir(get_indice(A, 14))];\n",
    "    cout << \"\\ndir 10 ::\" << A[dir(get_indice(A, 10))] << \"\\n\";\n",
    "    \n",
    "    A[get_indice(A,4)] = 8;\n",
    "    A[get_indice(A,8)] = 14;\n",
    "    A[get_indice(A,14)] = 4;\n",
    "    \n",
    "    imprime(\"heap A: \\n\", A, tamHeapA);\n",
    "    max_heapify(A,get_indice(A,4), tamHeapA);    \n",
    "    imprime(\"\\nmax heapify de A: \\n\",A, tamHeapA); cout << endl;\n",
    "    \n",
    "    aumenta_chave(A, get_indice(A,7),15);\n",
    "    imprime(\"\\naumenta chave 7 para 15 em A: \\n\",A, tamHeapA); cout << endl;\n",
    "    cout << \"\\nPercurso em pre-ordem\\n\";\n",
    "    preordem(A,0,tamHeapA);\n",
    "    cout << \"\\n\\n\";\n",
    "    extrai_max(A, &tamHeapA);\n",
    "    imprime(\"extrai max de A \\n\", A, tamHeapA);\n",
    "    inclui(A, 12, &tamHeapA);\n",
    "    imprime(\"\\ninclui 12 em A \\n\", A, tamHeapA);\n",
    "    heap_sort(A, tamHeapA);    \n",
    "    imprime(\"\\nheap sort A:\\n\", A, tamHeapA);\n",
    "    \n",
    "    imprime(\"\\nvetor B: \\n\", B, tamHeapB);\n",
    "    constroi_max_heap(B, tamHeapB);\n",
    "    imprime(\"\\nconstroi max heap B:\\n\", B, tamHeapB);\n",
    "    heap_sort(B, tamHeapB);    \n",
    "    imprime(\"\\nheap sort B:\\n\", B, tamHeapB);\n",
    "    heap_sort(D, tamHeapD);    \n",
    "    imprime(\"\\nheap sort D:\\n\", D, tamHeapD);\n",
    "    \n",
    " \n",
    "}"
   ]
  },
  {
   "cell_type": "code",
   "execution_count": 19,
   "metadata": {},
   "outputs": [
    {
     "name": "stdout",
     "output_type": "stream",
     "text": [
      "pai 10::16\n",
      "pai 9::10\n",
      "pai 7::4\n",
      "esq 16 ::4\n",
      "esq 14 ::2\n",
      "esq 10 ::9\n",
      "dir 16 ::10\n",
      "dir 14 ::8\n",
      "dir 10 ::3\n",
      "heap A: \n",
      "16.4.10.14.7.9.3.2.8.1.\n",
      "max heapify de A: \n",
      "16.14.10.8.7.9.3.2.4.1.\n",
      "\n",
      "aumenta chave 7 para 15 em A: \n",
      "16.15.10.8.14.9.3.2.4.1.\n",
      "\n",
      "Percurso em pre-ordem\n",
      "16.15.8.2.4.14.1.10.9.3.\n",
      "\n",
      "extrai max de A \n",
      "15.14.10.8.1.9.3.2.4.\n",
      "inclui 12 em A \n",
      "15.14.10.8.12.9.3.2.4.1.\n",
      "heap sort A:\n",
      "1.2.3.4.8.9.10.12.14.15.\n",
      "vetor B: \n",
      "4.7.10.14.9.3.8.2.1.16.\n",
      "constroi max heap B:\n",
      "16.14.10.4.9.3.8.2.1.7.\n",
      "heap sort B:\n",
      "1.2.3.4.7.8.9.10.14.16.\n",
      "heap sort D:\n",
      "2.5.7.10.11.12.15.20.22.25."
     ]
    }
   ],
   "source": [
    "iniciaprograma();"
   ]
  }
 ],
 "metadata": {
  "kernelspec": {
   "display_name": "C++14",
   "language": "C++14",
   "name": "xcpp14"
  },
  "language_info": {
   "codemirror_mode": "text/x-c++src",
   "file_extension": ".cpp",
   "mimetype": "text/x-c++src",
   "name": "c++",
   "version": "14"
  }
 },
 "nbformat": 4,
 "nbformat_minor": 4
}

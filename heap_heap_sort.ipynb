{
 "cells": [
  {
   "cell_type": "markdown",
   "metadata": {},
   "source": [
    "## HEAP - HeapSort\n",
    "\n",
    "O código abaixo implementa o TAD HEAP, com um conjunto de funções, e o algoritmo HeapSort, usand a estrutura e funções implementadas. Esta implementação suporta um HEAP estático com 10 posições.\n",
    "\n",
    "Um heap é uma representação em vetor de uma árvore binária quase completa. A ordenação dos elementos segue a propriedade **max heap** (heap máximo) ou **min heap** (heap mínimo).\n",
    "\n",
    "**Max heap**: A[pai(i)] >= A[i] : o maior elemento é a raiz.\n",
    "\n",
    "**Min heap**: A[pai(i)] <= A[i] : o menor elemento é a raiz.\n"
   ]
  },
  {
   "cell_type": "code",
   "execution_count": 1,
   "metadata": {},
   "outputs": [],
   "source": [
    "#include <iostream>\n",
    "#include <stdlib.h> \n",
    "using namespace std;\n",
    "\n",
    "#define HEAP_SIZE 10;"
   ]
  },
  {
   "cell_type": "markdown",
   "metadata": {},
   "source": [
    "Dado um HEAP e o índice de um elemento, esta função retorna o **índice** do elemento pai."
   ]
  },
  {
   "cell_type": "code",
   "execution_count": 2,
   "metadata": {},
   "outputs": [],
   "source": [
    "int pai(int A[], int i){\n",
    "    if (i > 0)\n",
    "        return (i-1)/2;\n",
    "    else\n",
    "        return -1;\n",
    "}"
   ]
  },
  {
   "cell_type": "markdown",
   "metadata": {},
   "source": [
    "Esta função retorna o **índice** do elemento da esquerda."
   ]
  },
  {
   "cell_type": "code",
   "execution_count": 3,
   "metadata": {},
   "outputs": [],
   "source": [
    "int esq(int A[], int i){\n",
    "    return 2*i+1;\n",
    "}"
   ]
  },
  {
   "cell_type": "markdown",
   "metadata": {},
   "source": [
    "Esta função retorna o **índice** do elemento da direita."
   ]
  },
  {
   "cell_type": "code",
   "execution_count": 4,
   "metadata": {},
   "outputs": [],
   "source": [
    "int dir(int A[], int i){\n",
    "    return 2*i+2;\n",
    "}"
   ]
  },
  {
   "cell_type": "markdown",
   "metadata": {},
   "source": [
    "Esta função retorna o **índice** de um elemento, dado o seu valor. Não faz parte de funções padrão de HEAPs, é usada para facilitar a apresentação dos resultados."
   ]
  },
  {
   "cell_type": "code",
   "execution_count": 5,
   "metadata": {},
   "outputs": [],
   "source": [
    "int get_indice(int A[], int valor) {\n",
    "    for (int i=0; i < 10; i++)\n",
    "        if (valor == A[i])\n",
    "            return i;\n",
    "    return -1;\n",
    "}"
   ]
  },
  {
   "cell_type": "markdown",
   "metadata": {},
   "source": [
    "Retorna o tamanho do HEAP. Nesta implementação o tamanho é fixo."
   ]
  },
  {
   "cell_type": "code",
   "execution_count": 6,
   "metadata": {},
   "outputs": [],
   "source": [
    "int tam(){\n",
    "    return HEAP_SIZE;\n",
    "}"
   ]
  },
  {
   "cell_type": "markdown",
   "metadata": {},
   "source": [
    "Imprime os elementos do vetor do HEAP."
   ]
  },
  {
   "cell_type": "code",
   "execution_count": 7,
   "metadata": {},
   "outputs": [],
   "source": [
    "void imprime(const char *msg, int A[]){\n",
    "    cout << msg;\n",
    "    for (int i = 0; i < 10; i ++)\n",
    "        cout << A[i] << \".\";\n",
    "}"
   ]
  },
  {
   "cell_type": "markdown",
   "metadata": {},
   "source": [
    "Troca dois elementos do vetor, de acordo com os índices passados como parâmetro."
   ]
  },
  {
   "cell_type": "code",
   "execution_count": 8,
   "metadata": {},
   "outputs": [],
   "source": [
    "void troca(int A[], int i, int j){    \n",
    "    int aux = A[i];\n",
    "    A[i] = A[j];\n",
    "    A[j] = aux;\n",
    "}"
   ]
  },
  {
   "cell_type": "markdown",
   "metadata": {},
   "source": [
    "Esta função ajusta para que fique de acordo com a propriedade *max heap*. A função assume que a subárvore já está seguindo a propriedade max heap."
   ]
  },
  {
   "cell_type": "code",
   "execution_count": 9,
   "metadata": {},
   "outputs": [],
   "source": [
    "void max_heapify(int A[], int i, int tamHeap){\n",
    "    int e = esq(A, i), d = dir(A, i);\n",
    "    int maior;\n",
    "    if (e < tamHeap && A[e] > A[i])\n",
    "        maior = e;\n",
    "    else\n",
    "        maior = i;\n",
    "    if (d < tamHeap && A[d] > A[maior])\n",
    "        maior = d;\n",
    "    if (maior  != i){\n",
    "        troca(A, i, maior);\n",
    "        max_heapify(A, maior, tamHeap);\n",
    "    }        \n",
    "}"
   ]
  },
  {
   "cell_type": "markdown",
   "metadata": {},
   "source": [
    "Constroi um heap máximo a partir de um vetor de inteiros desordenado."
   ]
  },
  {
   "cell_type": "code",
   "execution_count": 10,
   "metadata": {},
   "outputs": [],
   "source": [
    "void constroi_max_heap(int A[], int tamHeap){\n",
    "    int indice = (tamHeap-1)/2;\n",
    "    for (int i=indice; i>=0; i--){\n",
    "        max_heapify(A,i, tamHeap);\n",
    "    }\n",
    "}"
   ]
  },
  {
   "cell_type": "markdown",
   "metadata": {},
   "source": [
    "Aumenta o valor de uma chave de um determinado nó e posiciona a chave corretamente no heap."
   ]
  },
  {
   "cell_type": "code",
   "execution_count": 11,
   "metadata": {},
   "outputs": [],
   "source": [
    "void aumenta_chave(int A[], int i, int novaChave){\n",
    "    if (novaChave > A[i]) {\n",
    "        A[i] = novaChave;\n",
    "        while (i > 0 && A[pai(A,i)] < A [i]){\n",
    "            troca(A, i, pai(A,i));\n",
    "            i = pai(A,i);\n",
    "        }\n",
    "    }\n",
    "}"
   ]
  },
  {
   "cell_type": "markdown",
   "metadata": {},
   "source": [
    "Implementa o algoritmo **HeapSort**, utilizando as funções previamente implementadas."
   ]
  },
  {
   "cell_type": "code",
   "execution_count": 12,
   "metadata": {},
   "outputs": [],
   "source": [
    "void heap_sort(int A[]){\n",
    "    int tamHeap = tam();\n",
    "    constroi_max_heap(A, tamHeap);\n",
    "    for (int i=tam()-1; i >= 0; i--){\n",
    "        troca(A, 0, i);\n",
    "        tamHeap --; \n",
    "        max_heapify(A,0, tamHeap);\n",
    "    }\n",
    "}"
   ]
  },
  {
   "cell_type": "code",
   "execution_count": 13,
   "metadata": {},
   "outputs": [],
   "source": [
    "void iniciaprograma(){\n",
    "    \n",
    "    int tamHeap = HEAP_SIZE;\n",
    "    \n",
    "    //int A[10] = {16, 14, 10, 8, 7, 9, 3, 2, 4, 1};    \n",
    "    int A[10] = {16, 4, 10, 14, 7, 9, 3, 2, 8, 1};   \n",
    "    int B[10] = {4, 7, 10, 14, 9, 3, 8, 2, 1, 16};\n",
    "    int D[10] = {12, 15, 22, 10, 5, 11, 7, 25, 20, 2};\n",
    "    \n",
    "    cout << \"pai 10::\" << A[pai(A, get_indice(A, 10))];\n",
    "    cout << \"\\npai 9::\" << A[pai(A, get_indice(A, 9))];\n",
    "    cout << \"\\npai 7::\" << A[pai(A, get_indice(A, 7))];\n",
    "    \n",
    "    cout << \"\\nesq 16 ::\" << A[esq(A, get_indice(A, 16))];\n",
    "    cout << \"\\nesq 14 ::\" << A[esq(A, get_indice(A, 14))];\n",
    "    cout << \"\\nesq 10 ::\" << A[esq(A, get_indice(A, 10))];    \n",
    "    \n",
    "    cout << \"\\ndir 16 ::\" << A[dir(A, get_indice(A, 16))];\n",
    "    cout << \"\\ndir 14 ::\" << A[dir(A, get_indice(A, 14))];\n",
    "    cout << \"\\ndir 10 ::\" << A[dir(A, get_indice(A, 10))] << \"\\n\";\n",
    "    \n",
    "    A[get_indice(A,4)] = 8;\n",
    "    A[get_indice(A,8)] = 14;\n",
    "    A[get_indice(A,14)] = 4;\n",
    "    \n",
    "    imprime(\"heap A: \\n\", A);\n",
    "    max_heapify(A,get_indice(A,4), tamHeap);    \n",
    "    imprime(\"\\nmax heapify de A: \\n\",A); cout << endl;\n",
    "    \n",
    "    aumenta_chave(A, get_indice(A,7),15);\n",
    "    imprime(\"\\naumenta chave 7 para 15 em A: \\n\",A); cout << endl;\n",
    "    \n",
    "    imprime(\"vetor B: \\n\", B);\n",
    "    constroi_max_heap(B, tamHeap);\n",
    "    imprime(\"\\nconstroi max heap B:\\n\", B);\n",
    "    heap_sort(B);    \n",
    "    imprime(\"\\nheap sort B:\\n\", B);\n",
    "    heap_sort(D);    \n",
    "    imprime(\"\\nheap sort D:\\n\", D);\n",
    "    \n",
    " \n",
    "}"
   ]
  },
  {
   "cell_type": "code",
   "execution_count": 14,
   "metadata": {},
   "outputs": [
    {
     "name": "stdout",
     "output_type": "stream",
     "text": [
      "pai 10::16\n",
      "pai 9::10\n",
      "pai 7::4\n",
      "esq 16 ::4\n",
      "esq 14 ::2\n",
      "esq 10 ::9\n",
      "dir 16 ::10\n",
      "dir 14 ::8\n",
      "dir 10 ::3\n",
      "heap A: \n",
      "16.4.10.14.7.9.3.2.8.1.\n",
      "max heapify de A: \n",
      "16.14.10.8.7.9.3.2.4.1.\n",
      "\n",
      "aumenta chave 7 para 15 em A: \n",
      "16.15.10.8.14.9.3.2.4.1.\n",
      "vetor B: \n",
      "4.7.10.14.9.3.8.2.1.16.\n",
      "constroi max heap B:\n",
      "16.14.10.4.9.3.8.2.1.7.\n",
      "heap sort B:\n",
      "1.2.3.4.7.8.9.10.14.16.\n",
      "heap sort D:\n",
      "2.5.7.10.11.12.15.20.22.25."
     ]
    }
   ],
   "source": [
    "iniciaprograma();"
   ]
  }
 ],
 "metadata": {
  "kernelspec": {
   "display_name": "C++14",
   "language": "C++14",
   "name": "xcpp14"
  },
  "language_info": {
   "codemirror_mode": "text/x-c++src",
   "file_extension": ".cpp",
   "mimetype": "text/x-c++src",
   "name": "c++",
   "version": "14"
  }
 },
 "nbformat": 4,
 "nbformat_minor": 4
}

{
 "cells": [
  {
   "cell_type": "markdown",
   "metadata": {},
   "source": [
    "## Tipo Abstrato de Dado (TAD) árvore Rubro Negra (RedBlack)\n",
    "\n",
    "O código abaixo ilustra uma árvore Red-Black (Rubro Negra).\n",
    "\n",
    "Uma árvore Red Black é uma árvore binária de busca com as 5 propriedades abaixo:\n",
    "\n",
    "1. todo nó ou é preto ou é vermelho\n",
    "2. a raiz é preta. \n",
    "3. todo nó folha é preto (e NULO)\n",
    "4. se um nó é vermelho seus dois filhos são pretos \n",
    "5. todo caminho de um nó até um nó externo contém o mesmo número de nós pretos\n",
    "\n",
    "O código abaixo utiliza **nós nulos na implementação**, frequentemente encontrada na literatura. O notebook deste link https://github.com/Marcosddf/algoritmoseestruturasdedados/blob/master/arvore_red_black.ipynb possui uma implementação alternativa, sem a utilização dos nós nulos.\n",
    "\n",
    "* Cormen, T. H. (2012). Algoritmos: teoria e prática. Rio de Janeiro: Elsevier."
   ]
  },
  {
   "cell_type": "code",
   "execution_count": 1,
   "metadata": {},
   "outputs": [],
   "source": [
    "#include <iostream>\n",
    "#include <stdlib.h> \n",
    "using namespace std;"
   ]
  },
  {
   "cell_type": "markdown",
   "metadata": {},
   "source": [
    "Enumeração com a cor dos nós"
   ]
  },
  {
   "cell_type": "code",
   "execution_count": 2,
   "metadata": {},
   "outputs": [],
   "source": [
    "enum Cor {\n",
    "    VERMELHO = 1, PRETO = 2\n",
    "}"
   ]
  },
  {
   "cell_type": "markdown",
   "metadata": {},
   "source": [
    "Enumeração indicando se é um nó nulo."
   ]
  },
  {
   "cell_type": "code",
   "execution_count": 3,
   "metadata": {},
   "outputs": [],
   "source": [
    "enum TipoNo {\n",
    "    NO, NO_NULO\n",
    "}"
   ]
  },
  {
   "cell_type": "markdown",
   "metadata": {},
   "source": [
    "Estrutura para uma árvore rubro-negra simples.\n",
    "A árvore tem ponteiro para o nó pai."
   ]
  },
  {
   "cell_type": "code",
   "execution_count": 4,
   "metadata": {},
   "outputs": [],
   "source": [
    "struct tNo {\n",
    "    int chave; // pode ser modificado paraqualquer tipo de dado\n",
    "    tNo *esq, *dir, *pai;\n",
    "    Cor cor;\n",
    "    TipoNo tipo;\n",
    "};\n"
   ]
  },
  {
   "cell_type": "markdown",
   "metadata": {},
   "source": [
    "Função para ajustar ponteiro _pai_ da árvore binária, usada na função de exclusão.\n",
    "\n",
    "OBS.: As duas funções abaixo não fazem parte da implementação padrão da árvore red black, mas auxiliam na programção."
   ]
  },
  {
   "cell_type": "code",
   "execution_count": 5,
   "metadata": {},
   "outputs": [],
   "source": [
    "void ajustaNoPai(tNo *no, tNo *novo){\n",
    "    if (no->pai->tipo != NO_NULO) {\n",
    "        if (no->pai->esq == no)                                \n",
    "            no->pai->esq = novo;\n",
    "        else \n",
    "            no->pai->dir = novo;\n",
    "        if (novo != NULL)\n",
    "           novo->pai = no->pai;\n",
    "    } else\n",
    "        novo->pai = no->pai;\n",
    "}"
   ]
  },
  {
   "cell_type": "markdown",
   "metadata": {},
   "source": [
    "Função para ajustar o ponteiro de um nó da árvore. Usado na função de ajuste."
   ]
  },
  {
   "cell_type": "code",
   "execution_count": 6,
   "metadata": {},
   "outputs": [],
   "source": [
    "void ajustaNo(tNo *no, tNo *novo){\n",
    "    if (no->tipo != NO_NULO) {\n",
    "        if (no->esq == no)\n",
    "            no->esq = novo;\n",
    "        else \n",
    "            no->dir = novo;\n",
    "        if (novo != NULL)\n",
    "           novo->pai = no;\n",
    "    } else\n",
    "        novo->pai = no->pai;\n",
    "}"
   ]
  },
  {
   "cell_type": "markdown",
   "metadata": {},
   "source": [
    "Rotação do nó P à esquerda."
   ]
  },
  {
   "cell_type": "code",
   "execution_count": 7,
   "metadata": {},
   "outputs": [],
   "source": [
    "tNo *rotEsquerda(tNo *p){\n",
    "    tNo *q = p->dir;\n",
    "    p->dir = q->esq;\n",
    "    q->pai = p->pai;\n",
    "    p->pai = q;\n",
    "    q->esq->pai = p;\n",
    "    q->esq = p;\n",
    "    return q;\n",
    "}"
   ]
  },
  {
   "cell_type": "markdown",
   "metadata": {},
   "source": [
    "Rotação do nó P à direita."
   ]
  },
  {
   "cell_type": "code",
   "execution_count": 8,
   "metadata": {},
   "outputs": [],
   "source": [
    "tNo* rotDireita(tNo *p){\n",
    "    tNo *q = p->esq;\n",
    "    p->esq = q->dir;\n",
    "    q->pai = p->pai;\n",
    "    p->pai = q;\n",
    "    q->dir->pai = p;\n",
    "    q->dir = p;\n",
    "    return q;\n",
    "}"
   ]
  },
  {
   "cell_type": "markdown",
   "metadata": {},
   "source": [
    "Operação de visita do nó. Neste caso imprime a chave e a cor."
   ]
  },
  {
   "cell_type": "code",
   "execution_count": 9,
   "metadata": {},
   "outputs": [],
   "source": [
    " void visita(tNo *no){\n",
    "    if (no->cor == VERMELHO)\n",
    "        cout << no->chave << \":\"<< \"v\" <<'.' ;\n",
    "    else\n",
    "        cout << no->chave << \":\"<< \"p\" <<'.' ;\n",
    "}"
   ]
  },
  {
   "cell_type": "markdown",
   "metadata": {},
   "source": [
    "Percurso da árvore em **PRÉ-ORDEM**."
   ]
  },
  {
   "cell_type": "code",
   "execution_count": 10,
   "metadata": {},
   "outputs": [],
   "source": [
    "void preordem(tNo *no){\n",
    "    if (no != NULL && no->tipo != NO_NULO){\n",
    "        visita(no);\n",
    "        preordem(no->esq);\n",
    "        preordem(no->dir);\n",
    "    }\n",
    "}"
   ]
  },
  {
   "cell_type": "markdown",
   "metadata": {},
   "source": [
    "Função para inicialização do nó nulo, com alocação de memória e atribuição de valores para os componentes do nó.\n",
    "\n",
    "Nós nulos são sempre **pretos**."
   ]
  },
  {
   "cell_type": "code",
   "execution_count": 11,
   "metadata": {},
   "outputs": [],
   "source": [
    "tNo *criaNoNulo (tNo *pai){\n",
    "    tNo *n = (tNo *)malloc (sizeof (tNo));\n",
    "    n->chave = -99;\n",
    "    n->esq = NULL;\n",
    "    n->dir = NULL;\n",
    "    n->pai = pai; \n",
    "    n->tipo = NO_NULO;\n",
    "    n->cor = PRETO;\n",
    "    return n;\n",
    "}"
   ]
  },
  {
   "cell_type": "markdown",
   "metadata": {},
   "source": [
    "Função para inicialização do nó, com alocação de memória e atribuição de valores para os componentes do nó.\n",
    "\n",
    "De acordo com as regras de inclusão, novos nós são sempre **vermelhos**."
   ]
  },
  {
   "cell_type": "code",
   "execution_count": 12,
   "metadata": {},
   "outputs": [],
   "source": [
    "tNo *criaNo (int chave){\n",
    "    tNo *n = (tNo *)malloc (sizeof (tNo));\n",
    "    n->chave = chave;\n",
    "    n->esq = criaNoNulo(n);\n",
    "    n->dir = criaNoNulo(n);\n",
    "    n->pai = criaNoNulo(n); \n",
    "    n->tipo = NO;\n",
    "    n->cor = VERMELHO;\n",
    "    return n;\n",
    "}"
   ]
  },
  {
   "cell_type": "markdown",
   "metadata": {},
   "source": [
    "Função de ajuste após a inclusão de um nó em uma árvore red black. \n",
    "\n",
    "Dado um nó *N* **vermelho**, o ajuste é feito caso a cor do nó pai seja **vermelho**.\n",
    "\n",
    "A função de ajuste tem 3 casos _simétricos_ para cada lado (3 para a esquerda e 3 para a direita):\n",
    "1. tio é vermelho\n",
    "2. tio é preto e o novo nó e filho direito (esq-dir)\n",
    "3. tio é preto e o novo nó e filho direito (esq-dir)\n"
   ]
  },
  {
   "cell_type": "code",
   "execution_count": 13,
   "metadata": {},
   "outputs": [],
   "source": [
    "tNo *ajustaInclusao (tNo *no, tNo *raiz){\n",
    "    tNo *tio = NULL, *noAsc = NULL; //no para armazenar o tio e o nó da árvore ascendente anterior \n",
    "    while (no->pai->cor == VERMELHO){\n",
    "        if (no->pai == no->pai->pai->esq){//sub arvore da esquerda\n",
    "            tio = no->pai->pai->dir;\n",
    "            if (tio->cor == VERMELHO){ // caso 1: tio (direita do avô) é vermelho\n",
    "                no->pai->cor = PRETO;\n",
    "                tio->cor = PRETO;\n",
    "                no->pai->pai->cor = VERMELHO;\n",
    "                no = no->pai->pai;\n",
    "            } else { //caso 2: tio é preto e o novo nó e filho direito\n",
    "                 if (no == no->pai->dir){\n",
    "                     no = no->pai;\n",
    "                     noAsc = no->pai;\n",
    "                     noAsc->esq = rotEsquerda(no);\n",
    "                } //caso 3: tio é preto e novo nó e filho esquerdo\n",
    "                no->pai->cor = PRETO;\n",
    "                no->pai->pai->cor = VERMELHO;\n",
    "                noAsc = no->pai->pai->pai; //arvore ascendente\n",
    "                tNo *novoAvo = rotDireita(no->pai->pai);\n",
    "                ajustaNo(noAsc, novoAvo);\n",
    "                if (novoAvo->pai->tipo == NO_NULO)\n",
    "                    raiz = novoAvo;            \n",
    "            }\n",
    "        } \n",
    "        else { //sub arvore da direita. Mesmo princípio do código acima, porém com ponteiros (esq-dir) \"trocados\"\n",
    "            tio = no->pai->pai->esq;\n",
    "            if (tio->cor == VERMELHO){ //caso 2:\n",
    "                no->pai->cor = PRETO;\n",
    "                tio->cor = PRETO;\n",
    "                no->pai->pai->cor = VERMELHO;\n",
    "                no = no->pai->pai;\n",
    "            } else {\n",
    "                 if (no == no->pai->esq){\n",
    "                     no = no->pai;\n",
    "                     noAsc = no->pai;\n",
    "                     noAsc->dir = rotDireita(no);\n",
    "                }\n",
    "                no->pai->cor = PRETO;\n",
    "                no->pai->pai->cor = VERMELHO;\n",
    "                noAsc = no->pai->pai->pai; //arvore ascendente\n",
    "                tNo *novoAvo = rotEsquerda(no->pai->pai);\n",
    "                ajustaNo(noAsc, novoAvo);\n",
    "                if (novoAvo->pai->tipo == NO_NULO)\n",
    "                    raiz = novoAvo;            \n",
    "            }           \n",
    "        } \n",
    "    }\n",
    "    raiz->cor = PRETO;\n",
    "    return raiz;\n",
    "}"
   ]
  },
  {
   "cell_type": "markdown",
   "metadata": {},
   "source": [
    "Funcão iterativa para inclusão de novo nó na árvore, dado um nó raiz.\n",
    "\n",
    "Após a inclusão, chama a função de ajuste."
   ]
  },
  {
   "cell_type": "code",
   "execution_count": 14,
   "metadata": {},
   "outputs": [],
   "source": [
    "tNo* inclui (tNo *no, int c, tNo *r){\n",
    "    tNo *novoNo;\n",
    "    if (no == NULL) { //inclui na raiz\n",
    "        novoNo = criaNo(c);\n",
    "        novoNo->cor = PRETO;\n",
    "        return novoNo;\n",
    "    }\n",
    "    tNo *pai, *raiz = r;\n",
    "    while (no->tipo != NO_NULO)  {\n",
    "        pai = no;\n",
    "        if ( c < no->chave)\n",
    "            no = no->esq;\n",
    "        else\n",
    "            no = no->dir;\n",
    "    }\n",
    "    novoNo = criaNo(c);\n",
    "    if (c < pai->chave)\n",
    "        pai->esq = novoNo;\n",
    "    else\n",
    "        pai->dir = novoNo;\n",
    "    novoNo->pai = pai;\n",
    "    raiz = ajustaInclusao(novoNo, raiz);\n",
    "    return raiz;        \n",
    "}"
   ]
  },
  {
   "cell_type": "markdown",
   "metadata": {},
   "source": [
    "Função que retorna o nó mínimo de uma sub-árvore. O nó mínimo de uma subárvore é o nó com a menor chave."
   ]
  },
  {
   "cell_type": "code",
   "execution_count": 15,
   "metadata": {},
   "outputs": [],
   "source": [
    "tNo *min(tNo *no){\n",
    "    if (no->esq->tipo == NO_NULO) return no;\n",
    "    else\n",
    "        return min(no->esq);\n",
    "}"
   ]
  },
  {
   "cell_type": "markdown",
   "metadata": {},
   "source": [
    "Função que retorna o nó sucessor de um determinado nó. A chave do nó deverá ser o valor imediatamente superior, em ordem crescente. \n",
    "\n",
    "As funções do antecessor e máximo possuem ideia semelhante as do sucessor e mínimo, porém para o lado contrário da árvore."
   ]
  },
  {
   "cell_type": "code",
   "execution_count": 16,
   "metadata": {},
   "outputs": [],
   "source": [
    "tNo *sucessor (tNo *no){\n",
    "    tNo *s = NULL;\n",
    "    if (no->dir->tipo != NO_NULO) return min (no->dir);\n",
    "    else {\n",
    "        s = no->pai;\n",
    "        while (s->tipo != NO_NULO && no == s->dir) {\n",
    "            no = s;\n",
    "            s = s->pai;\n",
    "        }        \n",
    "    }\n",
    "    return s;\n",
    "}"
   ]
  },
  {
   "cell_type": "markdown",
   "metadata": {},
   "source": [
    "Função de ajuste após a exclusão de um nó. A função de ajuste possui 4 casos _simétricos_ para cada sub-árvore (4 para a esquerda e 4 para a direita).\n",
    "\n",
    "1. O irmão (w) do nó (n) é vermelho \n",
    "2. O irmão da direita (d) é preto, e os dois filhos de (d) são pretos\n",
    "3. irmão da direita (d) é preto, \n",
    "    e o filho direito de (d) é preto e o filho esquerdo de (d) é vermelho\n",
    "4.  irmão da direita (d) é preto, \n",
    "    e o filho direito de (d) é vermelho\n",
    "    \n",
    "Esta implementação utiliza explicitamente os **nós nulos**."
   ]
  },
  {
   "cell_type": "code",
   "execution_count": 17,
   "metadata": {},
   "outputs": [],
   "source": [
    "tNo *ajustaExclusao (tNo *no, tNo *raiz){\n",
    "    tNo *noAsc, *noAux;\n",
    "    tNo *irmao;\n",
    "    while (no != raiz && no->cor == PRETO){\n",
    "        if (no == no->pai->esq) {//sub-árvore da esquerda\n",
    "            irmao = no->pai->dir;\n",
    "            if (irmao->cor == VERMELHO) {//caso 1\n",
    "                cout << \"caso 1 - esq\\n\";\n",
    "                irmao->cor = PRETO;\n",
    "                no->pai->cor = VERMELHO;\n",
    "                noAsc = no->pai->pai;\n",
    "                noAux = rotEsquerda(no->pai);\n",
    "                ajustaNo(noAsc, noAux);\n",
    "                if (noAsc->tipo == NO_NULO) raiz = noAux;\n",
    "                irmao = no->pai->dir;\n",
    "            }\n",
    "            if (irmao->esq->cor == PRETO && irmao->dir->cor == PRETO){ //caso 2\n",
    "                cout << \"caso 2 - esq\\n\";\n",
    "                irmao->cor = VERMELHO;\n",
    "                no = no->pai;\n",
    "            }\n",
    "            else {\n",
    "                if (irmao->esq->cor == VERMELHO && irmao->dir->cor == PRETO) { //caso 3\n",
    "                    cout << \"caso 3 - esq\\n\";\n",
    "                    irmao->cor = VERMELHO;                    \n",
    "                    irmao->esq->cor = PRETO;\n",
    "                    noAsc = irmao->pai;\n",
    "                    noAsc->dir = rotDireita(irmao);\n",
    "                    irmao = no->pai->dir;\n",
    "                } //caso 4\n",
    "                cout << \"caso 4 - esq\\n\";\n",
    "                irmao->cor = no->pai->cor;\n",
    "                no->pai->cor = PRETO;\n",
    "                //if (irmao->dir != NULL)\n",
    "                irmao->dir->cor = PRETO;\n",
    "                noAsc = no->pai->pai;\n",
    "                noAux = rotEsquerda(no->pai);\n",
    "                if (noAsc->tipo != NO_NULO){\n",
    "                    if (noAsc->esq == no->pai)\n",
    "                        noAsc->esq = noAux;\n",
    "                    else\n",
    "                        noAsc->dir = noAux;\n",
    "                }\n",
    "                noAux->pai = noAsc;\n",
    "                if (noAsc->tipo == NO_NULO) raiz = noAux;\n",
    "                no = raiz;\n",
    "            }\n",
    "        }\n",
    "        else { //sub-árvore da direita\n",
    "            irmao = no->pai->esq;\n",
    "            if (irmao->cor == VERMELHO) {//caso 1\n",
    "                cout << \"caso 1 - dir\\n\";\n",
    "                irmao->cor = PRETO;\n",
    "                no->pai->cor = VERMELHO;\n",
    "                noAsc = no->pai->pai;\n",
    "                noAux = rotDireita(no->pai);\n",
    "                ajustaNo(noAsc, noAux);\n",
    "                if (noAsc->tipo == NO_NULO) raiz = noAux;\n",
    "                irmao = no->pai->esq;\n",
    "            }\n",
    "            if (irmao->dir->cor == PRETO && irmao->esq->cor == PRETO){ //caso 2\n",
    "                cout << \"caso 2 - dir\\n\";\n",
    "                irmao->cor = VERMELHO;\n",
    "                no = no->pai;\n",
    "            }\n",
    "            else {\n",
    "                if (irmao->dir->cor == VERMELHO && irmao->esq->cor == PRETO) { //caso 3\n",
    "                    cout << \"caso 3 - dir\\n\";\n",
    "                    irmao->cor = VERMELHO;\n",
    "                    irmao->dir->cor = PRETO;\n",
    "                    noAsc = irmao->pai;\n",
    "                    noAsc->esq = rotEsquerda(irmao);\n",
    "                    irmao = no->pai->esq;\n",
    "                } //caso 4\n",
    "                cout << \"caso 4 - dir\\n\";\n",
    "                irmao->cor = no->pai->cor;\n",
    "                no->pai->cor = PRETO;\n",
    "                //if (irmao->esq != NULL)\n",
    "                irmao->esq->cor = PRETO;\n",
    "                noAsc = no->pai->pai;\n",
    "                noAux = rotDireita(no->pai);\n",
    "                if (noAsc->tipo != NO_NULO){\n",
    "                    if (noAsc->esq == no->pai)\n",
    "                        noAsc->esq = noAux;\n",
    "                    else\n",
    "                        noAsc->dir = noAux;\n",
    "                }\n",
    "                noAux->pai = noAsc;\n",
    "                if (noAsc->tipo == NO_NULO) raiz = noAux; \n",
    "                no = raiz;\n",
    "            }\n",
    "        }\n",
    "    }    \n",
    "    no->cor = PRETO;    \n",
    "    return raiz;\n",
    "}"
   ]
  },
  {
   "cell_type": "markdown",
   "metadata": {},
   "source": [
    "Função que exclui um nó da árvore red black. Usa a regra do sucessor. Retorna a raiz da árvore, pois a árvore poderá ter uma nova raiz, caso seja o nó a ser excluído.\n",
    "\n",
    "Chama a função de ajuste da exclusão quando o nó excluído é preto, pois altera o balanceamento dos nós pretos (regra 5).\n",
    "\n",
    "A mesma função poderia ser adaptada para usar a regra do antecessor."
   ]
  },
  {
   "cell_type": "code",
   "execution_count": 19,
   "metadata": {},
   "outputs": [],
   "source": [
    "tNo* exclui (tNo *no, tNo *raiz) {\n",
    "    Cor cor_no = no->cor; //armazena a cor do nó\n",
    "    tNo *s, *novaRaiz = raiz;\n",
    "    tNo *filhoAjuste = NULL;\n",
    "    tNo *paiAjuste = NULL;\n",
    "    if (no->esq->tipo == NO_NULO && no->dir->tipo == NO_NULO && no->pai->tipo == NO_NULO){\n",
    "        freeNo(no); //exclusão da raiz, último nó\n",
    "        return NULL;\n",
    "    }\n",
    "    if (no->esq->tipo == NO_NULO){     \n",
    "        filhoAjuste = no->dir;\n",
    "        ajustaNoPai(no, no->dir);\n",
    "        if (no == raiz) novaRaiz = filhoAjuste;\n",
    "       freeNo (no);\n",
    "    } else {\n",
    "        if (no->dir->tipo == NO_NULO){\n",
    "            filhoAjuste = no->esq; \n",
    "            ajustaNoPai(no, no->esq);\n",
    "            if (no == raiz) novaRaiz = filhoAjuste;\n",
    "            freeNo(no);\n",
    "        }\n",
    "        else {   \n",
    "            s = sucessor (no);\n",
    "            cor_no = s->cor;\n",
    "            filhoAjuste = s->dir;\n",
    "            ajustaNoPai(s, filhoAjuste);\n",
    "            s->esq = no->esq;\n",
    "            s->esq->pai = s;\n",
    "            //if (no->dir != s)\n",
    "            s->dir = no->dir;\n",
    "            s->dir->pai = s;\n",
    "            ajustaNoPai(no, s);\n",
    "            s->cor = no->cor; // o sucessor fica com a cor do nó\n",
    "            if (no == raiz) novaRaiz = s;\n",
    "            free(no);\n",
    "        }\n",
    "    }        \n",
    "    if (cor_no == PRETO)\n",
    "        novaRaiz = ajustaExclusao(filhoAjuste, novaRaiz);\n",
    "    return novaRaiz;\n",
    "}"
   ]
  },
  {
   "cell_type": "markdown",
   "metadata": {},
   "source": [
    "Função que lê um token, separado por espaço, e converte para um número inteiro."
   ]
  },
  {
   "cell_type": "code",
   "execution_count": 20,
   "metadata": {},
   "outputs": [],
   "source": [
    "int token_to_num(const char *str, int *indice){    \n",
    "    char token[100];\n",
    "    int i = 0;\n",
    "    while (str[*indice] != '\\0' && str[*indice] != ' '){\n",
    "        token[i] = str[*indice];\n",
    "        i++;\n",
    "        (*indice)++;\n",
    "    }\n",
    "    token[i] = '\\0';\n",
    "    (*indice)++;    \n",
    "    return atoi(token);\n",
    "}"
   ]
  },
  {
   "cell_type": "markdown",
   "metadata": {},
   "source": [
    "Função que monta uma árvore binária recebendo como entrada uma árvore com parênteses aninhados. Não há suporte a erros de entrada, por isso a árvore passada como parâmetro deve estar correta."
   ]
  },
  {
   "cell_type": "code",
   "execution_count": 21,
   "metadata": {},
   "outputs": [],
   "source": [
    "tNo* montaarvore(const char *str){\n",
    "    tNo *raiz = NULL;\n",
    "    int i = 0, v =0;\n",
    "    raiz = inclui(NULL, token_to_num(str,&i), NULL);\n",
    "    while (str[i]!='\\0'){\n",
    "        raiz = inclui (raiz, token_to_num(str, &i),raiz);                \n",
    "    }\n",
    "    return raiz;        \n",
    "}"
   ]
  },
  {
   "cell_type": "markdown",
   "metadata": {},
   "source": [
    "Conta o número de nós da árvore. Não conta os _nós nulos_"
   ]
  },
  {
   "cell_type": "code",
   "execution_count": 22,
   "metadata": {},
   "outputs": [],
   "source": [
    "int contaNos(tNo *no){\n",
    "    if (no->tipo != NO_NULO) {\n",
    "        return contaNos(no->esq) + contaNos(no->dir) + 1;\n",
    "    } else\n",
    "        return 0;\n",
    "}"
   ]
  },
  {
   "cell_type": "markdown",
   "metadata": {},
   "source": [
    "Calcula a altura da árvore. Retorna -1 para considerar a altura da raiz como 0."
   ]
  },
  {
   "cell_type": "code",
   "execution_count": 23,
   "metadata": {},
   "outputs": [],
   "source": [
    "int altura (tNo *p) {\n",
    "    int he, hd;\n",
    "    if (p->tipo == NO_NULO) return -1;\n",
    "    he = altura (p->esq);\n",
    "    hd = altura (p->dir);\n",
    "    if (he > hd)\n",
    "        return he+1;\n",
    "    else\n",
    "        return hd+1;    \n",
    "}"
   ]
  },
  {
   "cell_type": "markdown",
   "metadata": {},
   "source": [
    "Busca em árvore binária. Imprime a chave do nó que está sendo visitado para mostrar o caminho percorrido."
   ]
  },
  {
   "cell_type": "code",
   "execution_count": 24,
   "metadata": {},
   "outputs": [],
   "source": [
    "tNo *busca(tNo *no, int chave){\n",
    "    if (no->tipo == NO_NULO) return NULL;\n",
    "    if (no->chave == chave) return no;\n",
    "    if (chave < no->chave)\n",
    "        return busca (no->esq, chave);\n",
    "    else\n",
    "        return busca (no->dir, chave);\n",
    "}"
   ]
  },
  {
   "cell_type": "markdown",
   "metadata": {},
   "source": [
    "Função auxiliar para imprimir a chamada de várias operações."
   ]
  },
  {
   "cell_type": "code",
   "execution_count": 25,
   "metadata": {},
   "outputs": [],
   "source": [
    "void imprime(const char *str, tNo *no){\n",
    "    cout << \"||\" << str << \" \";\n",
    "    if (no!=NULL) cout << \"[\"<< no->chave<<\"]\";\n",
    "    else cout << \"não\";\n",
    "    cout << \" encontrado\\n\";\n",
    "}"
   ]
  },
  {
   "cell_type": "markdown",
   "metadata": {},
   "source": [
    "O programa abaixo possui diversas sugestões de árvore e operações de inclusão e exclusão, para testar diferentes  casos de exclusão."
   ]
  },
  {
   "cell_type": "code",
   "execution_count": 26,
   "metadata": {},
   "outputs": [],
   "source": [
    "void iniciaprograma(){\n",
    "    tNo *raiz = NULL, *no= NULL;\n",
    "    int v = 0;\n",
    "\n",
    "// raiz - unico nó\n",
    "//char entrada[] = \"20\\0\";\n",
    "    \n",
    "// caso 3, 4 - esq\n",
    "//char entrada[] = \"21 5 25 23\\0\";\n",
    "//excluir 5\n",
    "    \n",
    "// caso 3, 4 - dir\n",
    "//char entrada[] = \"23 21 25 22\\0\";\n",
    "//excluir 25\n",
    "    \n",
    "//caso 2 - dir    \n",
    "char entrada[] = \"21 5 22 30\\0\";\n",
    "//excluir 30, 22    \n",
    "\n",
    "//caso 2 - esq\n",
    "//char entrada[] = \"21 5 22 3\\0\";\n",
    "//excluir 3, 5 \n",
    "    \n",
    "//caso 1, 2 dir\n",
    "//char entrada[] = \"30 20 80 10 25 60 90 5\\0\";\n",
    "//excluir 80, 60, 90 \n",
    "\n",
    "//caso 1, 2 esq\n",
    "//char entrada[] = \"30 20 80 10 25 60 90 100\\0\";\n",
    "//excluir 10, 25, 20     \n",
    "    \n",
    "//char entrada[] = \"30 20 80 10 25 60 90 5 22\\0\";\n",
    "//excluir 20 - sucessor    \n",
    "    \n",
    "//sucessor vermelho\n",
    "//char entrada[] = \"30 20 80 10 25 60 90 100\\0\";\n",
    "//excluir 20 \n",
    "    \n",
    "//sucessor raiz, sucessor sem nó direito\n",
    "//char entrada[] = \"30 20 80 10 25 60 90 100\\0\";\n",
    "//excluir 30     \n",
    "    \n",
    "    raiz=montaarvore(entrada);    \n",
    "    cout << \"\\nPercurso em pré-ordem: \";\n",
    "    preordem(raiz);\n",
    "    cout << \"\\nTotal de nós: \" << contaNos(raiz);\n",
    "    cout << \"\\nAltura da árvore: \" << altura(raiz) << \"\\n\";\n",
    "    cout << \"\\n\";   \n",
    "    \n",
    "    v = 30;\n",
    "    cout << \"exclusão :\" << v << \"\\n\";\n",
    "    raiz = exclui( busca(raiz,v), raiz); cout << \"\\n\";\n",
    "    preordem(raiz); cout << \"\\n\";  \n",
    "    \n",
    "    v = 22;\n",
    "    cout << \"exclusão :\" << v << \"\\n\";\n",
    "    raiz = exclui( busca(raiz,v), raiz); cout << \"\\n\";\n",
    "    preordem(raiz); cout << \"\\n\";      \n",
    "    \n",
    "    cout << \"\\nTotal de nós: \" << contaNos(raiz);\n",
    "    cout << \"\\nAltura da árvore: \" << altura(raiz) << \"\\n\";    \n",
    "      \n",
    "}"
   ]
  },
  {
   "cell_type": "code",
   "execution_count": 27,
   "metadata": {},
   "outputs": [
    {
     "name": "stdout",
     "output_type": "stream",
     "text": [
      "\n",
      "Percurso em pré-ordem: 21:p.5:p.22:p.30:v.\n",
      "Total de nós: 4\n",
      "Altura da árvore: 2\n",
      "\n",
      "exclusão :30\n",
      "\n",
      "21:p.5:p.22:p.\n",
      "exclusão :22\n",
      "caso 2 - dir\n",
      "\n",
      "21:p.5:v.\n",
      "\n",
      "Total de nós: 2\n",
      "Altura da árvore: 1\n"
     ]
    }
   ],
   "source": [
    "iniciaprograma();"
   ]
  }
 ],
 "metadata": {
  "kernelspec": {
   "display_name": "C++17",
   "language": "C++17",
   "name": "xcpp17"
  },
  "language_info": {
   "codemirror_mode": "text/x-c++src",
   "file_extension": ".cpp",
   "mimetype": "text/x-c++src",
   "name": "c++",
   "version": "17"
  }
 },
 "nbformat": 4,
 "nbformat_minor": 4
}

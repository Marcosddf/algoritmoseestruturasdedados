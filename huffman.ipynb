{
 "cells": [
  {
   "cell_type": "markdown",
   "metadata": {},
   "source": [
    "## Huffman\n",
    "\n",
    "O código abaixo implementa uma árvore representando um **código de Huffman**, gerado a partir de um conjunto de caracteres e suas frequências.\n",
    "\n",
    "O código abaixo implementa uma lista de prioridades usando um Heap Mínimo. Cada elemento da lista de prioridades será um nó com uma frequência. A lista será ordenada usando a propriedade de **heap mínimo** pela frequência.\n"
   ]
  },
  {
   "cell_type": "code",
   "execution_count": 1,
   "metadata": {},
   "outputs": [],
   "source": [
    "#include <iostream>\n",
    "#include <stdlib.h> \n",
    "using namespace std;\n",
    "\n",
    "#define ALFABETO 6;\n",
    "#define BITS_CODIGO 6;\n",
    "\n"
   ]
  },
  {
   "cell_type": "markdown",
   "metadata": {},
   "source": [
    "Estrutura usada para armazenar, ao mesmo tempo, uma lista de prioridades e uma árvore de Huffman. "
   ]
  },
  {
   "cell_type": "code",
   "execution_count": 2,
   "metadata": {},
   "outputs": [],
   "source": [
    "struct tNo {\n",
    "    char c;\n",
    "    int frequencia; \n",
    "    tNo *esq, *dir, *pai;\n",
    "};"
   ]
  },
  {
   "cell_type": "markdown",
   "metadata": {},
   "source": [
    "Dado um HEAP e o índice de um elemento, esta função retorna o **índice** do elemento pai."
   ]
  },
  {
   "cell_type": "code",
   "execution_count": 3,
   "metadata": {},
   "outputs": [],
   "source": [
    "int pai(int i){\n",
    "    if (i > 0)\n",
    "        return (i-1)/2;\n",
    "    else\n",
    "        return -1;\n",
    "}"
   ]
  },
  {
   "cell_type": "markdown",
   "metadata": {},
   "source": [
    "Esta função retorna o **índice** do elemento da esquerda."
   ]
  },
  {
   "cell_type": "code",
   "execution_count": 4,
   "metadata": {},
   "outputs": [],
   "source": [
    "int esq(int i){\n",
    "    return 2*i+1;\n",
    "}"
   ]
  },
  {
   "cell_type": "markdown",
   "metadata": {},
   "source": [
    "Esta função retorna o **índice** do elemento da direita."
   ]
  },
  {
   "cell_type": "code",
   "execution_count": 5,
   "metadata": {},
   "outputs": [],
   "source": [
    "int dir(int i){\n",
    "    return 2*i+2;\n",
    "}"
   ]
  },
  {
   "cell_type": "markdown",
   "metadata": {},
   "source": [
    "Retorna o tamanho do vetor do HEAP. Nesta implementação o tamanho é fixo."
   ]
  },
  {
   "cell_type": "code",
   "execution_count": 6,
   "metadata": {},
   "outputs": [],
   "source": [
    "int tam(){\n",
    "    return ALFABETO;\n",
    "}"
   ]
  },
  {
   "cell_type": "markdown",
   "metadata": {},
   "source": [
    "Imprime o heap mínimo em pré-ordem."
   ]
  },
  {
   "cell_type": "code",
   "execution_count": 7,
   "metadata": {},
   "outputs": [],
   "source": [
    "void preordemFila (tNo *A[], int indice, int tamHeap){\n",
    "    if (indice < tamHeap){\n",
    "        cout << \"(\" << A[indice]->c << \":\" << A[indice]->frequencia << \".\";\n",
    "        preordemFila(A,esq(indice),tamHeap);        \n",
    "        preordemFila(A,dir(indice),tamHeap);\n",
    "        cout << \")\";\n",
    "    }\n",
    "}"
   ]
  },
  {
   "cell_type": "markdown",
   "metadata": {},
   "source": [
    "Imprime uma árvore de Huffman em pré-ordem."
   ]
  },
  {
   "cell_type": "code",
   "execution_count": 8,
   "metadata": {},
   "outputs": [],
   "source": [
    "void preordemArvoreHuffman (tNo *no){\n",
    "    if (no != NULL){\n",
    "        cout << \"(\" << no->c << \":\" << no->frequencia << \".\";\n",
    "        preordemArvoreHuffman(no->esq);       \n",
    "        preordemArvoreHuffman(no->dir);\n",
    "        cout << \")\";\n",
    "    }\n",
    "}"
   ]
  },
  {
   "cell_type": "markdown",
   "metadata": {},
   "source": [
    "Troca dois elementos da lista, de acordo com os índices passados como parâmetro."
   ]
  },
  {
   "cell_type": "code",
   "execution_count": 9,
   "metadata": {},
   "outputs": [],
   "source": [
    "void troca(tNo *A[], int i, int j){    \n",
    "    tNo *aux = A[i];\n",
    "    A[i] = A[j];\n",
    "    A[j] = aux;\n",
    "}"
   ]
  },
  {
   "cell_type": "markdown",
   "metadata": {},
   "source": [
    "Esta função ajusta para que fique de acordo com a propriedade *heap mínimo*. A função assume que a subárvore já está seguindo a propriedade heap mínimo."
   ]
  },
  {
   "cell_type": "code",
   "execution_count": 10,
   "metadata": {},
   "outputs": [],
   "source": [
    "void min_heapify(tNo *A[], int i, int tamHeap){\n",
    "    int e = esq(i), d = dir(i);\n",
    "    int menor;\n",
    "    if (e < tamHeap && A[e]->frequencia < A[i]->frequencia)\n",
    "        menor = e;\n",
    "    else\n",
    "        menor = i;\n",
    "    if (d < tamHeap && A[d]->frequencia < A[menor]->frequencia)\n",
    "        menor = d;\n",
    "    if (menor  != i){\n",
    "        troca(A, i, menor);\n",
    "        min_heapify(A, menor, tamHeap);\n",
    "    }        \n",
    "}"
   ]
  },
  {
   "cell_type": "markdown",
   "metadata": {},
   "source": [
    "Constroi um heap mínimo a partir de um vetor de nós desordenados (_frequencia_ como chave)."
   ]
  },
  {
   "cell_type": "code",
   "execution_count": 11,
   "metadata": {},
   "outputs": [],
   "source": [
    "void constroi_min_heap(tNo *A[], int tamHeap){\n",
    "    int indice = (tamHeap-1)/2;\n",
    "    for (int i=indice; i>=0; i--){\n",
    "        min_heapify(A,i, tamHeap);\n",
    "    }\n",
    "}"
   ]
  },
  {
   "cell_type": "markdown",
   "metadata": {},
   "source": [
    "Retorna o elemento mínimo do heap, i.e., o primeiro elemento."
   ]
  },
  {
   "cell_type": "code",
   "execution_count": 12,
   "metadata": {},
   "outputs": [],
   "source": [
    "tNo *minimo(tNo *A[]){\n",
    "    return A[0];\n",
    "}"
   ]
  },
  {
   "cell_type": "markdown",
   "metadata": {},
   "source": [
    "Extrai o primeiro elemento (retira do heap), atribui o valor do último elemento para o primeiro e executa o min heapify."
   ]
  },
  {
   "cell_type": "code",
   "execution_count": 13,
   "metadata": {},
   "outputs": [],
   "source": [
    "tNo *extrai_minimo(tNo *A[], int *tamHeap){\n",
    "    tNo *min = NULL;\n",
    "    if ((*tamHeap) > 0) {\n",
    "        min = A[0];\n",
    "        troca(A,0,(*tamHeap)-1);\n",
    "        (*tamHeap) --;\n",
    "        min_heapify(A,0,(*tamHeap));\n",
    "    }\n",
    "    return min;\n",
    "}"
   ]
  },
  {
   "cell_type": "markdown",
   "metadata": {},
   "source": [
    "Posiciona um nó corretamente no heap, de acordo com a frequência."
   ]
  },
  {
   "cell_type": "code",
   "execution_count": 14,
   "metadata": {},
   "outputs": [],
   "source": [
    "void diminui_chave(tNo *A[], int i){\n",
    "        while (i >= 0 && pai(i) >= 0 && A[pai(i)]->frequencia > A[i]->frequencia){\n",
    "            troca(A, i, pai(i));\n",
    "            i = pai(i);\n",
    "        }\n",
    "}"
   ]
  },
  {
   "cell_type": "markdown",
   "metadata": {},
   "source": [
    "Cria um nó para ser incluído na lista de prioridades, e posteriormente na árvore de Huffman."
   ]
  },
  {
   "cell_type": "code",
   "execution_count": 15,
   "metadata": {},
   "outputs": [],
   "source": [
    "tNo *criaNoHeap(int frequencia, char c){\n",
    "    tNo *noHeap = (tNo *)malloc(sizeof(tNo));\n",
    "    noHeap->frequencia = frequencia;\n",
    "    noHeap->c = c;\n",
    "    noHeap->esq = NULL;\n",
    "    noHeap->dir = NULL;\n",
    "    noHeap->pai = NULL;\n",
    "    return noHeap;\n",
    "}"
   ]
  },
  {
   "cell_type": "markdown",
   "metadata": {},
   "source": [
    "Inclui nova chave, até o tamanho máximo da lista."
   ]
  },
  {
   "cell_type": "code",
   "execution_count": 16,
   "metadata": {},
   "outputs": [],
   "source": [
    "void inclui (tNo *A[], tNo *novo, int *tamHeap){\n",
    "    int tamMax = ALFABETO;\n",
    "    if ((*tamHeap) < tamMax){\n",
    "        (*tamHeap)++;\n",
    "        A[(*tamHeap)-1] = novo;\n",
    "        diminui_chave(A, (*tamHeap)-1);\n",
    "    }\n",
    "    else\n",
    "        cout << \"\\nNão pode incluir nova chave, tamanho do vetor não suportado\\n\";\n",
    "}"
   ]
  },
  {
   "cell_type": "markdown",
   "metadata": {},
   "source": [
    "Função que cria uma árvore representando o código de Huffman. "
   ]
  },
  {
   "cell_type": "code",
   "execution_count": 17,
   "metadata": {},
   "outputs": [],
   "source": [
    "void huffman (tNo *A[], int *tamHeap){    \n",
    "    tNo *novo = NULL;\n",
    "    while ((*tamHeap) > 1) {\n",
    "        novo = criaNoHeap(0,'_');\n",
    "        novo->esq = extrai_minimo(A,tamHeap);\n",
    "        novo->esq->pai = novo;\n",
    "        novo->dir = extrai_minimo(A,tamHeap);\n",
    "        novo->dir->pai = novo;\n",
    "        novo->frequencia = novo->esq->frequencia + novo->dir->frequencia;\n",
    "        inclui(A, novo, tamHeap);\n",
    "    }\n",
    "}"
   ]
  },
  {
   "cell_type": "markdown",
   "metadata": {},
   "source": [
    "Função usada par~a recuperar o índice da letra armazenada na tabela com o código Huffman.\n",
    "\n",
    "O índice é dado pelo MOD (módulo da divisão inteira) da letra pelo tamanho máximo da tabela. Por isso, o alfabeto deverá conter letras, de A até o tamanho da tabela. Esta restrição pode ser modificada, desde que a estrutura da tabela também seja alterada."
   ]
  },
  {
   "cell_type": "code",
   "execution_count": 18,
   "metadata": {},
   "outputs": [],
   "source": [
    "int get_indice_tabela(char c){\n",
    "    int maxBits = BITS_CODIGO;\n",
    "    return (toupper(c) - 65) % maxBits;\n",
    "}"
   ]
  },
  {
   "cell_type": "markdown",
   "metadata": {},
   "source": [
    "Constroi uma tabela de acordo com o código Huffman gerado. Percorre os nós até os folhas, e volta invertido até o pai para armazenar o código em uma tabela.\n",
    "O índice da tabela é dado pelo MOD 6 da letra.\n",
    " "
   ]
  },
  {
   "cell_type": "code",
   "execution_count": 19,
   "metadata": {},
   "outputs": [],
   "source": [
    "void constroiTabelaHuffman (char t[][6], tNo *no, int nivel){\n",
    "    int i;\n",
    "    int indice;\n",
    "    if (no != NULL){\n",
    "        constroiTabelaHuffman(t, no->esq, nivel + 1);       \n",
    "        constroiTabelaHuffman(t, no->dir, nivel + 1);\n",
    "        if (no->esq == NULL && no->dir == NULL) {\n",
    "            indice = get_indice_tabela(no->c);\n",
    "            i = 0;\n",
    "            while (no != NULL && no->pai != NULL ) {\n",
    "                if (no->pai->esq == no)\n",
    "                    t[indice][nivel-i-1] = '0';\n",
    "                else\n",
    "                    t[indice][nivel-i-1] = '1';\n",
    "                no = no->pai;\n",
    "                i++;\n",
    "            }\n",
    "            t[indice][i] = '\\0';\n",
    "        }\n",
    "    }\n",
    "}"
   ]
  },
  {
   "cell_type": "markdown",
   "metadata": {},
   "source": [
    "Função que codifica um conjunto de caracteres de acordo com a tabela com o código de Huffman gerada."
   ]
  },
  {
   "cell_type": "code",
   "execution_count": 20,
   "metadata": {},
   "outputs": [],
   "source": [
    "void codifica(const char *str, char tabela[][6]){\n",
    "    for (int i=0; str[i] != '\\0'; i++){\n",
    "        cout << tabela[get_indice_tabela(str[i])] ;\n",
    "    }\n",
    "}"
   ]
  },
  {
   "cell_type": "markdown",
   "metadata": {},
   "source": [
    "Função que decodifica um conjunto de caracteres de acordo com a árvore de Huffman."
   ]
  },
  {
   "cell_type": "code",
   "execution_count": 21,
   "metadata": {},
   "outputs": [],
   "source": [
    "void decodifica(const char *str, tNo *no){\n",
    "    tNo *raiz = no;\n",
    "    for (int i=0; str[i] != '\\0'; i++){\n",
    "        if (str[i] == '0')\n",
    "            no = no->esq;\n",
    "        else \n",
    "            no = no->dir;\n",
    "        if (no->dir == NULL && no->esq == NULL){\n",
    "            cout << no->c;\n",
    "            no = raiz;\n",
    "        }\n",
    "    }\n",
    "}"
   ]
  },
  {
   "cell_type": "code",
   "execution_count": 22,
   "metadata": {},
   "outputs": [],
   "source": [
    "void iniciaprograma(){\n",
    "    \n",
    "    int bits = BITS_CODIGO;\n",
    "    tNo *A[12] = {criaNoHeap(45,'a'),criaNoHeap(13,'b'),criaNoHeap(12,'c'),\n",
    "                  criaNoHeap(16,'d'),criaNoHeap(9,'e'),criaNoHeap(5,'f'),\n",
    "               NULL,NULL,NULL,NULL,NULL,NULL};\n",
    "    int tamHeapA = ALFABETO;\n",
    "    char tabelaHuffman [tamHeapA][6];\n",
    "    \n",
    "    constroi_min_heap(A, tamHeapA);\n",
    "    cout << \"fila de prioridade: \\n\";\n",
    "    preordemFila(A, 0, tamHeapA);\n",
    "    \n",
    "    huffman (A, &tamHeapA);\n",
    "    cout << \"\\nfila após execução do algoritmo de Huffman\";\n",
    "    preordemFila(A,0,tamHeapA);    \n",
    "    cout << \"\\nárvore de Huffman\" << endl;\n",
    "    preordemArvoreHuffman(minimo(A));\n",
    "    cout << endl;\n",
    "                        \n",
    "    constroiTabelaHuffman(tabelaHuffman, minimo(A),0);\n",
    "    \n",
    "    cout << \"\\ntabela Huffman\";\n",
    "     for (int i =0; i < 6; i ++){\n",
    "         cout << \"\\n\"<< (char)(i+97) << \":\" ;\n",
    "         cout << tabelaHuffman[i] ;\n",
    "     }\n",
    "    \n",
    "    cout << \"\\n\\n\" << \"addffbadaae\\0\" << \" codificado\\n\";\n",
    "    codifica(\"addffbadaae\\0\",tabelaHuffman);\n",
    "    \n",
    "    cout << \"\\n\" << \"ffff\\0\" << \" codificado\\n\";\n",
    "    codifica(\"ffff\\0\",tabelaHuffman);\n",
    "    \n",
    "    cout << \"\\n\\n\" << \"1100110011001100\\0\" << \" de-codificado\\n\";\n",
    "    decodifica(\"1100110011001100\\0\",minimo(A));    \n",
    "    cout << \"\\n\\n\" << \"0111111110011001010111001101\\0\" << \" de-codificado\\n\";\n",
    "    decodifica(\"0111111110011001010111001101\\0\",minimo(A));      \n",
    "\n",
    "}"
   ]
  },
  {
   "cell_type": "code",
   "execution_count": 23,
   "metadata": {},
   "outputs": [
    {
     "name": "stdout",
     "output_type": "stream",
     "text": [
      "fila de prioridade: \n",
      "(f:5.(e:9.(d:16.)(b:13.))(c:12.(a:45.)))\n",
      "fila após execução do algoritmo de Huffman(_:100.)\n",
      "árvore de Huffman\n",
      "(_:100.(a:45.)(_:55.(_:25.(c:12.)(b:13.))(_:30.(_:14.(f:5.)(e:9.))(d:16.))))\n",
      "\n",
      "tabela Huffman\n",
      "a:0\n",
      "b:101\n",
      "c:100\n",
      "d:111\n",
      "e:1101\n",
      "f:1100\n",
      "\n",
      "addffbadaae codificado\n",
      "0111111110011001010111001101\n",
      "ffff codificado\n",
      "1100110011001100\n",
      "\n",
      "1100110011001100 de-codificado\n",
      "ffff\n",
      "\n",
      "0111111110011001010111001101 de-codificado\n",
      "addffbadaae"
     ]
    }
   ],
   "source": [
    "iniciaprograma();"
   ]
  }
 ],
 "metadata": {
  "kernelspec": {
   "display_name": "C++14",
   "language": "C++14",
   "name": "xcpp14"
  },
  "language_info": {
   "codemirror_mode": "text/x-c++src",
   "file_extension": ".cpp",
   "mimetype": "text/x-c++src",
   "name": "c++",
   "version": "14"
  }
 },
 "nbformat": 4,
 "nbformat_minor": 4
}

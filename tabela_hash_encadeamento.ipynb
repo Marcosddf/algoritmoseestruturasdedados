{
 "cells": [
  {
   "cell_type": "markdown",
   "metadata": {},
   "source": [
    "## Tabela Hash - colisão por encadeamento\n",
    "\n",
    "Uma tabela Hash é uma estrutura de dados de acesso direto, pois o índice do dado a ser acessado é conhecido.\n",
    "\n",
    "O índice de acesso a cada valor é dado por uma função hash `h(k) -> i`, que recebe a chave K e retorna o índice para acessar o valor V. \n",
    "\n",
    "Este notebook apresenta a implementação de uma tabela Hash com tratamento de colisões, utilizando o **método de encadeamento**, que consiste na criação de uma lista para armazenar os valores com colisão.\n",
    "\n",
    "A tabela será usada para armazenar nomes próprios (V) e a chave (K) será a primeira letra de cada palavra.\n",
    "\n",
    "O notebook https://github.com/Marcosddf/algoritmoseestruturasdedados/blob/master/tabela_hash_simples.ipynb possui uma tabela hash sem tratamento de colisões."
   ]
  },
  {
   "cell_type": "code",
   "execution_count": 1,
   "metadata": {},
   "outputs": [],
   "source": [
    "#include <iostream>\n",
    "#include <stdlib.h> \n",
    "#include <string.h>\n",
    "using namespace std;\n",
    "\n",
    "#define M 19; //tamanho da tabela Hash\n",
    "#define A_ASCII 65;"
   ]
  },
  {
   "cell_type": "markdown",
   "metadata": {},
   "source": [
    "Definição da lista que será usada para armazenar os elementos da tabela Hash. A inclusão dos elementos com colisão é feita de forma sequencial, sem ordenação."
   ]
  },
  {
   "cell_type": "code",
   "execution_count": 2,
   "metadata": {},
   "outputs": [],
   "source": [
    "struct elemento {\n",
    "    char chave; //a chave é opcional, poderia ser calculada usando a 1a letra do valor.\n",
    "    char valor[10];\n",
    "    elemento *prox;\n",
    "}"
   ]
  },
  {
   "cell_type": "markdown",
   "metadata": {},
   "source": [
    "Busca elementos na lista."
   ]
  },
  {
   "cell_type": "code",
   "execution_count": 3,
   "metadata": {},
   "outputs": [],
   "source": [
    "elemento *buscaLista (elemento *in, char chave) {\n",
    "    elemento *p = in;\n",
    "    if (p == NULL) return p;\n",
    "    while (p->prox != NULL) {\n",
    "        if (p->chave == chave)\n",
    "            return p;\n",
    "        p=p->prox;\n",
    "    }\n",
    "    return p;\n",
    "}"
   ]
  },
  {
   "cell_type": "markdown",
   "metadata": {},
   "source": [
    "Inicia um elemento da lista."
   ]
  },
  {
   "cell_type": "code",
   "execution_count": 4,
   "metadata": {},
   "outputs": [],
   "source": [
    "elemento *inicia (char chave, const char *valor){\n",
    "    elemento *p = (elemento *)malloc (sizeof (elemento));\n",
    "    p->chave = chave;\n",
    "    strcpy(p->valor, valor);\n",
    "    p->prox = NULL;\n",
    "    return p;\n",
    "}"
   ]
  },
  {
   "cell_type": "markdown",
   "metadata": {},
   "source": [
    "Imprime todos os elementos da lista."
   ]
  },
  {
   "cell_type": "code",
   "execution_count": 5,
   "metadata": {},
   "outputs": [],
   "source": [
    "void imprimeLista (elemento *p) {\n",
    "  if (p == NULL) return;\n",
    "  cout << p->valor << \":\";\n",
    "  return imprimeLista (p->prox);\n",
    "}"
   ]
  },
  {
   "cell_type": "markdown",
   "metadata": {},
   "source": [
    "Imprime o valor específico de um elemento da lista."
   ]
  },
  {
   "cell_type": "code",
   "execution_count": 6,
   "metadata": {},
   "outputs": [],
   "source": [
    "void imprimeValor (elemento *p) {\n",
    "  if (p != NULL)\n",
    "      cout << p->valor;\n",
    "}"
   ]
  },
  {
   "cell_type": "markdown",
   "metadata": {},
   "source": [
    "Insere um novo elemento na lista."
   ]
  },
  {
   "cell_type": "code",
   "execution_count": 7,
   "metadata": {},
   "outputs": [],
   "source": [
    "elemento *insere (elemento *p, const char *valor) {\n",
    "   elemento *novo = inicia (valor[0], valor);\n",
    "   if (p == NULL) return novo;\n",
    "   while (p->prox != NULL)\n",
    "       p=p->prox;\n",
    "   p->prox = novo;   \n",
    "   return p;\n",
    "}"
   ]
  },
  {
   "cell_type": "markdown",
   "metadata": {},
   "source": [
    "Exclui um elemento da lista."
   ]
  },
  {
   "cell_type": "code",
   "execution_count": 8,
   "metadata": {},
   "outputs": [],
   "source": [
    "elemento *excluiLista(elemento *p, char chave) {\n",
    "    elemento *anterior, *primeiro = p;\n",
    "    if (p->chave == chave) {\n",
    "        anterior = p->prox;\n",
    "        free(p);\n",
    "        return anterior;\n",
    "    }\n",
    "    while (p != NULL) {\n",
    "        if (p->chave == chave){\n",
    "            anterior->prox = p->prox;\n",
    "            free(p);\n",
    "            return primeiro;\n",
    "        }\n",
    "        anterior = p;\n",
    "        p = p->prox;\n",
    "    }\n",
    "    return primeiro;\n",
    "}"
   ]
  },
  {
   "cell_type": "markdown",
   "metadata": {},
   "source": [
    "O tamanho da tabela Hash depende do número de chaves existentes e da capacidade de armazenamento. "
   ]
  },
  {
   "cell_type": "code",
   "execution_count": 9,
   "metadata": {},
   "outputs": [],
   "source": [
    "int tamHash(){\n",
    "    return M;\n",
    "}"
   ]
  },
  {
   "cell_type": "markdown",
   "metadata": {},
   "source": [
    "O **método da divisão** é bastante usado para implementar funções hash.\n",
    "\n",
    "Dada uma tabela de tamanho **M**, a função hash será `h(k) -> k mod m`. M deverá ser preferencialmente um número primo, e potencias de 2 devem ser evitadas. \n",
    "\n",
    "Nesta implementação o M escolhido é 19.\n",
    "\n",
    "Esta função pode ser trocada para implementar diferentes métodos."
   ]
  },
  {
   "cell_type": "code",
   "execution_count": 10,
   "metadata": {},
   "outputs": [],
   "source": [
    "int hash_divisao(int k){\n",
    "    cout << \"\\nk mod m \" << (k % tamHash()) << ' ';\n",
    "    return (k % tamHash());\n",
    "}"
   ]
  },
  {
   "cell_type": "markdown",
   "metadata": {},
   "source": [
    "Função para iniciar todos os elementos da tabela hash.\n",
    "\n",
    "A tabela apontará para uma lista de elementos."
   ]
  },
  {
   "cell_type": "code",
   "execution_count": 11,
   "metadata": {},
   "outputs": [],
   "source": [
    "void inicia(elemento tabelaHash[]){\n",
    "    for (int i = 0; i < tamHash(); i ++){\n",
    "        tabelaHash[i].chave = '\\0';\n",
    "        tabelaHash[i].valor[0] = '\\0';\n",
    "        tabelaHash[i].prox = NULL;\n",
    "    }\n",
    "}"
   ]
  },
  {
   "cell_type": "markdown",
   "metadata": {},
   "source": [
    "Função que converte um caracter ASCII para um índice numérico, que será a chave da string. Leva em consideração letras maiúsculas do alfabeto."
   ]
  },
  {
   "cell_type": "code",
   "execution_count": 12,
   "metadata": {},
   "outputs": [],
   "source": [
    "int char_to_chave(char chr){\n",
    "    char c = toupper(chr);\n",
    "    return c - A_ASCII;\n",
    "}"
   ]
  },
  {
   "cell_type": "markdown",
   "metadata": {},
   "source": [
    "Imprime os elementos da tabela Hash, isto é, uma lista e seus elementos para cada posição da tabela."
   ]
  },
  {
   "cell_type": "code",
   "execution_count": 13,
   "metadata": {},
   "outputs": [],
   "source": [
    "void imprime(elemento tabela[]){\n",
    "    cout << endl << endl;\n",
    "    for (int i = 0; i < tamHash(); i ++) {\n",
    "        cout << i << \":{\";\n",
    "        cout << tabela[i].valor << \".\";\n",
    "        if (tabela[i].prox != NULL)\n",
    "            imprimeLista(tabela[i].prox);\n",
    "        cout << \"}.\";\n",
    "    }\n",
    "}"
   ]
  },
  {
   "cell_type": "markdown",
   "metadata": {},
   "source": [
    "Inclui um elemento na tabela Hash. Os elementos com colisão serão incluídos em uma lista encadeada, de acordo com a ordem de inclusão, sem ordenação. \n",
    "\n",
    "Cada elemento deve ter uma chave única, porém mais de uma chave pode __mapear__ para o mesmo índice."
   ]
  },
  {
   "cell_type": "code",
   "execution_count": 14,
   "metadata": {},
   "outputs": [],
   "source": [
    "void inclui (elemento tabelaHash[], const char *valor) {\n",
    "    int i = hash_divisao(char_to_chave(valor[0]));\n",
    "    if (tabelaHash[i].chave == '\\0'){\n",
    "        tabelaHash[i].chave = toupper(valor[0]);\n",
    "        strcpy(tabelaHash[i].valor, valor);\n",
    "    }\n",
    "    else  //possui colisoes, incluir na lista\n",
    "        insere(&tabelaHash[i],valor);\n",
    "}"
   ]
  },
  {
   "cell_type": "markdown",
   "metadata": {},
   "source": [
    "Busca um elemento na tabela Hash. Calcula o valor do índice usando a função Hash, e busca o elemento na lista de colisões. Pode ser uma string vazia."
   ]
  },
  {
   "cell_type": "code",
   "execution_count": 15,
   "metadata": {},
   "outputs": [],
   "source": [
    "elemento *busca (elemento tabelaHash[], char chave){\n",
    "    return buscaLista(& tabelaHash[hash_divisao(char_to_chave(chave))], chave);\n",
    "}"
   ]
  },
  {
   "cell_type": "markdown",
   "metadata": {},
   "source": [
    "Função de exclusão na tabela hash. Procura a posição baseada na chave, e exclui o primeiro elemento, ou então procura na lista encadeada.\n",
    "\n",
    "Há um tratamento diferente para o primeiro elemento porque todos os elementos da tabela hash são previamente alocados."
   ]
  },
  {
   "cell_type": "code",
   "execution_count": 16,
   "metadata": {},
   "outputs": [],
   "source": [
    "void exclui (elemento tabelaHash[], char chave){\n",
    "    int indice = hash_divisao(char_to_chave(chave));\n",
    "    elemento *aux;\n",
    "    if (tabelaHash[indice].chave == chave){\n",
    "        if (tabelaHash[indice].prox == NULL){\n",
    "            tabelaHash[indice].chave = '\\0';\n",
    "            tabelaHash[indice].valor[0] = '\\0';\n",
    "            tabelaHash[indice].prox = NULL;\n",
    "        } else {\n",
    "            aux = tabelaHash[indice].prox;\n",
    "            tabelaHash[indice].chave = tabelaHash[indice].prox->chave;\n",
    "            strcpy(tabelaHash[indice].valor, tabelaHash[indice].prox->valor);\n",
    "            tabelaHash[indice].prox = tabelaHash[indice].prox->prox;\n",
    "            free(aux);\n",
    "        }\n",
    "    }\n",
    "    else \n",
    "        excluiLista (& tabelaHash[indice], chave);        \n",
    "}"
   ]
  },
  {
   "cell_type": "markdown",
   "metadata": {},
   "source": [
    "Inclui, busca e exclui elementos desta tabela Hash, com tratamento de colisões usando o **método de encadeamento**."
   ]
  },
  {
   "cell_type": "code",
   "execution_count": 17,
   "metadata": {},
   "outputs": [],
   "source": [
    "void iniciaprograma(){\n",
    "    \n",
    "    int t = tamHash();\n",
    "    elemento *e;\n",
    "    elemento tabelaHash[19];\n",
    "    inicia(tabelaHash);\n",
    "    \n",
    "    inclui(tabelaHash, \"Ariel\");\n",
    "    inclui(tabelaHash, \"Lucas\");\n",
    "    inclui(tabelaHash, \"Rafael\");\n",
    "    inclui(tabelaHash, \"Pamela\");\n",
    "    inclui(tabelaHash, \"Tamara\");\n",
    "    inclui(tabelaHash, \"Val\");\n",
    "    inclui(tabelaHash, \"Claus\");\n",
    "    \n",
    "    imprime(tabelaHash);\n",
    "    \n",
    "    cout << endl;\n",
    "    \n",
    "    imprimeValor ( busca(tabelaHash, 'R') );\n",
    "    imprimeValor ( busca(tabelaHash, 'P') );\n",
    "    imprimeValor ( busca(tabelaHash, 'K') );\n",
    "    imprimeValor ( busca(tabelaHash, 'V') );\n",
    "    imprimeValor ( busca(tabelaHash, 'C') );\n",
    "    \n",
    "    exclui(tabelaHash,'L');\n",
    "    exclui(tabelaHash,'V');\n",
    "    \n",
    "    imprime(tabelaHash);\n",
    "    \n",
    "    imprimeValor (busca(tabelaHash, 'R'));\n",
    "    imprimeValor (busca(tabelaHash, 'P'));\n",
    "    imprimeValor (busca(tabelaHash, 'K'));    \n",
    "    \n",
    "}"
   ]
  },
  {
   "cell_type": "code",
   "execution_count": 18,
   "metadata": {},
   "outputs": [
    {
     "name": "stdout",
     "output_type": "stream",
     "text": [
      "\n",
      "k mod m 0 \n",
      "k mod m 11 \n",
      "k mod m 17 \n",
      "k mod m 15 \n",
      "k mod m 0 \n",
      "k mod m 2 \n",
      "k mod m 2 \n",
      "\n",
      "0:{Ariel.Tamara:}.1:{.}.2:{Val.Claus:}.3:{.}.4:{.}.5:{.}.6:{.}.7:{.}.8:{.}.9:{.}.10:{.}.11:{Lucas.}.12:{.}.13:{.}.14:{.}.15:{Pamela.}.16:{.}.17:{Rafael.}.18:{.}.\n",
      "\n",
      "k mod m 17 Rafael\n",
      "k mod m 15 Pamela\n",
      "k mod m 10 \n",
      "k mod m 2 Val\n",
      "k mod m 2 Claus\n",
      "k mod m 11 \n",
      "k mod m 2 \n",
      "\n",
      "0:{Ariel.Tamara:}.1:{.}.2:{Claus.}.3:{.}.4:{.}.5:{.}.6:{.}.7:{.}.8:{.}.9:{.}.10:{.}.11:{.}.12:{.}.13:{.}.14:{.}.15:{Pamela.}.16:{.}.17:{Rafael.}.18:{.}.\n",
      "k mod m 17 Rafael\n",
      "k mod m 15 Pamela\n",
      "k mod m 10 "
     ]
    }
   ],
   "source": [
    "iniciaprograma();"
   ]
  }
 ],
 "metadata": {
  "kernelspec": {
   "display_name": "C++14",
   "language": "C++14",
   "name": "xcpp14"
  },
  "language_info": {
   "codemirror_mode": "text/x-c++src",
   "file_extension": ".cpp",
   "mimetype": "text/x-c++src",
   "name": "c++",
   "version": "14"
  }
 },
 "nbformat": 4,
 "nbformat_minor": 4
}

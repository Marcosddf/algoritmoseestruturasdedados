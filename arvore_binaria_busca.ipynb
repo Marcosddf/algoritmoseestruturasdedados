{
 "cells": [
  {
   "cell_type": "markdown",
   "metadata": {},
   "source": [
    "## Tipo Abstrato de Dado (TAD) árvore binária de busca\n",
    "\n",
    "O código abaixo ilustra uma árvore binária de busca."
   ]
  },
  {
   "cell_type": "code",
   "execution_count": 1,
   "metadata": {},
   "outputs": [],
   "source": [
    "#include <iostream>\n",
    "#include <stdlib.h> \n",
    "using namespace std;"
   ]
  },
  {
   "cell_type": "markdown",
   "metadata": {},
   "source": [
    "Estrutura para uma árvore binária simples.\n",
    "A árvore tem ponteiro para o nó pai."
   ]
  },
  {
   "cell_type": "code",
   "execution_count": 2,
   "metadata": {},
   "outputs": [],
   "source": [
    "struct tNo {\n",
    "  int chave; // pode ser modificado paraqualquer tipo de dado\n",
    "  tNo *esq, *dir, *pai;\n",
    "};"
   ]
  },
  {
   "cell_type": "markdown",
   "metadata": {},
   "source": [
    "Função para inicialização do nó, com alocação de memória e atribuição de valores para os componentes do nó."
   ]
  },
  {
   "cell_type": "code",
   "execution_count": 3,
   "metadata": {},
   "outputs": [],
   "source": [
    "tNo *criaNo (int chave){\n",
    "  tNo *n = (tNo *)malloc (sizeof (tNo));\n",
    "  n->chave = chave;\n",
    "  n->esq = NULL;\n",
    "  n->dir = NULL;\n",
    "  n->pai = NULL; \n",
    "  return n;\n",
    "}"
   ]
  },
  {
   "cell_type": "markdown",
   "metadata": {},
   "source": [
    "Funcão para inclusão de novo nó na árvore, dado um nó raiz."
   ]
  },
  {
   "cell_type": "code",
   "execution_count": 4,
   "metadata": {},
   "outputs": [],
   "source": [
    "tNo* inclui (tNo *no, int c){\n",
    "    if (no == NULL) return criaNo(c);    \n",
    "    if (c < no->chave){\n",
    "        no->esq = inclui(no->esq, c);\n",
    "        no->esq->pai = no;\n",
    "    }\n",
    "    else {\n",
    "        no->dir = inclui(no->dir, c);\n",
    "        no->dir->pai = no;\n",
    "    }\n",
    "    return no;\n",
    "}"
   ]
  },
  {
   "cell_type": "markdown",
   "metadata": {},
   "source": [
    "Função de inclusão de novo nó, versão iterativa (sem recursão). Todas as chamadas abaixo poderiam ser feitas usando a busca recursiva OU a busca iterativa."
   ]
  },
  {
   "cell_type": "code",
   "execution_count": 5,
   "metadata": {},
   "outputs": [],
   "source": [
    "tNo* inclusaoIterativa (tNo *no, int c){\n",
    "    if (no == NULL) return criaNo(c); \n",
    "    tNo *pai, *raiz = no;\n",
    "    while (no != NULL)  {\n",
    "        pai = no;\n",
    "        if ( c < no->chave)\n",
    "            no = no->esq;\n",
    "        else\n",
    "            no = no->dir;\n",
    "    }\n",
    "    no = criaNo(c);\n",
    "    if (c < pai->chave)\n",
    "        pai->esq = no;\n",
    "    else\n",
    "        pai->dir = no;\n",
    "    no->pai = pai;\n",
    "    return raiz;        \n",
    "}"
   ]
  },
  {
   "cell_type": "markdown",
   "metadata": {},
   "source": [
    "Função que lê um token, separado por espaço, e converte para um número inteiro."
   ]
  },
  {
   "cell_type": "code",
   "execution_count": 6,
   "metadata": {},
   "outputs": [],
   "source": [
    "int token_to_num(const char *str, int *indice){    \n",
    "    char token[100];\n",
    "    int i = 0;\n",
    "    while (str[*indice] != '\\0' && str[*indice] != ' '){\n",
    "        token[i] = str[*indice];\n",
    "        i++;\n",
    "        (*indice)++;\n",
    "    }\n",
    "    token[i] = '\\0';\n",
    "    (*indice)++;    \n",
    "    return atoi(token);\n",
    "}"
   ]
  },
  {
   "cell_type": "markdown",
   "metadata": {},
   "source": [
    "Função que monta uma árvore binária recebendo como entrada uma árvore com parênteses aninhados. Não há suporte a erros de entrada, por isso a árvore passada como parâmetro deve estar correta."
   ]
  },
  {
   "cell_type": "code",
   "execution_count": 7,
   "metadata": {},
   "outputs": [],
   "source": [
    "tNo* montaarvore(const char *str){\n",
    "    tNo *raiz = NULL;\n",
    "    int i = 0, v =0;\n",
    "    raiz = inclui(NULL, token_to_num(str,&i));\n",
    "    while (str[i]!='\\0'){\n",
    "        inclui (raiz, token_to_num(str, &i));                \n",
    "    }\n",
    "    return raiz;        \n",
    "}"
   ]
  },
  {
   "cell_type": "markdown",
   "metadata": {},
   "source": [
    "Operação de visita do nó. Neste caso é uma impressão simples."
   ]
  },
  {
   "cell_type": "code",
   "execution_count": 8,
   "metadata": {},
   "outputs": [],
   "source": [
    "void visita(tNo * no){\n",
    "    cout << no->chave << '.' ;\n",
    "}"
   ]
  },
  {
   "cell_type": "markdown",
   "metadata": {},
   "source": [
    "Percurso da árvore em **PRÉ-ORDEM**."
   ]
  },
  {
   "cell_type": "code",
   "execution_count": 9,
   "metadata": {},
   "outputs": [],
   "source": [
    "void preordem(tNo *no){\n",
    "    if (no != NULL){\n",
    "        visita(no);\n",
    "        preordem(no->esq);\n",
    "        preordem(no->dir);\n",
    "    }\n",
    "}"
   ]
  },
  {
   "cell_type": "markdown",
   "metadata": {},
   "source": [
    "Percurso da árvore em **ORDEM**."
   ]
  },
  {
   "cell_type": "code",
   "execution_count": 10,
   "metadata": {},
   "outputs": [],
   "source": [
    "void emordem(tNo *no){    \n",
    "    if (no !=NULL){\n",
    "        emordem(no->esq);\n",
    "        visita(no);\n",
    "        emordem(no->dir);\n",
    "    }\n",
    "}"
   ]
  },
  {
   "cell_type": "markdown",
   "metadata": {},
   "source": [
    "Percurso da árvore em **PÓS-ORDEM**."
   ]
  },
  {
   "cell_type": "code",
   "execution_count": 11,
   "metadata": {},
   "outputs": [],
   "source": [
    "void posordem(tNo * no){\n",
    "    if (no !=NULL){    \n",
    "        posordem(no->esq);        \n",
    "        posordem(no->dir);\n",
    "        visita(no);\n",
    "    }\n",
    "}"
   ]
  },
  {
   "cell_type": "markdown",
   "metadata": {},
   "source": [
    "Conta o número de nós da árvore."
   ]
  },
  {
   "cell_type": "code",
   "execution_count": 12,
   "metadata": {},
   "outputs": [],
   "source": [
    "int contaNos(tNo *no){\n",
    "    if (no!=NULL) {\n",
    "        return contaNos(no->esq) + contaNos(no->dir) + 1;\n",
    "    } else\n",
    "        return 0;\n",
    "}"
   ]
  },
  {
   "cell_type": "markdown",
   "metadata": {},
   "source": [
    "Calcula a altura da árvore. Retorna -1 para considerar a altura da raiz como 0."
   ]
  },
  {
   "cell_type": "code",
   "execution_count": 13,
   "metadata": {},
   "outputs": [],
   "source": [
    "int altura (tNo *p) {\n",
    "    int he, hd;\n",
    "    if (p == NULL) return -1;\n",
    "    he = altura (p->esq);\n",
    "    hd = altura (p->dir);\n",
    "    if (he > hd)\n",
    "        return he+1;\n",
    "    else\n",
    "        return hd+1;    \n",
    "}"
   ]
  },
  {
   "cell_type": "markdown",
   "metadata": {},
   "source": [
    "Busca em árvore binária. Imprime a chave do nó que está sendo visitado para mostrar o caminho percorrido."
   ]
  },
  {
   "cell_type": "code",
   "execution_count": 14,
   "metadata": {},
   "outputs": [],
   "source": [
    "tNo *busca(tNo *no, int chave){\n",
    "    if (no == NULL) return NULL;\n",
    "    //cout << no->chave << \".\";\n",
    "    if (no->chave == chave) return no;\n",
    "    if (chave < no->chave)\n",
    "        return busca (no->esq, chave);\n",
    "    else\n",
    "        return busca (no->dir, chave);\n",
    "}"
   ]
  },
  {
   "cell_type": "markdown",
   "metadata": {},
   "source": [
    "Função de busca em árvore binária, iterativa (sem usar recursão). Todas as chamadas abaixo poderiam ser feitas usando a busca recursiva OU a busca iterativa. "
   ]
  },
  {
   "cell_type": "code",
   "execution_count": 15,
   "metadata": {},
   "outputs": [],
   "source": [
    "tNo *buscaIterativa(tNo *no, int chave){\n",
    "    while (no != NULL && no->chave != chave){\n",
    "        if (chave < no->chave)\n",
    "            no = no->esq;\n",
    "        else\n",
    "            no = no->dir;\n",
    "    }\n",
    "    return no;\n",
    "}"
   ]
  },
  {
   "cell_type": "markdown",
   "metadata": {},
   "source": [
    "Função auxiliar para imprimir a chamada de várias operações."
   ]
  },
  {
   "cell_type": "code",
   "execution_count": 16,
   "metadata": {},
   "outputs": [],
   "source": [
    "void imprime(const char *str, tNo *no){\n",
    "    cout << \"||\" << str << \" \";\n",
    "    if (no!=NULL) cout << \"[\"<< no->chave<<\"]\";\n",
    "    else cout << \"não\";\n",
    "    cout << \" encontrado\\n\";\n",
    "}"
   ]
  },
  {
   "cell_type": "markdown",
   "metadata": {},
   "source": [
    "Função que retorna o nó mínimo de uma sub-árvore. O nó mínimo de uma subárvore é o nó com a menor chave."
   ]
  },
  {
   "cell_type": "code",
   "execution_count": 17,
   "metadata": {},
   "outputs": [],
   "source": [
    "tNo *min(tNo *no){\n",
    "    if (no->esq == NULL) return no;\n",
    "    else\n",
    "        return min(no->esq);\n",
    "}"
   ]
  },
  {
   "cell_type": "markdown",
   "metadata": {},
   "source": [
    "Função que retorna o nó sucessor de um determinado nó. A chave do nó deverá ser o valor imediatamente superior, em ordem crescente. \n",
    "\n",
    "As funções do antecessor e máximo possuem ideia semelhante as do sucessor e mínimo, porém para o lado contrário da árvore."
   ]
  },
  {
   "cell_type": "code",
   "execution_count": 18,
   "metadata": {},
   "outputs": [],
   "source": [
    "tNo *sucessor (tNo *no){\n",
    "    tNo *s = NULL;\n",
    "    if (no->dir != NULL) return min (no->dir);\n",
    "    else {\n",
    "        s = no->pai;\n",
    "        while (s != NULL && no == s->dir) {\n",
    "            no = s;\n",
    "            s = s->pai;\n",
    "        }        \n",
    "    }\n",
    "    return s;\n",
    "}"
   ]
  },
  {
   "cell_type": "markdown",
   "metadata": {},
   "source": [
    "Função para ajustar ponteiro _pai_ da árvore binária, usada na função de exclusão"
   ]
  },
  {
   "cell_type": "code",
   "execution_count": 19,
   "metadata": {},
   "outputs": [],
   "source": [
    "void ajustaNoPai(tNo *no, tNo *novo){\n",
    "    if (no->pai != NULL) {\n",
    "        if (no->pai->esq == no)\n",
    "            no->pai->esq = novo;\n",
    "        else\n",
    "            no->pai->dir = novo;\n",
    "        if (novo != NULL)\n",
    "           novo->pai = no->pai;\n",
    "    }\n",
    "}"
   ]
  },
  {
   "cell_type": "markdown",
   "metadata": {},
   "source": [
    "Função que exclui um nó da árvore binária. Usa a regra do sucessor. Retorna a raiz da árvore, pois a árvore poderá ter uma nova raiz, caso seja o nó a ser excluído.\n",
    "\n",
    "A mesma função poderia ser adaptada para usar a regra do antecessor."
   ]
  },
  {
   "cell_type": "code",
   "execution_count": 20,
   "metadata": {},
   "outputs": [],
   "source": [
    "tNo* exclui (tNo *no, tNo *raiz) {\n",
    "    tNo *s, *novaRaiz = raiz;\n",
    "    if (no->esq == NULL){\n",
    "        ajustaNoPai(no, no->dir);\n",
    "        free (no);\n",
    "    } else {\n",
    "        if (no->dir == NULL){\n",
    "            ajustaNoPai(no, no->esq);\n",
    "            free(no);\n",
    "        }\n",
    "        else {            \n",
    "            s = sucessor (no);\n",
    "            ajustaNoPai(s, s->dir);\n",
    "            s->esq = no->esq;\n",
    "            s->dir = no->dir;\n",
    "            ajustaNoPai(no, s);\n",
    "            if (no == raiz) novaRaiz = s;\n",
    "            free(no);\n",
    "        }\n",
    "    }        \n",
    "    return novaRaiz;\n",
    "}"
   ]
  },
  {
   "cell_type": "code",
   "execution_count": 21,
   "metadata": {},
   "outputs": [],
   "source": [
    "void iniciaprograma(){\n",
    "    tNo *raiz = NULL, *no= NULL;\n",
    "    char entrada[] = \"10 15 5 55 50 7 8 14 13 49\\0\";\n",
    "    \n",
    "    raiz=montaarvore(entrada);    \n",
    "    cout << \"\\nPercurso em pré-ordem: \";\n",
    "    preordem(raiz); cout << \"\\n\";\n",
    "    cout << \"Percurso em ordem: \";\n",
    "    emordem(raiz); cout << \"\\n\";\n",
    "    cout << \"Percurso em pós-ordem: \";\n",
    "    posordem(raiz);\n",
    "    cout << \"\\nTotal de nós: \" << contaNos(raiz);\n",
    "    cout << \"\\nAltura da árvore: \" << altura(raiz) << \"\\n\";\n",
    "    cout << \"\\n\";\n",
    "    imprime(\"busca\", busca (raiz,15));\n",
    "    imprime(\"busca\", busca (raiz,50));\n",
    "    imprime(\"busca\", busca (raiz,10));\n",
    "    imprime(\"busca 17\", busca (raiz,17));  \n",
    "    cout << \"\\n\";\n",
    "    imprime(\"minimo raiz: \", min (raiz));\n",
    "    imprime(\"minimo 15: \", min (busca(raiz,15)));\n",
    "    imprime(\"minimo 55: \", min (busca(raiz,55)));\n",
    "    cout << \"\\n\";\n",
    "    imprime(\"sucessor raiz: \", sucessor (raiz));\n",
    "    imprime(\"sucessor 15: \", sucessor (busca(raiz,15)));\n",
    "    imprime(\"sucessor 5: \", sucessor (busca(raiz,5)));\n",
    "    imprime(\"sucessor 8: \", sucessor (busca(raiz,8)));\n",
    "    imprime(\"sucessor 55: \", sucessor (busca(raiz,55)));\n",
    "    cout << \"\\n\";\n",
    "    \n",
    "    int v = 10;\n",
    "    cout << \"exclusão :\" << v << \"\\n\";\n",
    "    raiz = exclui( busca(raiz,v), raiz); cout << \"\\n\";\n",
    "    preordem(raiz); cout << \"\\n\";\n",
    "    \n",
    "    v = 7;\n",
    "    cout << \"exclusão :\" << v << \"\\n\";\n",
    "    raiz = exclui( busca(raiz,v), raiz); cout << \"\\n\";\n",
    "    preordem(raiz); cout << \"\\n\";\n",
    "    \n",
    "    v = 49;\n",
    "    cout << \"exclusão :\" << v << \"\\n\";\n",
    "    raiz = exclui( busca(raiz,v), raiz); cout << \"\\n\";\n",
    "    preordem(raiz); cout << \"\\n\";    \n",
    "    \n",
    "}"
   ]
  },
  {
   "cell_type": "code",
   "execution_count": 22,
   "metadata": {},
   "outputs": [
    {
     "name": "stdout",
     "output_type": "stream",
     "text": [
      "\n",
      "Percurso em pré-ordem: 10.5.7.8.15.14.13.55.50.49.\n",
      "Percurso em ordem: 5.7.8.10.13.14.15.49.50.55.\n",
      "Percurso em pós-ordem: 8.7.5.13.14.49.50.55.15.10.\n",
      "Total de nós: 10\n",
      "Altura da árvore: 4\n",
      "\n",
      "||busca [15] encontrado\n",
      "||busca [50] encontrado\n",
      "||busca [10] encontrado\n",
      "||busca 17 não encontrado\n",
      "\n",
      "||minimo raiz:  [5] encontrado\n",
      "||minimo 15:  [13] encontrado\n",
      "||minimo 55:  [49] encontrado\n",
      "\n",
      "||sucessor raiz:  [13] encontrado\n",
      "||sucessor 15:  [49] encontrado\n",
      "||sucessor 5:  [7] encontrado\n",
      "||sucessor 8:  [10] encontrado\n",
      "||sucessor 55:  não encontrado\n",
      "\n",
      "exclusão :10\n",
      "\n",
      "13.5.7.8.15.14.55.50.49.\n",
      "exclusão :7\n",
      "\n",
      "13.5.8.15.14.55.50.49.\n",
      "exclusão :49\n",
      "\n",
      "13.5.8.15.14.55.50.\n"
     ]
    }
   ],
   "source": [
    "iniciaprograma();"
   ]
  }
 ],
 "metadata": {
  "kernelspec": {
   "display_name": "C++14",
   "language": "C++14",
   "name": "xcpp14"
  },
  "language_info": {
   "codemirror_mode": "text/x-c++src",
   "file_extension": ".cpp",
   "mimetype": "text/x-c++src",
   "name": "c++",
   "version": "14"
  }
 },
 "nbformat": 4,
 "nbformat_minor": 4
}

{
 "cells": [
  {
   "cell_type": "markdown",
   "metadata": {},
   "source": [
    "## Percursos iterativos\n",
    "\n",
    "O código abaixo ilustra percursos iterativos e seus equivalentes recursivos em uma árvore binária de busca. Os percursos iterativos utilizam a estrutura de dados de uma pilha (TAD pilha) para armazenar os nós percorridos.\n",
    "\n",
    "A maioria das funções do TAD árvore binária de busca não são suportadas, pois o objetivo é apresentar os percursos. Uma árvore binária de busca com mais operações está implementada no notebook do link: https://github.com/Marcosddf/algoritmoseestruturasdedados/blob/master/arvore_binaria_busca.ipynb\n"
   ]
  },
  {
   "cell_type": "code",
   "execution_count": 1,
   "metadata": {},
   "outputs": [],
   "source": [
    "#include <iostream>\n",
    "#include <stdlib.h> \n",
    "using namespace std;"
   ]
  },
  {
   "cell_type": "markdown",
   "metadata": {},
   "source": [
    "Estrutura para uma árvore binária simples.\n",
    "A árvore tem ponteiro para o nó pai."
   ]
  },
  {
   "cell_type": "code",
   "execution_count": 2,
   "metadata": {},
   "outputs": [],
   "source": [
    "struct tNo {\n",
    "  int chave; // pode ser modificado paraqualquer tipo de dado\n",
    "  tNo *esq, *dir, *pai;\n",
    "};"
   ]
  },
  {
   "cell_type": "markdown",
   "metadata": {},
   "source": [
    "TAD pilha, com operações inicia, push, pop e top. Usado nos percursos iterativos."
   ]
  },
  {
   "cell_type": "code",
   "execution_count": 3,
   "metadata": {},
   "outputs": [],
   "source": [
    "struct tPilha {\n",
    "    tNo * dados [100];\n",
    "    int topo;\n",
    "}"
   ]
  },
  {
   "cell_type": "code",
   "execution_count": 4,
   "metadata": {},
   "outputs": [],
   "source": [
    "tNo *top(tPilha *p){\n",
    "    return p->dados [p->topo];\n",
    "}"
   ]
  },
  {
   "cell_type": "code",
   "execution_count": 5,
   "metadata": {},
   "outputs": [],
   "source": [
    "bool vazia (tPilha *p){\n",
    "    return p->topo < 0;\n",
    "}"
   ]
  },
  {
   "cell_type": "code",
   "execution_count": 6,
   "metadata": {},
   "outputs": [],
   "source": [
    "void inicia(tPilha *p){\n",
    "    p->topo = -1;\n",
    "}"
   ]
  },
  {
   "cell_type": "code",
   "execution_count": 7,
   "metadata": {},
   "outputs": [],
   "source": [
    "void push(tPilha *p, tNo *n){\n",
    "    p->topo ++;\n",
    "    p->dados [p->topo] = n;\n",
    "}"
   ]
  },
  {
   "cell_type": "code",
   "execution_count": 8,
   "metadata": {},
   "outputs": [],
   "source": [
    "tNo *pop(tPilha *p){\n",
    "    tNo *topo;\n",
    "    if (p->topo < 0) {\n",
    "        cout << \"\\npilha vazia\\n\";\n",
    "        return NULL;\n",
    "    }\n",
    "    topo = p->dados[p->topo];\n",
    "    p->topo --;\n",
    "    return topo;\n",
    "}"
   ]
  },
  {
   "cell_type": "markdown",
   "metadata": {},
   "source": [
    "Função para inicialização do nó, com alocação de memória e atribuição de valores para os componentes do nó."
   ]
  },
  {
   "cell_type": "code",
   "execution_count": 9,
   "metadata": {},
   "outputs": [],
   "source": [
    "tNo *criaNo (int chave){\n",
    "  tNo *n = (tNo *)malloc (sizeof (tNo));\n",
    "  n->chave = chave;\n",
    "  n->esq = NULL;\n",
    "  n->dir = NULL;\n",
    "  n->pai = NULL; \n",
    "  return n;\n",
    "}"
   ]
  },
  {
   "cell_type": "markdown",
   "metadata": {},
   "source": [
    "Funcão para inclusão de novo nó na árvore, dado um nó raiz."
   ]
  },
  {
   "cell_type": "code",
   "execution_count": 10,
   "metadata": {},
   "outputs": [],
   "source": [
    "tNo* inclui (tNo *no, int c){\n",
    "    if (no == NULL) return criaNo(c);    \n",
    "    if (c < no->chave){\n",
    "        no->esq = inclui(no->esq, c);\n",
    "        no->esq->pai = no;\n",
    "    }\n",
    "    else {\n",
    "        no->dir = inclui(no->dir, c);\n",
    "        no->dir->pai = no;\n",
    "    }\n",
    "    return no;\n",
    "}"
   ]
  },
  {
   "cell_type": "markdown",
   "metadata": {},
   "source": [
    "Função que lê um token, separado por espaço, e converte para um número inteiro."
   ]
  },
  {
   "cell_type": "code",
   "execution_count": 11,
   "metadata": {},
   "outputs": [],
   "source": [
    "int token_to_num(const char *str, int *indice){    \n",
    "    char token[100];\n",
    "    int i = 0;\n",
    "    while (str[*indice] != '\\0' && str[*indice] != ' '){\n",
    "        token[i] = str[*indice];\n",
    "        i++;\n",
    "        (*indice)++;\n",
    "    }\n",
    "    token[i] = '\\0';\n",
    "    (*indice)++;    \n",
    "    return atoi(token);\n",
    "}"
   ]
  },
  {
   "cell_type": "markdown",
   "metadata": {},
   "source": [
    "Função que monta uma árvore binária recebendo como entrada uma árvore com parênteses aninhados. Não há suporte a erros de entrada, por isso a árvore passada como parâmetro deve estar correta."
   ]
  },
  {
   "cell_type": "code",
   "execution_count": 12,
   "metadata": {},
   "outputs": [],
   "source": [
    "tNo* montaarvore(const char *str){\n",
    "    tNo *raiz = NULL;\n",
    "    int i = 0, v =0;\n",
    "    raiz = inclui(NULL, token_to_num(str,&i));\n",
    "    while (str[i]!='\\0'){\n",
    "        inclui (raiz, token_to_num(str, &i));                \n",
    "    }\n",
    "    return raiz;        \n",
    "}"
   ]
  },
  {
   "cell_type": "markdown",
   "metadata": {},
   "source": [
    "Operação de visita do nó. Neste caso é uma impressão simples."
   ]
  },
  {
   "cell_type": "code",
   "execution_count": 13,
   "metadata": {},
   "outputs": [],
   "source": [
    "void visita(tNo * no){\n",
    "    cout << no->chave << '.' ;\n",
    "}"
   ]
  },
  {
   "cell_type": "markdown",
   "metadata": {},
   "source": [
    "Percurso da árvore em **PRÉ-ORDEM**."
   ]
  },
  {
   "cell_type": "code",
   "execution_count": 14,
   "metadata": {},
   "outputs": [],
   "source": [
    "void preordem(tNo *no){\n",
    "    if (no != NULL){\n",
    "        visita(no);\n",
    "        preordem(no->esq);\n",
    "        preordem(no->dir);\n",
    "    }\n",
    "}"
   ]
  },
  {
   "cell_type": "markdown",
   "metadata": {},
   "source": [
    "Percurso da árvore em **ORDEM**."
   ]
  },
  {
   "cell_type": "code",
   "execution_count": 15,
   "metadata": {},
   "outputs": [],
   "source": [
    "void emordem(tNo *no){    \n",
    "    if (no !=NULL){\n",
    "        emordem(no->esq);\n",
    "        visita(no);\n",
    "        emordem(no->dir);\n",
    "    }\n",
    "}"
   ]
  },
  {
   "cell_type": "markdown",
   "metadata": {},
   "source": [
    "Percurso da árvore em **PÓS-ORDEM**."
   ]
  },
  {
   "cell_type": "code",
   "execution_count": 16,
   "metadata": {},
   "outputs": [],
   "source": [
    "void posordem(tNo * no){\n",
    "    if (no !=NULL){    \n",
    "        posordem(no->esq);        \n",
    "        posordem(no->dir);\n",
    "        visita(no);\n",
    "    }\n",
    "}"
   ]
  },
  {
   "cell_type": "markdown",
   "metadata": {},
   "source": [
    "Conta o número de nós da árvore."
   ]
  },
  {
   "cell_type": "code",
   "execution_count": 17,
   "metadata": {},
   "outputs": [],
   "source": [
    "int contaNos(tNo *no){\n",
    "    if (no!=NULL) {\n",
    "        return contaNos(no->esq) + contaNos(no->dir) + 1;\n",
    "    } else\n",
    "        return 0;\n",
    "}"
   ]
  },
  {
   "cell_type": "markdown",
   "metadata": {},
   "source": [
    "Calcula a altura da árvore. Retorna -1 para considerar a altura da raiz como 0."
   ]
  },
  {
   "cell_type": "code",
   "execution_count": 18,
   "metadata": {},
   "outputs": [],
   "source": [
    "int altura (tNo *p) {\n",
    "    int he, hd;\n",
    "    if (p == NULL) return -1;\n",
    "    he = altura (p->esq);\n",
    "    hd = altura (p->dir);\n",
    "    if (he > hd)\n",
    "        return he+1;\n",
    "    else\n",
    "        return hd+1;    \n",
    "}"
   ]
  },
  {
   "cell_type": "markdown",
   "metadata": {},
   "source": [
    "Busca em árvore binária. Imprime a chave do nó que está sendo visitado para mostrar o caminho percorrido."
   ]
  },
  {
   "cell_type": "code",
   "execution_count": 19,
   "metadata": {},
   "outputs": [],
   "source": [
    "tNo *busca(tNo *no, int chave){\n",
    "    if (no == NULL) return NULL;\n",
    "    //cout << no->chave << \".\";\n",
    "    if (no->chave == chave) return no;\n",
    "    if (chave < no->chave)\n",
    "        return busca (no->esq, chave);\n",
    "    else\n",
    "        return busca (no->dir, chave);\n",
    "}"
   ]
  },
  {
   "cell_type": "markdown",
   "metadata": {},
   "source": [
    "Percurso em pré ordem iterativo.\n",
    "\n",
    "O algoritmo sempre visita o nó, imprimindo o valor da chave, empilha o nó da direita e percorre para a esquerda.\n",
    "Quando não há nó à esquerda, desempilha o nó da direita."
   ]
  },
  {
   "cell_type": "code",
   "execution_count": 20,
   "metadata": {},
   "outputs": [],
   "source": [
    "void preordemIterativo(tNo *raiz){\n",
    "    tPilha *pilha = (tPilha *)malloc (sizeof(tPilha));\n",
    "    inicia(pilha);\n",
    "    tNo *no = raiz;\n",
    "    while (no != NULL || ! vazia (pilha) ) {\n",
    "        if (no != NULL) {\n",
    "            visita(no);\n",
    "            if (no->dir != NULL)\n",
    "                push(pilha, no->dir);\n",
    "            no = no->esq;\n",
    "        } else {\n",
    "            no = pop(pilha);\n",
    "        }\n",
    "    }\n",
    "}"
   ]
  },
  {
   "cell_type": "markdown",
   "metadata": {},
   "source": [
    "Percurso em ordem iterativo.\n",
    "\n",
    "O algoritmo empilha o nó e vai para a esquerda, até não encontrar nó esquerdo.\n",
    "\n",
    "Em seguida, desempilha o nó (\"do meio\"), visita este nó e vai para a direita.\n"
   ]
  },
  {
   "cell_type": "code",
   "execution_count": 21,
   "metadata": {},
   "outputs": [],
   "source": [
    "void emordemIterativo(tNo *raiz){\n",
    "    tPilha *pilha = (tPilha *)malloc (sizeof(tPilha));\n",
    "    inicia(pilha);\n",
    "    tNo *no = raiz;\n",
    "    while (no != NULL || ! vazia (pilha)){\n",
    "        while (no != NULL){\n",
    "            push (pilha, no);\n",
    "            no = no->esq;\n",
    "        }\n",
    "        if (!vazia (pilha)){\n",
    "            no = pop(pilha);\n",
    "            visita (no);\n",
    "            no = no->dir;\n",
    "        }\n",
    "    }\n",
    "}"
   ]
  },
  {
   "cell_type": "markdown",
   "metadata": {},
   "source": [
    "Percurso pós ordem iterativo.\n",
    "\n",
    "Este algoritmo utiliza 2 pilha: a primeira pilha é usada para armazenar a ordem de percurso dos elementos da árvore, semelhante a um percurso em pré-ordem invertido.\n",
    "\n",
    "A segunda pilha armazena os elementos seguindo a ordem de impressão final.\n",
    "\n",
    "Há diferentes implementações para o percurso pós ordem iterativo, como utilizando apenas 1 pilha e com variáveis de controle (_flags_) para identificar a direção de percurso na árvore."
   ]
  },
  {
   "cell_type": "code",
   "execution_count": 22,
   "metadata": {},
   "outputs": [],
   "source": [
    "void posordemIterativo(tNo *raiz){\n",
    "    tNo *no = raiz;\n",
    "    tPilha *pilha = (tPilha *)malloc (sizeof(tPilha));\n",
    "    tPilha *pImpressao = (tPilha *)malloc (sizeof(tPilha));\n",
    "    inicia(pImpressao);\n",
    "    inicia(pilha);\n",
    "    push(pilha,no);\n",
    "    while (! vazia (pilha) ) {\n",
    "        no = pop(pilha);\n",
    "        push(pImpressao,no);\n",
    "        if (no->esq != NULL) push (pilha,no->esq);\n",
    "        if (no->dir != NULL) push (pilha,no->dir);        \n",
    "    }\n",
    "    while (! vazia(pImpressao))\n",
    "        visita (pop(pImpressao));\n",
    "}"
   ]
  },
  {
   "cell_type": "code",
   "execution_count": 23,
   "metadata": {},
   "outputs": [],
   "source": [
    "void iniciaprograma(){\n",
    "    tNo *raiz = NULL, *no= NULL;\n",
    "    char entrada[] = \"10 15 5 55 50 7 8 14 13 49\\0\";\n",
    "    \n",
    "    raiz=montaarvore(entrada);    \n",
    "    cout << \"\\nPercurso em pré-ordem: \";\n",
    "    preordem(raiz); cout << \"\\n\";\n",
    "    cout << \"Percurso em ordem: \";\n",
    "    emordem(raiz); cout << \"\\n\";\n",
    "    cout << \"Percurso em pós-ordem: \";\n",
    "    posordem(raiz);\n",
    "    cout << \"\\nTotal de nós: \" << contaNos(raiz);\n",
    "    cout << \"\\nAltura da árvore: \" << altura(raiz) << \"\\n\";\n",
    "    cout << \"\\n\";\n",
    "    \n",
    "    cout << \"Percurso pré-ordem iterativo: \";\n",
    "    preordemIterativo(raiz); cout << \"\\n\";   \n",
    "    cout << \"Percurso em ordem iterativo: \";\n",
    "    emordemIterativo(raiz); cout << \"\\n\";   \n",
    "    cout << \"Percurso pós-ordem iterativo: \";\n",
    "    posordemIterativo(raiz); cout << \"\\n\";       \n",
    "    \n",
    "\n",
    "    \n",
    "}"
   ]
  },
  {
   "cell_type": "code",
   "execution_count": 24,
   "metadata": {},
   "outputs": [
    {
     "name": "stdout",
     "output_type": "stream",
     "text": [
      "\n",
      "Percurso em pré-ordem: 10.5.7.8.15.14.13.55.50.49.\n",
      "Percurso em ordem: 5.7.8.10.13.14.15.49.50.55.\n",
      "Percurso em pós-ordem: 8.7.5.13.14.49.50.55.15.10.\n",
      "Total de nós: 10\n",
      "Altura da árvore: 4\n",
      "\n",
      "Percurso pré-ordem iterativo: 10.5.7.8.15.14.13.55.50.49.\n",
      "Percurso em ordem iterativo: 5.7.8.10.13.14.15.49.50.55.\n",
      "Percurso pós ordem iterativo: 8.7.5.13.14.49.50.55.15.10.\n"
     ]
    }
   ],
   "source": [
    "iniciaprograma();"
   ]
  }
 ],
 "metadata": {
  "kernelspec": {
   "display_name": "C++14",
   "language": "C++14",
   "name": "xcpp14"
  },
  "language_info": {
   "codemirror_mode": "text/x-c++src",
   "file_extension": ".cpp",
   "mimetype": "text/x-c++src",
   "name": "c++",
   "version": "14"
  }
 },
 "nbformat": 4,
 "nbformat_minor": 4
}

{
 "cells": [
  {
   "cell_type": "markdown",
   "metadata": {},
   "source": [
    "## Árvore TRIE\n",
    "\n",
    "O código abaixo ilustra a inclusão, busca e percursos em uma árvore TRIE."
   ]
  },
  {
   "cell_type": "code",
   "execution_count": 1,
   "metadata": {},
   "outputs": [],
   "source": [
    "#include <iostream>\n",
    "using namespace std;\n",
    "\n",
    "#define ALFABETO 26\n",
    "#define A_ASCII 65;"
   ]
  },
  {
   "cell_type": "markdown",
   "metadata": {},
   "source": [
    "Estrutura para uma árvore TRIE simples. A árvore tem um conjunto de nós filhos. O grau máximo é dado pelo valor do alfabeto especificado acima. Não há necessidade de armazenar cada letra.\n",
    "\n",
    "Quando o nó representa uma palavra, a chave inteira é armzenada. Existem outras implementações possíveis, como armazenar um campo de controle (flag) indicando se o nó é folha."
   ]
  },
  {
   "cell_type": "code",
   "execution_count": 2,
   "metadata": {},
   "outputs": [],
   "source": [
    "struct tNo {\n",
    "    tNo *p [ALFABETO];\n",
    "    char chave[20];\n",
    "} "
   ]
  },
  {
   "cell_type": "markdown",
   "metadata": {},
   "source": [
    "Função para inicialização do nó, com alocação de memória e atribuição de valores NULL para os ponteiros e \\0 paraa chave."
   ]
  },
  {
   "cell_type": "code",
   "execution_count": 3,
   "metadata": {},
   "outputs": [],
   "source": [
    "tNo *criaNo (){\n",
    "    tNo *n = (tNo *)malloc (sizeof (tNo));\n",
    "    for (int i=0; i < ALFABETO ;i++)\n",
    "       n->p[i] = NULL;\n",
    "    n->chave[0] ='\\0';\n",
    "    return n;\n",
    "}"
   ]
  },
  {
   "cell_type": "markdown",
   "metadata": {},
   "source": [
    "Percurso da árvore em **ORDEM** pela chave. Não imprime a palavra inteira, mas apenas as letras na ordem do percurso."
   ]
  },
  {
   "cell_type": "code",
   "execution_count": 4,
   "metadata": {},
   "outputs": [],
   "source": [
    "void emordem(tNo *no){    \n",
    "    int j = 0;\n",
    "    if (no != NULL) {\n",
    "       for (int i=0; i < ALFABETO; i++){\n",
    "           if (no->p[i] != NULL) {\n",
    "               j = i + A_ASCII;\n",
    "               cout<< (char)j <<'.';\n",
    "               emordem(no->p[i]);\n",
    "           }\n",
    "       }\n",
    "    }\n",
    "}"
   ]
  },
  {
   "cell_type": "markdown",
   "metadata": {},
   "source": [
    "Conta o número de nós da árvore, incluindo o nó raiz."
   ]
  },
  {
   "cell_type": "code",
   "execution_count": 5,
   "metadata": {},
   "outputs": [],
   "source": [
    "int contaNos(tNo *no){\n",
    "   int nos = 0; \n",
    "   if (no != NULL) {\n",
    "       for (int i=0; i < ALFABETO ;i++){\n",
    "           if (no->p[i] != NULL)\n",
    "               nos += contaNos(no->p[i]);\n",
    "       }\n",
    "       nos += 1;\n",
    "   }\n",
    "   return nos;\n",
    "}"
   ]
  },
  {
   "cell_type": "markdown",
   "metadata": {},
   "source": [
    "Calcula a altura da árvore. A altura da árvore será também o comprimento da maior chave encontrada."
   ]
  },
  {
   "cell_type": "code",
   "execution_count": 6,
   "metadata": {},
   "outputs": [],
   "source": [
    "int altura (tNo *no) {\n",
    "   int hTotal = -1; \n",
    "   if (no != NULL) {\n",
    "       int h=-1;\n",
    "       for (int i=0; i < ALFABETO ;i++){\n",
    "           if (no->p[i] != NULL){\n",
    "              h = altura(no->p[i]);\n",
    "               if (h > hTotal)\n",
    "                   hTotal = h;\n",
    "           }\n",
    "       }\n",
    "       hTotal += 1;\n",
    "   }\n",
    "   return hTotal;\n",
    "}"
   ]
  },
  {
   "cell_type": "markdown",
   "metadata": {},
   "source": [
    "Função que converte um caracter de entrada em um número inteiro. Esta função converte todas as letras para maíusculas e diminui do valor ASCII da letra 'A'."
   ]
  },
  {
   "cell_type": "code",
   "execution_count": 7,
   "metadata": {},
   "outputs": [],
   "source": [
    "int char_to_index(char chr){\n",
    "    char c = toupper(chr);\n",
    "    return c - A_ASCII;\n",
    "}"
   ]
  },
  {
   "cell_type": "markdown",
   "metadata": {},
   "source": [
    "Funcão para inclusão de nova chave na árvore TRIE, dado um nó raiz. Caso o nó de uma determinada letra já exista, este não é criado. O nó final armazena a chave inteira."
   ]
  },
  {
   "cell_type": "code",
   "execution_count": 8,
   "metadata": {},
   "outputs": [],
   "source": [
    "void inclui (tNo *no, const char *chave){\n",
    "    int nivel, indice;\n",
    "    int tamanho = strlen(chave);\n",
    "    for (int nivel =0; nivel < tamanho; nivel ++){\n",
    "        indice = char_to_index(chave[nivel]);\n",
    "        if (no->p[indice] == NULL)\n",
    "            no->p[indice] = criaNo();\n",
    "        no = no->p[indice];\n",
    "    }\n",
    "    for (int i=0; i< strlen(chave); i ++)\n",
    "        no->chave[i] = chave[i];\n",
    "}"
   ]
  },
  {
   "cell_type": "markdown",
   "metadata": {},
   "source": [
    "Função que retorna um token de uma determinada string, separada por espaços."
   ]
  },
  {
   "cell_type": "code",
   "execution_count": 9,
   "metadata": {},
   "outputs": [],
   "source": [
    "char* get_token(const char *str, int *indice){    \n",
    "    char * token = (char *) malloc(sizeof(char)*20) ;\n",
    "    int i = 0;\n",
    "    while (str[*indice] != '\\0' && str[*indice] != ' '){\n",
    "        token[i] = str[*indice];\n",
    "        i++;\n",
    "        (*indice)++;\n",
    "    }\n",
    "    token[i] = '\\0';\n",
    "    (*indice)++;    \n",
    "    return token;\n",
    "}"
   ]
  },
  {
   "cell_type": "code",
   "execution_count": 10,
   "metadata": {},
   "outputs": [],
   "source": [
    "tNo* montaarvore(const char *str){\n",
    "    tNo *raiz = NULL;\n",
    "    int i = 0, v =0;\n",
    "    raiz = criaNo();\n",
    "    while (str[i]!='\\0'){\n",
    "        inclui (raiz, get_token(str, &i));\n",
    "    }\n",
    "    return raiz;        \n",
    "}\n"
   ]
  },
  {
   "cell_type": "code",
   "execution_count": 11,
   "metadata": {},
   "outputs": [],
   "source": [
    "void imprime(const char *str, int encontrado){\n",
    "    cout << \"||\" << str << \" \";\n",
    "    if (encontrado ==0 ) \n",
    "       cout << \"não\";\n",
    "    cout << \" encontrado\\n\";\n",
    "}"
   ]
  },
  {
   "cell_type": "markdown",
   "metadata": {},
   "source": [
    "Busca em árvore Trie. Percorre os componentes das chaves baseados na string de entrada."
   ]
  },
  {
   "cell_type": "code",
   "execution_count": 12,
   "metadata": {},
   "outputs": [],
   "source": [
    "int busca (tNo *no, const char *chave) {\n",
    "    int nivel, indice;\n",
    "    int tamanho = strlen(chave);\n",
    "    cout << '|';\n",
    "    for (int nivel =0; nivel < tamanho; nivel ++){\n",
    "        indice = char_to_index(chave[nivel]);\n",
    "        if (no->p[indice] == NULL)\n",
    "            return 0;\n",
    "        char c = indice + A_ASCII;\n",
    "        cout << c << '.';\n",
    "        no = no->p[indice];\n",
    "    }\n",
    "    return (no != NULL && no->chave[0] != '\\0');\n",
    "}"
   ]
  },
  {
   "cell_type": "code",
   "execution_count": 13,
   "metadata": {},
   "outputs": [],
   "source": [
    "int noLivre(tNo *no){\n",
    "    for (int i =0; i < ALFABETO; i++)\n",
    "        if (no->p[i])\n",
    "            return 0;\n",
    "    return 1;\n",
    "}"
   ]
  },
  {
   "cell_type": "markdown",
   "metadata": {},
   "source": [
    "Função de exclusão de chave da TRIE. Exclui apenas os nós filhos que não serão parte de nenhuma outra chave."
   ]
  },
  {
   "cell_type": "code",
   "execution_count": 14,
   "metadata": {},
   "outputs": [],
   "source": [
    "int exclui (tNo *no, const char *chave, int nivel, int tamanho){\n",
    "    if (no != NULL){\n",
    "        if (nivel == tamanho) {\n",
    "            if (strcmp(no->chave,chave)) \n",
    "                no->chave[0]='\\0';\n",
    "            if (noLivre(no)) return 1;\n",
    "            return 0;\n",
    "        }\n",
    "        else {\n",
    "            int indice = char_to_index(chave[nivel]);\n",
    "            if (exclui(no->p[indice], chave, nivel + 1, tamanho)   ){\n",
    "                free(no->p[indice]);\n",
    "                return ((no->chave[0]!='\\0') && noLivre(no));\n",
    "            }\n",
    "        }\n",
    "    }\n",
    "    return 0;\n",
    "}"
   ]
  },
  {
   "cell_type": "code",
   "execution_count": 15,
   "metadata": {},
   "outputs": [],
   "source": [
    "void iniciaprograma(){\n",
    "    tNo *raiz = NULL;\n",
    "    \n",
    "    char entrada[] = \"casa carroca bola carro carta toca\\0\";\n",
    "    raiz=montaarvore(entrada); \n",
    "    \n",
    "    cout << \"\\nPercurso em pré-ordem: \";\n",
    "    cout << \"Percurso em ordem: \";\n",
    "    emordem(raiz); cout << \"\\n\";\n",
    "    \n",
    "    cout << \"\\nTotal de nós: \" << contaNos(raiz);\n",
    "    cout << \"\\nAltura da árvore: \" << altura(raiz) << \"\\n\\n\";\n",
    "    \n",
    "    imprime (\" busca \", busca(raiz, \"carroca\"));\n",
    "    imprime (\" busca \", busca(raiz, \"carro\"));\n",
    "    imprime (\" busca \", busca(raiz, \"carti\"));\n",
    "    exclui(raiz, \"carro\", 0, strlen(\"carro\"));\n",
    "    imprime (\" busca \", busca(raiz, \"tilapia\"));\n",
    "    imprime (\" busca \", busca(raiz, \"carro\"));\n",
    "    imprime (\" busca \", busca(raiz, \"carroca\"));\n",
    "    \n",
    "}"
   ]
  },
  {
   "cell_type": "code",
   "execution_count": 16,
   "metadata": {},
   "outputs": [
    {
     "name": "stdout",
     "output_type": "stream",
     "text": [
      "\n",
      "Percurso em pré-ordem: Percurso em ordem: B.O.L.A.C.A.R.R.O.C.A.T.A.S.A.T.O.C.A.\n",
      "\n",
      "Total de nós: 20\n",
      "Altura da árvore: 7\n",
      "\n",
      "|C.A.R.R.O.C.A.|| busca   encontrado\n",
      "|C.A.R.R.O.|| busca   encontrado\n",
      "|C.A.R.T.|| busca  não encontrado\n",
      "|T.|| busca  não encontrado\n",
      "|C.A.R.R.O.|| busca  não encontrado\n",
      "|C.A.R.R.O.C.A.|| busca   encontrado\n"
     ]
    }
   ],
   "source": [
    "iniciaprograma();"
   ]
  }
 ],
 "metadata": {
  "kernelspec": {
   "display_name": "C++17",
   "language": "C++17",
   "name": "xcpp17"
  },
  "language_info": {
   "codemirror_mode": "text/x-c++src",
   "file_extension": ".cpp",
   "mimetype": "text/x-c++src",
   "name": "c++",
   "version": "17"
  }
 },
 "nbformat": 4,
 "nbformat_minor": 4
}

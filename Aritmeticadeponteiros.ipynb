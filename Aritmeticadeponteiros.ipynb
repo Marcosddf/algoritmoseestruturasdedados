{
 "cells": [
  {
   "cell_type": "markdown",
   "metadata": {},
   "source": [
    "## Aritmética de ponteiro simples\n",
    "\n",
    "Este notebook descreve usos simples de ponteiros em C++."
   ]
  },
  {
   "cell_type": "code",
   "execution_count": 1,
   "metadata": {},
   "outputs": [],
   "source": [
    "#include <iostream>\n",
    "using namespace std;"
   ]
  },
  {
   "cell_type": "markdown",
   "metadata": {},
   "source": [
    "A função troca abaixo não tem valor de retorno, deve ser usada com ponteiros."
   ]
  },
  {
   "cell_type": "code",
   "execution_count": 2,
   "metadata": {},
   "outputs": [],
   "source": [
    "void troca (int *a, int *b){\n",
    "  int aux = *a;\n",
    "  *a = *b;\n",
    "  *b=aux;\n",
    "}"
   ]
  },
  {
   "cell_type": "markdown",
   "metadata": {},
   "source": [
    "Elemento de lista ligada, com valor inteiro e ponteiro para o próximo."
   ]
  },
  {
   "cell_type": "code",
   "execution_count": 3,
   "metadata": {},
   "outputs": [],
   "source": [
    "struct elemento {\n",
    "  int valor;\n",
    "  elemento *prox;\n",
    "}"
   ]
  },
  {
   "cell_type": "markdown",
   "metadata": {},
   "source": [
    "Função recursiva para impressão de todos os valores da lista."
   ]
  },
  {
   "cell_type": "code",
   "execution_count": 4,
   "metadata": {},
   "outputs": [],
   "source": [
    "void imprime (elemento *p) {\n",
    "  if (p == NULL) return;\n",
    "  std::cout << \"Valor: \" << p->valor << \"\\n\";\n",
    "  return imprime (p->prox);\n",
    "}"
   ]
  },
  {
   "cell_type": "markdown",
   "metadata": {},
   "source": [
    "Fução para inicialização de um elemento da lista. Cria a área na memória, atribui o valor e limpa o ponteiro para o próximo."
   ]
  },
  {
   "cell_type": "code",
   "execution_count": 5,
   "metadata": {},
   "outputs": [],
   "source": [
    "elemento *inicia (int valor){\n",
    "  elemento *p = (elemento *)malloc (sizeof (elemento));\n",
    "  p->valor = valor;\n",
    "  p->prox = NULL;\n",
    "  return p;\n",
    "}"
   ]
  },
  {
   "cell_type": "markdown",
   "metadata": {},
   "source": [
    "Função de criação e inclusão de um novo elemento no final da lista. Percorre toda a lista e inclui na última posição, ajustando os ponteiros."
   ]
  },
  {
   "cell_type": "code",
   "execution_count": 6,
   "metadata": {},
   "outputs": [],
   "source": [
    "void insere (elemento *in, int ch) {\n",
    "   elemento *p = in;\n",
    "   while (p->prox != NULL) {\n",
    "       p=p->prox;\n",
    "   }\n",
    "   p->prox = inicia (ch);   \n",
    "}\n"
   ]
  },
  {
   "cell_type": "markdown",
   "metadata": {},
   "source": [
    "A função abaixo testa alguns casos de aritmética de ponteiros e usos das funções declaradas acima."
   ]
  },
  {
   "cell_type": "code",
   "execution_count": 7,
   "metadata": {},
   "outputs": [],
   "source": [
    "int iniciaprograma (){\n",
    "  int *p1,*p2, valor;\n",
    "  elemento *p;\n",
    "  int *t;\n",
    "\n",
    "// atribui valores para a variável inteira e para ponteiros de inteiros\n",
    "  valor = 2;\n",
    "  p1 = &valor;\n",
    "  p2 = p1;\n",
    "\n",
    "// inicializa um vetor de inteiros de 100 posições\n",
    "  t = (int *)malloc (100 * sizeof (int));\n",
    "\n",
    "  cout << \"Imprime valores da variável e dos ponteiros criados------------\\n\";     \n",
    "  cout << \"valor: \" << valor << \"\\n\";\n",
    "  cout << \"&valor: \" << &valor << \"\\n\";\n",
    "  cout << \"p1: \" << p1 << \"\\n\";\n",
    "  cout << \"*p1: \" << *p1 << \"\\n\";\n",
    "  cout << \"------------\\n\"; \n",
    "//troca o valor para 12 e imprime novamente\n",
    "  *p2 = 12;\n",
    "  cout << \"valor: \" << valor << \"\\n\";\n",
    "  cout << \"&valor: \" << &valor << \"\\n\";\n",
    "  cout << \"p1: \" << p1 << \"\\n\";\n",
    "  cout << \"*p1: \" << *p1 << \"\\n\";\n",
    "  cout << \"p2: \" << p2 << \"\\n\";\n",
    "  cout << \"*p2: \" << *p2 << \"\\n\";\n",
    "  cout << \"------------\\n\";\n",
    "  cout << \"sizeof(p1): \" << sizeof(p1) << \"\\n\";\n",
    "  cout << \"------------\\n\";\n",
    "  cout << \"(t+20): \" << (t+20) << \"\\n\";\n",
    "  cout << \"*(t+20): \" << *(t+20) << \"\\n\";\n",
    "  cout << \"t[20]: \" << t[20] << \"\\n\";\n",
    "  cout << \"------------\\n\";\n",
    "//atribui valore e realiza a troca    \n",
    "  int a=1,b=2;\n",
    "  troca(&a,&b);\n",
    "  cout << \"Imprime a e b: \" << a << \",\" << b << \"\\n\";    \n",
    "  cout << \"------------\\n\";\n",
    "    \n",
    "  cout << \"Inicia a lista com o valor 15\\n\";    \n",
    "  p=inicia(15);\n",
    "  cout << \"Inclui 20\\n\";        \n",
    "  insere(p,20);\n",
    "  cout << \"Inclui 12\\n\";        \n",
    "  insere(p,12);    \n",
    "  cout << \"Imprime todos\\n\";        \n",
    "  imprime (p);\n",
    "  return 0;\n",
    "}\n"
   ]
  },
  {
   "cell_type": "code",
   "execution_count": 8,
   "metadata": {},
   "outputs": [
    {
     "name": "stdout",
     "output_type": "stream",
     "text": [
      "Imprime valores da variável e dos ponteiros criados------------\n",
      "valor: 2\n",
      "&valor: 0x7ffeacd12e5c\n",
      "p1: 0x7ffeacd12e5c\n",
      "*p1: 2\n",
      "------------\n",
      "valor: 12\n",
      "&valor: 0x7ffeacd12e5c\n",
      "p1: 0x7ffeacd12e5c\n",
      "*p1: 12\n",
      "p2: 0x7ffeacd12e5c\n",
      "*p2: 12\n",
      "------------\n",
      "sizeof(p1): 8\n",
      "------------\n",
      "(t+20): 0x55e6ce1ec1c0\n",
      "*(t+20): -836855800\n",
      "t[20]: -836855800\n",
      "------------\n",
      "Imprime a e b: 2,1\n",
      "------------\n",
      "Inicia a lista com o valor 15\n",
      "Inclui 20\n",
      "Inclui 12\n",
      "Imprime todos\n",
      "Valor: 15\n",
      "Valor: 20\n",
      "Valor: 12\n"
     ]
    }
   ],
   "source": [
    "iniciaprograma();"
   ]
  }
 ],
 "metadata": {
  "kernelspec": {
   "display_name": "C++14",
   "language": "C++14",
   "name": "xcpp14"
  },
  "language_info": {
   "codemirror_mode": "text/x-c++src",
   "file_extension": ".cpp",
   "mimetype": "text/x-c++src",
   "name": "c++",
   "version": "14"
  }
 },
 "nbformat": 4,
 "nbformat_minor": 2
}

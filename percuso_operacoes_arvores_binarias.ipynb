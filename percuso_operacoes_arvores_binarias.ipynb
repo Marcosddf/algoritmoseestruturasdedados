{
 "cells": [
  {
   "cell_type": "markdown",
   "metadata": {},
   "source": [
    "## Tipo Abstrato de Dado (TAD) árvore binária\n",
    "\n",
    "O código abaixo ilustra uma árvore binária, com operações para criação da árvore, criação de nó e percursos."
   ]
  },
  {
   "cell_type": "code",
   "execution_count": 1,
   "metadata": {},
   "outputs": [],
   "source": [
    "#include <iostream>\n",
    "using namespace std;"
   ]
  },
  {
   "cell_type": "markdown",
   "metadata": {},
   "source": [
    "Estrutura para uma árvore binária simples."
   ]
  },
  {
   "cell_type": "code",
   "execution_count": 2,
   "metadata": {},
   "outputs": [],
   "source": [
    "struct tNo {\n",
    "  char valor; // pode ser modificado paraqualquer tipo de dado\n",
    "  tNo *esq, *dir;\n",
    "};"
   ]
  },
  {
   "cell_type": "markdown",
   "metadata": {},
   "source": [
    "Função para inicialização do nó, com alocação de memória e atribuição de valores para os componentes do nó."
   ]
  },
  {
   "cell_type": "code",
   "execution_count": 3,
   "metadata": {},
   "outputs": [],
   "source": [
    "tNo *inicia (char valor){\n",
    "  tNo *n = (tNo *)malloc (sizeof (tNo));\n",
    "  n->valor = valor;\n",
    "  n->esq = NULL;\n",
    "  n->esq = NULL;\n",
    "  return n;\n",
    "}"
   ]
  },
  {
   "cell_type": "markdown",
   "metadata": {},
   "source": [
    "Função que monta uma árvore binária recebendo como entrada uma árvore com parênteses aninhados. Não há suporte a erros de entrada, por isso a árvore passada como parâmetro deve estar correta."
   ]
  },
  {
   "cell_type": "code",
   "execution_count": 4,
   "metadata": {},
   "outputs": [],
   "source": [
    "tNo* montaarvore(const char *str, int *i){\n",
    "    tNo *no = NULL;\n",
    "    \n",
    "  if (str[*i] == '(') {\n",
    "        (*i)++;\n",
    "        cout << \"cria nó: \" << str[*i] << \"\\n\";\n",
    "        no = inicia (str[*i]);    \n",
    "        (*i)++;\n",
    "        no -> esq = montaarvore(str, i);\n",
    "        no -> dir = montaarvore(str, i);            \n",
    "        (*i)++;\n",
    "    }\n",
    "    return no;        \n",
    "}"
   ]
  },
  {
   "cell_type": "markdown",
   "metadata": {},
   "source": [
    "Percurso da árvore em **PRÉ-ORDEM**."
   ]
  },
  {
   "cell_type": "code",
   "execution_count": 5,
   "metadata": {},
   "outputs": [],
   "source": [
    "void preordem(tNo * no){\n",
    "    if (no !=NULL){\n",
    "        cout << no->valor;\n",
    "        preordem(no->esq);\n",
    "        preordem(no->dir);\n",
    "    }\n",
    "}"
   ]
  },
  {
   "cell_type": "markdown",
   "metadata": {},
   "source": [
    "Percurso da árvore em **ORDEM**."
   ]
  },
  {
   "cell_type": "code",
   "execution_count": 6,
   "metadata": {},
   "outputs": [],
   "source": [
    "void emordem(tNo * no){    \n",
    "    if (no !=NULL){\n",
    "        emordem(no->esq);\n",
    "        cout << no->valor;\n",
    "        emordem(no->dir);\n",
    "    }\n",
    "}"
   ]
  },
  {
   "cell_type": "markdown",
   "metadata": {},
   "source": [
    "Percurso da árvore em **PÓS-ORDEM**."
   ]
  },
  {
   "cell_type": "code",
   "execution_count": 7,
   "metadata": {},
   "outputs": [],
   "source": [
    "void posordem(tNo * no){\n",
    "    if (no !=NULL){    \n",
    "        posordem(no->esq);        \n",
    "        posordem(no->dir);\n",
    "        cout << no->valor;\n",
    "    }\n",
    "}"
   ]
  },
  {
   "cell_type": "markdown",
   "metadata": {},
   "source": [
    "Conta o número de nós da árvore"
   ]
  },
  {
   "cell_type": "code",
   "execution_count": 8,
   "metadata": {},
   "outputs": [],
   "source": [
    "int contaNos(tNo *no){\n",
    "    if (no!=NULL) {\n",
    "        return contaNos(no->esq) + contaNos(no->dir) + 1;\n",
    "    } else\n",
    "        return 0;\n",
    "}"
   ]
  },
  {
   "cell_type": "markdown",
   "metadata": {},
   "source": [
    "Calcula a altura da árvore"
   ]
  },
  {
   "cell_type": "code",
   "execution_count": 9,
   "metadata": {},
   "outputs": [],
   "source": [
    "int altura (tNo *p) {\n",
    "    int he, hd;\n",
    "    if (p == NULL) return 0;\n",
    "    he = altura (p->esq);\n",
    "    hd = altura (p->dir);\n",
    "    if (he > hd)\n",
    "        return he+1;\n",
    "    else\n",
    "        return hd+1;    \n",
    "}"
   ]
  },
  {
   "cell_type": "code",
   "execution_count": 10,
   "metadata": {},
   "outputs": [],
   "source": [
    "void iniciaprograma(){\n",
    "    tNo *n = NULL; int i = 0;\n",
    "    i=0;\n",
    "    n=montaarvore(\"(F(B(A)(D(C)(E)))(H(G)(I)))\\n\",&i);    \n",
    "    //n=montaarvore(\"(A(B(C(D(E)))))\\n\",&i);    \n",
    "    cout << \"\\nPercurso em pré-ordem: \";\n",
    "    preordem(n); cout << \"\\n\";\n",
    "    cout << \"Percurso em ordem: \";\n",
    "    emordem(n); cout << \"\\n\";\n",
    "    cout << \"Percurso em pós-ordem: \";\n",
    "    posordem(n);\n",
    "    cout << \"\\nTotal de nós: \" << contaNos(n);\n",
    "    cout << \"\\nAltura da árvore: \" << altura(n);\n",
    "    \n",
    "}"
   ]
  },
  {
   "cell_type": "code",
   "execution_count": 11,
   "metadata": {},
   "outputs": [
    {
     "name": "stdout",
     "output_type": "stream",
     "text": [
      "cria nó: F\n",
      "cria nó: B\n",
      "cria nó: A\n",
      "cria nó: D\n",
      "cria nó: C\n",
      "cria nó: E\n",
      "cria nó: H\n",
      "cria nó: G\n",
      "cria nó: I\n",
      "\n",
      "Percurso em pré-ordem: FBADCEHGI\n",
      "Percurso em ordem: ABCDEFGHI\n",
      "Percurso em pós-ordem: ACEDBGIHF\n",
      "Total de nós: 9\n",
      "Altura da árvore: 4"
     ]
    }
   ],
   "source": [
    "iniciaprograma();"
   ]
  }
 ],
 "metadata": {
  "kernelspec": {
   "display_name": "C++14",
   "language": "C++14",
   "name": "xcpp14"
  },
  "language_info": {
   "codemirror_mode": "text/x-c++src",
   "file_extension": ".cpp",
   "mimetype": "text/x-c++src",
   "name": "c++",
   "version": "14"
  }
 },
 "nbformat": 4,
 "nbformat_minor": 4
}

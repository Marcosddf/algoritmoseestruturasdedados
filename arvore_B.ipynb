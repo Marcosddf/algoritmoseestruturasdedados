{
 "cells": [
  {
   "cell_type": "markdown",
   "metadata": {},
   "source": [
    "## Árvore B \n",
    "\n",
    "O código abaixo ilustra a inclusão, busca e percursos em árvores B, com grau máximo = 4. Por isso, também pode ser usada como implementação de uma **árvore 2-3-4**.\n",
    "\n",
    "Esta versão não possui acesso ao disco, para permitir testes online usando o Notebook."
   ]
  },
  {
   "cell_type": "code",
   "execution_count": 1,
   "metadata": {},
   "outputs": [],
   "source": [
    "#include <iostream>\n",
    "#include <stdlib.h> \n",
    "using namespace std;\n",
    "\n",
    "#define GRAU_MAXIMO 4\n",
    "#define GRAU_MINIMO 2"
   ]
  },
  {
   "cell_type": "markdown",
   "metadata": {},
   "source": [
    "Estrutura para uma árvore B simples. A árvore tem um conjunto de chaves e de nós filhos. O número de nós filhos é sempre 1 unidade maior que o número de chaves."
   ]
  },
  {
   "cell_type": "code",
   "execution_count": 2,
   "metadata": {},
   "outputs": [],
   "source": [
    "struct tNo {\n",
    "  int chave [GRAU_MAXIMO-1];\n",
    "  tNo *p [GRAU_MAXIMO];\n",
    "  int tam; \n",
    "} "
   ]
  },
  {
   "cell_type": "markdown",
   "metadata": {},
   "source": [
    "Função para inicialização do nó, com alocação de memória e atribuição de valores NULL para os ponteiros e 0 para o tamanho."
   ]
  },
  {
   "cell_type": "code",
   "execution_count": 3,
   "metadata": {},
   "outputs": [],
   "source": [
    "tNo *criaNo (){\n",
    "    tNo *n = (tNo *)malloc (sizeof (tNo));\n",
    "    n->tam = 0;\n",
    "    for (int i=0; i < GRAU_MAXIMO ;i++)\n",
    "       n->p[i] = NULL;\n",
    "    return n;\n",
    "}"
   ]
  },
  {
   "cell_type": "markdown",
   "metadata": {},
   "source": [
    "Função que lê um token, separado por espaço, e converte para um número inteiro."
   ]
  },
  {
   "cell_type": "code",
   "execution_count": 4,
   "metadata": {},
   "outputs": [],
   "source": [
    "int token_to_num(const char *str, int *indice){    \n",
    "    char token[100];\n",
    "    int i = 0;\n",
    "    while (str[*indice] != '\\0' && str[*indice] != ' '){\n",
    "        token[i] = str[*indice];\n",
    "        i++;\n",
    "        (*indice)++;\n",
    "    }\n",
    "    token[i] = '\\0';\n",
    "    (*indice)++;    \n",
    "    return atoi(token);\n",
    "}"
   ]
  },
  {
   "cell_type": "markdown",
   "metadata": {},
   "source": [
    "Percurso da árvore em **PRÉ-ORDEM** em uma árvore B, pela chave."
   ]
  },
  {
   "cell_type": "code",
   "execution_count": 5,
   "metadata": {},
   "outputs": [],
   "source": [
    "void preordem(tNo *no){\n",
    "   if (no != NULL) {\n",
    "       for (int i=0; i < no->tam; i++){\n",
    "           cout << no->chave[i] << '.';\n",
    "           preordem(no->p[i]);\n",
    "       }\n",
    "       preordem(no->p[no->tam]);\n",
    "   }\n",
    "}\n"
   ]
  },
  {
   "cell_type": "markdown",
   "metadata": {},
   "source": [
    "Percurso da árvore em **ORDEM** pela chave."
   ]
  },
  {
   "cell_type": "code",
   "execution_count": 6,
   "metadata": {},
   "outputs": [],
   "source": [
    "void emordem(tNo *no){    \n",
    "   if (no != NULL) {\n",
    "       for (int i=0; i < no->tam; i++){\n",
    "           emordem(no->p[i]);\n",
    "           cout << no->chave[i] << '.';\n",
    "       }\n",
    "       emordem(no->p[no->tam]);\n",
    "   }\n",
    "}"
   ]
  },
  {
   "cell_type": "markdown",
   "metadata": {},
   "source": [
    "Percurso da árvore em **PÓS-ORDEM**."
   ]
  },
  {
   "cell_type": "code",
   "execution_count": 7,
   "metadata": {},
   "outputs": [],
   "source": [
    "void posordem(tNo * no){\n",
    "   if (no != NULL) {\n",
    "       for (int i=0; i < no->tam; i++){\n",
    "           posordem(no->p[i]);\n",
    "           if (i-1 >=0)\n",
    "               cout << no->chave[i-1] << '.';\n",
    "       }       \n",
    "       posordem(no->p[no->tam]);     \n",
    "       cout << no->chave[no->tam-1] << '.';\n",
    "   }\n",
    "}"
   ]
  },
  {
   "cell_type": "markdown",
   "metadata": {},
   "source": [
    "Conta o número de nós da árvore."
   ]
  },
  {
   "cell_type": "code",
   "execution_count": 8,
   "metadata": {},
   "outputs": [],
   "source": [
    "int contaNos(tNo *no){\n",
    "   int nos = 0; \n",
    "   if (no != NULL) {\n",
    "       for (int i=0; i < no->tam; i++){           \n",
    "           nos += contaNos(no->p[i]);\n",
    "       }\n",
    "       nos += contaNos(no->p[no->tam]);\n",
    "       nos += 1;\n",
    "   }\n",
    "   return nos;\n",
    "}"
   ]
  },
  {
   "cell_type": "markdown",
   "metadata": {},
   "source": [
    "Uma árvore B pode ter mais de 1 nó por chave. Esta função conta o total de todas as chaves em todos os nós."
   ]
  },
  {
   "cell_type": "code",
   "execution_count": 9,
   "metadata": {},
   "outputs": [],
   "source": [
    "int contaChaves(tNo *no){\n",
    "   int chaves = 0; \n",
    "   if (no != NULL) {\n",
    "       for (int i=0; i < no->tam; i++){           \n",
    "           chaves += contaChaves(no->p[i]) + 1;\n",
    "       }\n",
    "       chaves += contaChaves(no->p[no->tam]);\n",
    "   }\n",
    "   return chaves;\n",
    "}"
   ]
  },
  {
   "cell_type": "markdown",
   "metadata": {},
   "source": [
    "Calcula a altura da árvore. Como a árvore B é sempre balanceada, a contagem da altura é feita descendo pelo primeiro ponteiro à esquerda até o nó folha."
   ]
  },
  {
   "cell_type": "code",
   "execution_count": 10,
   "metadata": {},
   "outputs": [],
   "source": [
    "int altura (tNo *p) {\n",
    "    int i = 0;\n",
    "    while (p->p[0] != NULL){\n",
    "        p = p->p[0];\n",
    "        i ++;\n",
    "    }\n",
    "    return i;\n",
    "}"
   ]
  },
  {
   "cell_type": "markdown",
   "metadata": {},
   "source": [
    "Função que divide um nó de uma árvore B, usada na inclusão, quando o nó está cheio. Um nó está cheio quando o número de chaves é igual ao grau máximo - 1."
   ]
  },
  {
   "cell_type": "code",
   "execution_count": 11,
   "metadata": {},
   "outputs": [],
   "source": [
    "void splitNo (tNo *pai, int indice, tNo *no) {\n",
    "    tNo *novo = criaNo();\n",
    "    novo->tam = GRAU_MINIMO - 1;\n",
    "    //atribui chaves da segunda metade para o novo nó\n",
    "    for (int i=0; i < GRAU_MINIMO-1; i++){\n",
    "        novo->chave[i] = no->chave[i+GRAU_MINIMO];\n",
    "    }\n",
    "    //atribui os pointeiros da segunda metade, se não é folha\n",
    "    if (no->p[0]  != NULL) {//novo->chave[i]\n",
    "        for (int i=0; i <= GRAU_MINIMO-1; i++)\n",
    "            novo->p[i] = no->p[i + GRAU_MINIMO];\n",
    "    }\n",
    "    no->tam = GRAU_MINIMO - 1;\n",
    "    //desloca os ponteiros do nó pai para a direita\n",
    "    for (int i = pai->tam;  i > indice; i--)\n",
    "        pai->p[i+1] = pai->p[i];\n",
    "    //ultimo indice aponta para o novo nó\n",
    "    pai->p[indice+1] = novo;\n",
    "    //desloca as chaves do pai para a direita\n",
    "    for (int i = pai->tam-1; i >= indice; i--)\n",
    "        pai->chave[i+1] = pai->chave[i];\n",
    "    //sobe a chave\n",
    "    pai->chave[indice] = no->chave[GRAU_MINIMO-1];\n",
    "    pai->tam = pai->tam +1;\n",
    "}"
   ]
  },
  {
   "cell_type": "markdown",
   "metadata": {},
   "source": [
    "Função que faz o split da árvore B na raiz. É diferente do split dos demais nós, pois são criados 2 novos nós: a nova raiz e o novo nó à direita."
   ]
  },
  {
   "cell_type": "code",
   "execution_count": 12,
   "metadata": {},
   "outputs": [],
   "source": [
    "tNo *splitRaiz(tNo * raiz){\n",
    "    tNo *novaRaiz = criaNo();\n",
    "    splitNo(novaRaiz, 0, raiz);\n",
    "    novaRaiz->p[0]=raiz;\n",
    "    novaRaiz->p[0]->tam = GRAU_MINIMO - 1;\n",
    "    return novaRaiz;\n",
    "}"
   ]
  },
  {
   "cell_type": "markdown",
   "metadata": {},
   "source": [
    "Funcão para inclusão de novo nó na árvore B, dado um nó raiz. O split é feito na descida, isto é, sempre que encontrar um nó cheio, irá chamar a função _splitNo_, e continuará a descida."
   ]
  },
  {
   "cell_type": "code",
   "execution_count": 13,
   "metadata": {},
   "outputs": [],
   "source": [
    "tNo* inclui (tNo *no, int chave, tNo* raiz){\n",
    "    int i = no->tam -1;\n",
    "    tNo *filho;\n",
    "    if (no->tam == GRAU_MAXIMO - 1 && no == raiz) {//split na raiz, necessita de tratamento específico\n",
    "        raiz = splitRaiz(raiz);\n",
    "        no = raiz;\n",
    "        i = no->tam - 1;\n",
    "    }   \n",
    "    if (no->p[0] == NULL){ //encontrou um nó folha para inclusão\n",
    "        while (i >= 0 && chave < no->chave[i]) {\n",
    "            no->chave[i+1] = no->chave[i];\n",
    "            i--;\n",
    "        }\n",
    "        no->chave[i+1] = chave;\n",
    "        no->tam = no->tam+1;\n",
    "    } \n",
    "    else { //desce na árvore e faz o split se necessário\n",
    "        while (i >= 0 && chave < no->chave[i])\n",
    "            i--;\n",
    "        i++;\n",
    "        filho = no->p[i];\n",
    "        if (filho->tam == GRAU_MAXIMO - 1){\n",
    "            splitNo(no, i, filho);\n",
    "            if (chave > no->chave[i]) \n",
    "                i ++;\n",
    "        }\n",
    "        inclui( no->p[i], chave, raiz);    \n",
    "    }\n",
    "    return raiz;\n",
    "}"
   ]
  },
  {
   "cell_type": "code",
   "execution_count": 14,
   "metadata": {},
   "outputs": [],
   "source": [
    "tNo* montaarvore(const char *str){\n",
    "    tNo *raiz = NULL;\n",
    "    int i = 0, v =0;\n",
    "    raiz = criaNo();\n",
    "    while (str[i]!='\\0')\n",
    "        raiz = inclui (raiz, token_to_num(str, &i), raiz);\n",
    "    return raiz;        \n",
    "}\n"
   ]
  },
  {
   "cell_type": "code",
   "execution_count": 15,
   "metadata": {},
   "outputs": [],
   "source": [
    "void imprime(const char *str, tNo *no){\n",
    "    cout << \"||\" << str << \" \";\n",
    "    if (no!=NULL) {\n",
    "        cout << \"[\";\n",
    "        for(int i=0; i < no->tam; i++) \n",
    "            cout << no->chave[i] << '.';\n",
    "    }\n",
    "    else cout << \"não\";\n",
    "    cout << \"] encontrado\\n\";\n",
    "}"
   ]
  },
  {
   "cell_type": "markdown",
   "metadata": {},
   "source": [
    "Busca em árvore B. Percorre todos os nós e suas chaves."
   ]
  },
  {
   "cell_type": "code",
   "execution_count": 16,
   "metadata": {},
   "outputs": [],
   "source": [
    "tNo *busca (tNo *no, int chave) {\n",
    "    if( no != NULL ){ \n",
    "        for(int i=0; i < no->tam; i++) {\n",
    "            if( no->chave[i] == chave ) \n",
    "                return no; \n",
    "            else \n",
    "                if( chave < no->chave[i] ) \n",
    "                    return busca( no->p [i], chave ); \n",
    "        }\n",
    "        return busca( no->p[ no->tam ], chave ); \n",
    "    }\n",
    "    else\n",
    "        return NULL;\n",
    "}"
   ]
  },
  {
   "cell_type": "code",
   "execution_count": 17,
   "metadata": {},
   "outputs": [],
   "source": [
    "void iniciaprograma(){\n",
    "    tNo *raiz = NULL;\n",
    "    \n",
    "    //char entrada[] = \"20 13 17 22 11 23 12 9\\0\";\n",
    "    char entrada[] = \"20 13 17 22 11 23 12 9 25 21 18 19\\0\";\n",
    "    raiz=montaarvore(entrada); \n",
    "    \n",
    "    cout << \"\\nPercurso em pré-ordem: \";\n",
    "    preordem(raiz); cout << \"\\n\";\n",
    "    cout << \"Percurso em ordem: \";\n",
    "    emordem(raiz); cout << \"\\n\";\n",
    "    cout << \"Percurso em pós-ordem: \";\n",
    "    posordem(raiz);\n",
    "    cout << \"\\nTotal de nós: \" << contaNos(raiz);\n",
    "    cout << \"\\nTotal de chaves: \" << contaChaves(raiz);\n",
    "    cout << \"\\nAltura da árvore: \" << altura(raiz) << \"\\n\\n\";\n",
    "    \n",
    "    imprime (\" busca \", busca(raiz, 13));\n",
    "    imprime (\" busca \", busca(raiz, 22));\n",
    "    imprime (\" busca \", busca(raiz, 17));\n",
    "    imprime (\" busca 15 \", busca(raiz, 15));\n",
    "    imprime (\" busca \", busca(raiz, 23));\n",
    "    imprime (\" busca \", busca(raiz, 21));\n",
    "    imprime (\" busca \", busca(raiz, 18));\n",
    "    \n",
    "    \n",
    "}"
   ]
  },
  {
   "cell_type": "code",
   "execution_count": 18,
   "metadata": {},
   "outputs": [
    {
     "name": "stdout",
     "output_type": "stream",
     "text": [
      "\n",
      "Percurso em pré-ordem: 17.12.9.11.13.20.18.19.22.21.23.25.\n",
      "Percurso em ordem: 9.11.12.13.17.18.19.20.21.22.23.25.\n",
      "Percurso em pós-ordem: 9.11.13.12.18.19.21.20.23.25.22.17.\n",
      "Total de nós: 8\n",
      "Total de chaves: 12\n",
      "Altura da árvore: 2\n",
      "\n",
      "|| busca  [13.] encontrado\n",
      "|| busca  [20.22.] encontrado\n",
      "|| busca  [17.] encontrado\n",
      "|| busca 15  não] encontrado\n",
      "|| busca  [23.25.] encontrado\n",
      "|| busca  [21.] encontrado\n",
      "|| busca  [18.19.] encontrado\n"
     ]
    }
   ],
   "source": [
    "iniciaprograma();"
   ]
  }
 ],
 "metadata": {
  "kernelspec": {
   "display_name": "C++11",
   "language": "C++11",
   "name": "xcpp11"
  },
  "language_info": {
   "codemirror_mode": "text/x-c++src",
   "file_extension": ".cpp",
   "mimetype": "text/x-c++src",
   "name": "c++",
   "version": "11"
  }
 },
 "nbformat": 4,
 "nbformat_minor": 4
}

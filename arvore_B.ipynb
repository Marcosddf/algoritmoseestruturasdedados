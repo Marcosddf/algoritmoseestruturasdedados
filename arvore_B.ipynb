{
 "cells": [
  {
   "cell_type": "markdown",
   "metadata": {},
   "source": [
    "## Árvore B \n",
    "\n",
    "O código abaixo ilustra a inclusão, busca, exclusão e percursos em árvores B, com grau máximo 2*t= 4, (t=2).\n",
    "\n",
    "Árvores B são estruturas usadas para criação de índices em memória secundária. O tamanho dos nós é geralmente o tamanho de uma página na memória secundária, ou múltiplos do tamanho da página, com o objetivo de minimizar o número de operações de leitura em disco.\n",
    "\n",
    "Para permitir testes online das operações de inclusão/exclusão, esta versão não possui as operações de acesso ao disco."
   ]
  },
  {
   "cell_type": "code",
   "execution_count": 1,
   "metadata": {},
   "outputs": [],
   "source": [
    "#include <iostream>\n",
    "#include <stdlib.h> \n",
    "using namespace std;\n",
    "\n",
    "#define GRAU_MAXIMO 4\n",
    "#define GRAU_MINIMO 2"
   ]
  },
  {
   "cell_type": "markdown",
   "metadata": {},
   "source": [
    "Estrutura para uma árvore B simples. A árvore tem um conjunto de chaves e de nós filhos. O número de nós filhos é sempre 1 unidade maior que o número de chaves."
   ]
  },
  {
   "cell_type": "code",
   "execution_count": 2,
   "metadata": {},
   "outputs": [],
   "source": [
    "struct tNo {\n",
    "  int chave [GRAU_MAXIMO-1];\n",
    "  tNo *p [GRAU_MAXIMO];\n",
    "  int tam; \n",
    "} "
   ]
  },
  {
   "cell_type": "markdown",
   "metadata": {},
   "source": [
    "Função para inicialização do nó, com alocação de memória e atribuição de valores NULL para os ponteiros e 0 para o tamanho."
   ]
  },
  {
   "cell_type": "code",
   "execution_count": 3,
   "metadata": {},
   "outputs": [],
   "source": [
    "tNo *criaNo (){\n",
    "    tNo *n = (tNo *)malloc (sizeof (tNo));\n",
    "    n->tam = 0;\n",
    "    for (int i=0; i < GRAU_MAXIMO ;i++)\n",
    "       n->p[i] = NULL;\n",
    "    return n;\n",
    "}"
   ]
  },
  {
   "cell_type": "markdown",
   "metadata": {},
   "source": [
    "Função que lê um token, separado por espaço, e converte para um número inteiro."
   ]
  },
  {
   "cell_type": "code",
   "execution_count": 4,
   "metadata": {},
   "outputs": [],
   "source": [
    "int token_to_num(const char *str, int *indice){    \n",
    "    char token[100];\n",
    "    int i = 0;\n",
    "    while (str[*indice] != '\\0' && str[*indice] != ' '){\n",
    "        token[i] = str[*indice];\n",
    "        i++;\n",
    "        (*indice)++;\n",
    "    }\n",
    "    token[i] = '\\0';\n",
    "    (*indice)++;    \n",
    "    return atoi(token);\n",
    "}"
   ]
  },
  {
   "cell_type": "markdown",
   "metadata": {},
   "source": [
    "Percurso da árvore em **PRÉ-ORDEM** em uma árvore B, pela chave."
   ]
  },
  {
   "cell_type": "code",
   "execution_count": 5,
   "metadata": {},
   "outputs": [],
   "source": [
    "void preordem(tNo *no){\n",
    "   if (no != NULL) {\n",
    "       cout << \"(\";\n",
    "       for (int i=0; i < no->tam; i++){\n",
    "           cout << no->chave[i] << '.';\n",
    "           preordem(no->p[i]);\n",
    "       }\n",
    "       preordem(no->p[no->tam]);\n",
    "       cout << \")\";\n",
    "   }\n",
    "}\n"
   ]
  },
  {
   "cell_type": "markdown",
   "metadata": {},
   "source": [
    "Percurso da árvore em **ORDEM** pela chave."
   ]
  },
  {
   "cell_type": "code",
   "execution_count": 6,
   "metadata": {},
   "outputs": [],
   "source": [
    "void emordem(tNo *no){    \n",
    "   if (no != NULL) {\n",
    "       for (int i=0; i < no->tam; i++){\n",
    "           emordem(no->p[i]);\n",
    "           cout << no->chave[i] << '.';\n",
    "       }\n",
    "       emordem(no->p[no->tam]);\n",
    "   }\n",
    "}"
   ]
  },
  {
   "cell_type": "markdown",
   "metadata": {},
   "source": [
    "Percurso da árvore em **PÓS-ORDEM** pela chave."
   ]
  },
  {
   "cell_type": "code",
   "execution_count": 7,
   "metadata": {},
   "outputs": [],
   "source": [
    "void posordem(tNo * no){\n",
    "   if (no != NULL) {\n",
    "       for (int i=0; i < no->tam; i++){\n",
    "           posordem(no->p[i]);\n",
    "           if (i-1 >=0)\n",
    "               cout << no->chave[i-1] << '.';\n",
    "       }       \n",
    "       posordem(no->p[no->tam]);     \n",
    "       cout << no->chave[no->tam-1] << '.';\n",
    "   }\n",
    "}"
   ]
  },
  {
   "cell_type": "markdown",
   "metadata": {},
   "source": [
    "Conta o número de nós da árvore."
   ]
  },
  {
   "cell_type": "code",
   "execution_count": 8,
   "metadata": {},
   "outputs": [],
   "source": [
    "int contaNos(tNo *no){\n",
    "   int nos = 0; \n",
    "   if (no != NULL) {\n",
    "       for (int i=0; i < no->tam; i++){           \n",
    "           nos += contaNos(no->p[i]);\n",
    "       }\n",
    "       nos += contaNos(no->p[no->tam]);\n",
    "       nos += 1;\n",
    "   }\n",
    "   return nos;\n",
    "}"
   ]
  },
  {
   "cell_type": "markdown",
   "metadata": {},
   "source": [
    "Uma árvore B pode ter mais de 1 chave por nó. Esta função conta o total de todas as chaves em todos os nós."
   ]
  },
  {
   "cell_type": "code",
   "execution_count": 9,
   "metadata": {},
   "outputs": [],
   "source": [
    "int contaChaves(tNo *no){\n",
    "   int chaves = 0; \n",
    "   if (no != NULL) {\n",
    "       for (int i=0; i < no->tam; i++){           \n",
    "           chaves += contaChaves(no->p[i]) + 1;\n",
    "       }\n",
    "       chaves += contaChaves(no->p[no->tam]);\n",
    "   }\n",
    "   return chaves;\n",
    "}"
   ]
  },
  {
   "cell_type": "markdown",
   "metadata": {},
   "source": [
    "Calcula a altura da árvore. Como a árvore B é sempre balanceada, a contagem da altura é feita descendo pelo primeiro ponteiro à esquerda até o nó folha."
   ]
  },
  {
   "cell_type": "code",
   "execution_count": 10,
   "metadata": {},
   "outputs": [],
   "source": [
    "int altura (tNo *p) {\n",
    "    int i = 0;\n",
    "    while (p->p[0] != NULL){\n",
    "        p = p->p[0];\n",
    "        i ++;\n",
    "    }\n",
    "    return i;\n",
    "}"
   ]
  },
  {
   "cell_type": "markdown",
   "metadata": {},
   "source": [
    "Função que divide um nó de uma árvore B, usada na inclusão, quando o nó está cheio. Um nó está cheio quando o número de chaves é igual ao grau máximo - 1."
   ]
  },
  {
   "cell_type": "code",
   "execution_count": 11,
   "metadata": {},
   "outputs": [],
   "source": [
    "void splitNo (tNo *pai, int indice, tNo *no) {\n",
    "    tNo *novo = criaNo();\n",
    "    novo->tam = GRAU_MINIMO - 1;\n",
    "    //atribui chaves da segunda metade para o novo nó\n",
    "    for (int i=0; i < GRAU_MINIMO-1; i++){\n",
    "        novo->chave[i] = no->chave[i+GRAU_MINIMO];\n",
    "    }\n",
    "    //atribui os pointeiros da segunda metade, se não é folha\n",
    "    if (no->p[0]  != NULL) {//novo->chave[i]\n",
    "        for (int i=0; i <= GRAU_MINIMO-1; i++)\n",
    "            novo->p[i] = no->p[i + GRAU_MINIMO];\n",
    "    }\n",
    "    no->tam = GRAU_MINIMO - 1;\n",
    "    //desloca os ponteiros do nó pai para a direita\n",
    "    for (int i = pai->tam;  i > indice; i--)\n",
    "        pai->p[i+1] = pai->p[i];\n",
    "    //ultimo indice aponta para o novo nó\n",
    "    pai->p[indice+1] = novo;\n",
    "    //desloca as chaves do pai para a direita\n",
    "    for (int i = pai->tam-1; i >= indice; i--)\n",
    "        pai->chave[i+1] = pai->chave[i];\n",
    "    //sobe a chave\n",
    "    pai->chave[indice] = no->chave[GRAU_MINIMO-1];\n",
    "    pai->tam = pai->tam +1;\n",
    "}"
   ]
  },
  {
   "cell_type": "markdown",
   "metadata": {},
   "source": [
    "Função que faz o split da árvore B na raiz. É diferente do split dos demais nós, pois são criados 2 novos nós: a nova raiz e o novo nó à direita."
   ]
  },
  {
   "cell_type": "code",
   "execution_count": 12,
   "metadata": {},
   "outputs": [],
   "source": [
    "tNo *splitRaiz(tNo * raiz){\n",
    "    tNo *novaRaiz = criaNo();\n",
    "    splitNo(novaRaiz, 0, raiz);\n",
    "    novaRaiz->p[0]=raiz;\n",
    "    novaRaiz->p[0]->tam = GRAU_MINIMO - 1;\n",
    "    return novaRaiz;\n",
    "}"
   ]
  },
  {
   "cell_type": "markdown",
   "metadata": {},
   "source": [
    "Funcão para inclusão de novo nó na árvore B, dado um nó raiz. O split é feito na descida, isto é, sempre que encontrar um nó cheio, irá chamar a função __splitNo__, e continuará a descida."
   ]
  },
  {
   "cell_type": "code",
   "execution_count": 13,
   "metadata": {},
   "outputs": [],
   "source": [
    "tNo* inclui (tNo *no, int chave, tNo* raiz){\n",
    "    int i = no->tam -1;\n",
    "    tNo *filho;\n",
    "    if (no->tam == GRAU_MAXIMO - 1 && no == raiz) {//split na raiz, tratamento específico\n",
    "        raiz = splitRaiz(raiz);\n",
    "        no = raiz;\n",
    "        i = no->tam - 1;\n",
    "    }   \n",
    "    if (no->p[0] == NULL){ //encontrou um nó folha para inclusão\n",
    "        while (i >= 0 && chave < no->chave[i]) {\n",
    "            no->chave[i+1] = no->chave[i];\n",
    "            i--;\n",
    "        }\n",
    "        no->chave[i+1] = chave;\n",
    "        no->tam = no->tam+1;\n",
    "    } \n",
    "    else { //desce na árvore e faz o split se necessário\n",
    "        while (i >= 0 && chave < no->chave[i])\n",
    "            i--;\n",
    "        i++;\n",
    "        filho = no->p[i];\n",
    "        if (filho->tam == GRAU_MAXIMO - 1){\n",
    "            splitNo(no, i, filho);\n",
    "            if (chave > no->chave[i]) \n",
    "                i ++;\n",
    "        }\n",
    "        inclui( no->p[i], chave, raiz);    \n",
    "    }\n",
    "    return raiz;\n",
    "}"
   ]
  },
  {
   "cell_type": "markdown",
   "metadata": {},
   "source": [
    "Função que lê a string de entrada com as chaves, e chama a função de inclusão. Retorna a raiz da árvore."
   ]
  },
  {
   "cell_type": "code",
   "execution_count": 14,
   "metadata": {},
   "outputs": [],
   "source": [
    "tNo* montaarvore(const char *str){\n",
    "    tNo *raiz = NULL;\n",
    "    int i = 0, v =0;\n",
    "    raiz = criaNo();\n",
    "    while (str[i]!='\\0')\n",
    "        raiz = inclui (raiz, token_to_num(str, &i), raiz);\n",
    "    return raiz;        \n",
    "}\n"
   ]
  },
  {
   "cell_type": "markdown",
   "metadata": {},
   "source": [
    "Busca em árvore B. Retorna o nó com a chave encontrada."
   ]
  },
  {
   "cell_type": "code",
   "execution_count": 15,
   "metadata": {},
   "outputs": [],
   "source": [
    "tNo *busca (tNo *no, int chave) {\n",
    "    if( no != NULL ){ \n",
    "        for(int i=0; i < no->tam; i++) {\n",
    "            if( no->chave[i] == chave ) \n",
    "                return no; \n",
    "            else \n",
    "                if( chave < no->chave[i] ) \n",
    "                    return busca( no->p [i], chave ); \n",
    "        }\n",
    "        return busca( no->p[ no->tam ], chave ); \n",
    "    }\n",
    "    else\n",
    "        return NULL;\n",
    "}"
   ]
  },
  {
   "cell_type": "markdown",
   "metadata": {},
   "source": [
    "Função auxiliar para retornar o índice da chave em um nó."
   ]
  },
  {
   "cell_type": "code",
   "execution_count": 16,
   "metadata": {},
   "outputs": [],
   "source": [
    "int indiceChave(tNo *no, int chave){\n",
    "    int i;\n",
    "    for (i = 0; i < no->tam && no->chave[i] != chave; i++);\n",
    "    return i;\n",
    "}"
   ]
  },
  {
   "cell_type": "markdown",
   "metadata": {},
   "source": [
    "Dado um nó, encontra o índice da sub-árvore onde se encontra a chave."
   ]
  },
  {
   "cell_type": "code",
   "execution_count": 17,
   "metadata": {},
   "outputs": [],
   "source": [
    "int posicaoSubArvore(tNo *no, int chave){\n",
    "    int i = no->tam -1;\n",
    "    while (i >= 0 && chave < no->chave[i])\n",
    "        i--;\n",
    "    i++;    \n",
    "    return i;\n",
    "}"
   ]
  },
  {
   "cell_type": "markdown",
   "metadata": {},
   "source": [
    "Desloca todas as chaves e os ponteiros de um nó 1 posição para a direita."
   ]
  },
  {
   "cell_type": "code",
   "execution_count": 18,
   "metadata": {},
   "outputs": [],
   "source": [
    "void deslocaDireita(tNo *no){\n",
    "    int i;\n",
    "    for (i=no->tam ; i > 0 ; i--){\n",
    "        no->chave[i] = no->chave[i-1];\n",
    "        no->p[i+1] = no->p[i];\n",
    "    }\n",
    "    no->p[i+1] = no->p[i];\n",
    "}"
   ]
  },
  {
   "cell_type": "markdown",
   "metadata": {},
   "source": [
    "Desloca as chaves e os ponteiros de um nó 1 posição para a esquerda, até um índice determinado."
   ]
  },
  {
   "cell_type": "code",
   "execution_count": 19,
   "metadata": {},
   "outputs": [],
   "source": [
    "void deslocaEsquerda(tNo *no, int indice){\n",
    "    int i;\n",
    "    for (i=indice ; i < no->tam ; i++){\n",
    "        no->chave[i] = no->chave[i+1];\n",
    "        no->p[i] = no->p[i+1];\n",
    "    }\n",
    "    no->p[i] = no->p[i+1];\n",
    "}"
   ]
  },
  {
   "cell_type": "markdown",
   "metadata": {},
   "source": [
    "Fusiona 2 nós passados como parâmetro, e retorna o nó fusionado. Fusiona o nó direito no nó esquerdo.\n",
    "Ajusta as chaves e os ponteiros do nó, e libera o nó direito da memória."
   ]
  },
  {
   "cell_type": "code",
   "execution_count": 20,
   "metadata": {},
   "outputs": [],
   "source": [
    "tNo* fusionaNo(tNo *esq, int chave, tNo * dir){\n",
    "    int tamEsq = esq->tam;\n",
    "    esq->chave[tamEsq] = chave;\n",
    "    int i;\n",
    "    tamEsq++;\n",
    "    esq->tam ++;\n",
    "    for (i=0; i < dir->tam; i++){//copia chaves e ponteiros da direita para no esquerdo\n",
    "        esq->chave[tamEsq + i] = dir->chave[i];\n",
    "        esq->p[tamEsq + i] = dir->p[i];\n",
    "    }\n",
    "    esq->p[tamEsq + i] = dir->p[i];\n",
    "    esq->tam = esq->tam + dir->tam;\n",
    "    free(dir);\n",
    "    return esq;\n",
    "}"
   ]
  },
  {
   "cell_type": "markdown",
   "metadata": {},
   "source": [
    "Função de exclusão em árore B. Possui 3 casos:\n",
    "1. Chave está no nó e é folha\n",
    "2. Chave está nó e é interno\n",
    "    - se filho esquerdo tem ao menos t chaves \n",
    "    - se filho direito tem ao menos t chaves\n",
    "    - se filhos direito ou esquerdo não tenham ao menos t chaves\n",
    "3. Chave não está no nó interno\n",
    "    - se a raiz da subárvore tem t-1 chaves mas irmão imediato (esquerdo ou direito) tem ao menos t chaves\n",
    "    - se irmãos imediatos possuem t-1 chaves\n"
   ]
  },
  {
   "cell_type": "code",
   "execution_count": 21,
   "metadata": {},
   "outputs": [],
   "source": [
    "tNo* exclui (tNo *no, int chave, tNo* raiz){\n",
    "    int j, i = no->tam -1;\n",
    "    int aux=0, excluiuCaso2 = 0;\n",
    "    tNo *filho, *irmao, *sucessor, *antecessor;\n",
    "    if (indiceChave(no, chave) == 0 && no->tam == 1 && no == raiz) {//split na raiz\n",
    "        cout << \"\\nExcluiu nó raiz\";\n",
    "        free(no);\n",
    "        return NULL;\n",
    "    }   \n",
    "    if (no->p[0] == NULL){ //Caso 1: chave está no nó e é folha\n",
    "        cout << \"\\nCaso 1: nó folha\";\n",
    "        //encontra o indice da chave\n",
    "        j = indiceChave(no, chave);\n",
    "        if (j == no->tam) return NULL; //não encontrou a chave\n",
    "        while (j < no->tam) { \n",
    "            no->chave[j] = no->chave[j+1];\n",
    "            j++;\n",
    "        }\n",
    "        no->tam = no->tam-1;\n",
    "    } \n",
    "    else { //desce na árvore e faz o merge se necessário\n",
    "        j = indiceChave(no, chave);\n",
    "        i = posicaoSubArvore(no, chave);        \n",
    "        if (j < no->tam) {\n",
    "            //Caso 2: encontrou a chave em nó interno\n",
    "            if (no->p[j] != NULL && no->p[j]->tam >= GRAU_MINIMO) {\n",
    "                cout << \"\\nCaso 2.antecessor\";\n",
    "                antecessor = no->p[j];\n",
    "                while (antecessor->p[antecessor->tam - 1] != NULL)\n",
    "                    antecessor = antecessor->p[antecessor->tam - 1];\n",
    "                no->chave[j] = antecessor->chave[antecessor->tam -1];\n",
    "                exclui(no->p[j], antecessor->chave[antecessor->tam-1],raiz);\n",
    "            } else {\n",
    "                if (no->p[j+1] != NULL && no->p[j+1]->tam >= GRAU_MINIMO) {\n",
    "                    cout << \"\\nCaso 2.sucessor\";\n",
    "                    sucessor = no->p[j+1];\n",
    "                    while (sucessor->p[0] != NULL)\n",
    "                        sucessor = sucessor->p[0];\n",
    "                    no->chave[j] = sucessor->chave[0];\n",
    "                    exclui(sucessor, sucessor->chave[0], raiz);\n",
    "                    }\n",
    "                else {\n",
    "                    cout << \"\\nCaso 2.sem grau mínimo\";\n",
    "                    filho = fusionaNo(no->p[j], no->chave[j], no->p[j+1]);\n",
    "                    no->chave[j] = no->chave[j+1];\n",
    "                    deslocaEsquerda(no, j+1);\n",
    "                    no->tam --;\n",
    "                    exclui(filho, chave, raiz);              \n",
    "                }\n",
    "            } \n",
    "        }\n",
    "        else { //Caso 3: não encontrou a chave em nó interno\n",
    "            filho = no->p[i]; //sub arvore da chave\n",
    "            if (no->p[i]->tam == GRAU_MINIMO - 1){\n",
    "                if ( (i-1)>=0 && no->p[i-1]->tam >= GRAU_MINIMO){\n",
    "                    cout << \"\\nCaso 3.a.esq)\"; //filho esquerdo com ao menos t chaves\n",
    "                    irmao = no->p[i-1];\n",
    "                    aux = no->chave[i-1]; \n",
    "                    irmao->tam --;\n",
    "                    no->chave[i-1] = irmao->chave[irmao->tam];\n",
    "                    deslocaDireita(filho);\n",
    "                    filho->tam ++;\n",
    "                    filho->chave[0] = aux;\n",
    "                    filho->p[0] = irmao->p[irmao->tam+1];\n",
    "                }\n",
    "                else {\n",
    "                    if ((i+1) <= no->tam && no->p[i+1]->tam >= GRAU_MINIMO){\n",
    "                        cout << \"\\nCaso 3.a.dir)\"; //filho direito com ao menos t chaves\n",
    "                        irmao = no->p[i+1];\n",
    "                        aux = no->chave[i]; \n",
    "                        irmao->tam --;\n",
    "                        no->chave[i] = irmao->chave[0];\n",
    "                        deslocaEsquerda(irmao, 0);\n",
    "                        filho->tam ++;\n",
    "                        filho->chave[filho->tam-1] = aux;\n",
    "                        filho->p[filho->tam] = irmao->p[0];                        \n",
    "                    }\n",
    "                    else { //fusao de nós\n",
    "                        cout << \"\\nCaso 3.b)\";\n",
    "                        if (i == 0){//primeiro nó, fusiona com o direito\n",
    "                            filho = fusionaNo(filho, no->chave[0], no->p[i+1]);\n",
    "                            no->chave[0] = no->chave[1];\n",
    "                            deslocaEsquerda(no, i+1);\n",
    "                        } else { //fusiona com o esquerdo\n",
    "                            filho = fusionaNo(no->p[i-1], no->chave[i-1], filho);\n",
    "                            no->chave[i-1] = no->chave[i];\n",
    "                            deslocaEsquerda(no, i);\n",
    "                            i--;\n",
    "                        }\n",
    "                        no->tam --;\n",
    "                    }   \n",
    "                }\n",
    "                \n",
    "            }\n",
    "        exclui( no->p[i], chave, raiz);\n",
    "        }\n",
    "    }\n",
    "    return raiz;\n",
    "}\n"
   ]
  },
  {
   "cell_type": "code",
   "execution_count": 22,
   "metadata": {},
   "outputs": [],
   "source": [
    "void iniciaprograma(){\n",
    "    tNo *raiz = NULL;\n",
    "    \n",
    "    //char entrada[] = \"20 13 17 22 11 23 12 9 25 21 18 19\\0\";\n",
    "    char entrada[] = \"10 2 12 20 25 30\\0\";\n",
    "    raiz=montaarvore(entrada); \n",
    "    \n",
    "    cout << \"\\nPercurso em pré-ordem: \";\n",
    "    preordem(raiz); cout << \"\\n\";\n",
    "    \n",
    "    exclui(raiz, 30, raiz);\n",
    "    exclui(raiz, 10, raiz);\n",
    "    \n",
    "    cout << endl << \"\\nPré-ordem: \"; preordem(raiz); \n",
    "    cout << endl << \"Total de nós \" << contaNos(raiz);\n",
    "    cout << endl << \"Total de chaves \" << contaChaves(raiz);  \n",
    "    \n",
    "}"
   ]
  },
  {
   "cell_type": "code",
   "execution_count": 23,
   "metadata": {},
   "outputs": [
    {
     "name": "stdout",
     "output_type": "stream",
     "text": [
      "\n",
      "Percurso em pré-ordem: (10.(2.)20.(12.)(25.30.))\n",
      "\n",
      "Caso 1: nó folha\n",
      "Caso 2.sem grau mínimo\n",
      "Caso 1: nó folha\n",
      "\n",
      "Pré-ordem: (20.(2.12.)(25.))\n",
      "Total de nós 3\n",
      "Total de chaves 4"
     ]
    }
   ],
   "source": [
    "iniciaprograma();"
   ]
  }
 ],
 "metadata": {
  "kernelspec": {
   "display_name": "C++11",
   "language": "C++11",
   "name": "xcpp11"
  },
  "language_info": {
   "codemirror_mode": "text/x-c++src",
   "file_extension": ".cpp",
   "mimetype": "text/x-c++src",
   "name": "c++",
   "version": "11"
  }
 },
 "nbformat": 4,
 "nbformat_minor": 4
}

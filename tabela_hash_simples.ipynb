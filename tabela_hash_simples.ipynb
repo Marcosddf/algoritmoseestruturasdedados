{
 "cells": [
  {
   "cell_type": "markdown",
   "metadata": {},
   "source": [
    "## Tabela Hash\n",
    "### Tabelha de espalhamento, tabela de dispersão\n",
    "\n",
    "Uma tabela Hash é uma estrutura de dados de acesso direto, pois o índice do dado a ser acessado é conhecido.\n",
    "\n",
    "Cada elemento `e_i = (K, V)` da tabela possui uma chave **K** e um valor **V**, e este é acessado no índice **i**. Cada valor é associado a uma única chave. Nem sempre é possível ter uma posição para cada valor, especialmente quando o conjunto de elementos é muito grande. Quando há um índice associado a mais de um valor, é necessário aplicar técnicas de resolução de **colisões**.\n",
    "\n",
    "O índice de acesso a cada valor é dado por uma função hash `h(k) -> i`, que recebe a chave K e retorna o índice para acessar o valor V. \n",
    "\n",
    "A tabela será usada para armazenar nomes próprios (V) e a chave (K) será a primeira letra de cada palavra.\n",
    "\n",
    "Este notebook apresenta a implementação de uma tabela Hash sem tratamento de colisões.\n"
   ]
  },
  {
   "cell_type": "code",
   "execution_count": 1,
   "metadata": {},
   "outputs": [],
   "source": [
    "#include <iostream>\n",
    "#include <stdlib.h> \n",
    "#include <string.h>\n",
    "using namespace std;\n",
    "\n",
    "#define M 19; //tamanho da tabela Hash\n",
    "#define A_ASCII 65;"
   ]
  },
  {
   "cell_type": "markdown",
   "metadata": {},
   "source": [
    "O tamanho da tabela Hash depende do número de chaves existentes e da capacidade de armazenamento. "
   ]
  },
  {
   "cell_type": "code",
   "execution_count": 2,
   "metadata": {},
   "outputs": [],
   "source": [
    "int tamHash(){\n",
    "    return M;\n",
    "}"
   ]
  },
  {
   "cell_type": "markdown",
   "metadata": {},
   "source": [
    "O **método da divisão** é bastante usado para implementar funções hash.\n",
    "\n",
    "Dada uma tabela de tamanho **M**, a função hash será `h(k) -> k mod m`. M deverá ser preferencialmente um número primo, e potencias de 2 devem ser evitadas. \n",
    "\n",
    "Nesta implementação o M escolhido é 19.\n",
    "\n",
    "Esta função pode ser trocada para implementar diferentes métodos."
   ]
  },
  {
   "cell_type": "code",
   "execution_count": 3,
   "metadata": {},
   "outputs": [],
   "source": [
    "int hash_divisao(int k){\n",
    "    cout << \"\\nk mod m \" << (k % tamHash()) << ' ';\n",
    "    return (k % tamHash());\n",
    "}"
   ]
  },
  {
   "cell_type": "markdown",
   "metadata": {},
   "source": [
    "Função para iniciar todos os elementos da tabela hash."
   ]
  },
  {
   "cell_type": "code",
   "execution_count": 4,
   "metadata": {},
   "outputs": [],
   "source": [
    "void inicia(char tabela[][10]){\n",
    "    for (int i = 0; i < tamHash(); i ++)\n",
    "        tabela[i][0] = '\\0';\n",
    "}"
   ]
  },
  {
   "cell_type": "markdown",
   "metadata": {},
   "source": [
    "Função que converte um caracter ASCII para um índice numérico, que será a chave da string. Leva em consideração letras maiúsculas do alfabeto."
   ]
  },
  {
   "cell_type": "code",
   "execution_count": 5,
   "metadata": {},
   "outputs": [],
   "source": [
    "int char_to_chave(char chr){\n",
    "    char c = toupper(chr);\n",
    "    return c - A_ASCII;\n",
    "}"
   ]
  },
  {
   "cell_type": "markdown",
   "metadata": {},
   "source": [
    "Imprime os elementos da tabela Hash."
   ]
  },
  {
   "cell_type": "code",
   "execution_count": 6,
   "metadata": {},
   "outputs": [],
   "source": [
    "void imprime(char tabela[][10]){\n",
    "    cout << endl << endl;\n",
    "    for (int i = 0; i < tamHash(); i ++)\n",
    "        cout << i << ':' << tabela[i] << \".\";\n",
    "}"
   ]
  },
  {
   "cell_type": "markdown",
   "metadata": {},
   "source": [
    "Inclui um elemento na tabela Hash. Não faz tratamento de colisão, caso a posição esteja ocupada retorna uma mensagem."
   ]
  },
  {
   "cell_type": "code",
   "execution_count": 7,
   "metadata": {},
   "outputs": [],
   "source": [
    "void inclui (char tabelaHash[][10], const char *valor) {\n",
    "    int i = hash_divisao(char_to_chave(valor[0]));\n",
    "    if (tabelaHash[i][0] == '\\0')\n",
    "        strcpy(tabelaHash[i], valor);\n",
    "    else \n",
    "        cout << \"\\nPosição já alocada. Valor não incluído.\";\n",
    "}"
   ]
  },
  {
   "cell_type": "markdown",
   "metadata": {},
   "source": [
    "Busca um elemento na tabela Hash. Calcula o valor do índice usando a função Hash e retorna o elemento na posição da tabela. Pode ser uma string vazia."
   ]
  },
  {
   "cell_type": "code",
   "execution_count": 8,
   "metadata": {},
   "outputs": [],
   "source": [
    "char *busca (char tabelaHash[][10], char chave){\n",
    "    return tabelaHash[hash_divisao(char_to_chave(chave))];\n",
    "}"
   ]
  },
  {
   "cell_type": "markdown",
   "metadata": {},
   "source": [
    "Função de exclusão na tabela hash. Apenas atribui `\\0` para a primeira posição do elemento com a chave passada como parâmetro correspondente. Não verifica se já existia algum elemento naquela posição."
   ]
  },
  {
   "cell_type": "code",
   "execution_count": 9,
   "metadata": {},
   "outputs": [],
   "source": [
    "void exclui (char tabelaHash[][10], char chave){\n",
    "    tabelaHash[hash_divisao(char_to_chave(chave))][0] = '\\0';\n",
    "}"
   ]
  },
  {
   "cell_type": "markdown",
   "metadata": {},
   "source": [
    "Programa que chama as funções implementadas. A tabela hash terá 19 posições e cada valor terá no máximo 10 caracteres."
   ]
  },
  {
   "cell_type": "code",
   "execution_count": 10,
   "metadata": {},
   "outputs": [],
   "source": [
    "void iniciaprograma(){\n",
    "    \n",
    "    int t = tamHash();\n",
    "    char tabelaHash[t][10];\n",
    "    inicia(tabelaHash);\n",
    "    \n",
    "    inclui(tabelaHash, \"Ariel\");\n",
    "    inclui(tabelaHash, \"Lucas\");\n",
    "    inclui(tabelaHash, \"Rafael\");\n",
    "    inclui(tabelaHash, \"Pamela\");\n",
    "    inclui(tabelaHash, \"Tamara\");\n",
    "    inclui(tabelaHash, \"Val\");\n",
    "    inclui(tabelaHash, \"Claus\");\n",
    "    \n",
    "    imprime(tabelaHash);\n",
    "    \n",
    "    cout << \"\\n \" << busca(tabelaHash, 'R');\n",
    "    cout << \"\\n \" << busca(tabelaHash, 'P');\n",
    "    cout << \"\\n \" << busca(tabelaHash, 'K');\n",
    "    \n",
    "    exclui(tabelaHash,'L');\n",
    "    \n",
    "    imprime(tabelaHash);\n",
    "    \n",
    "    cout << \"\\n \" << busca(tabelaHash, 'R');\n",
    "    cout << \"\\n \" << busca(tabelaHash, 'P');\n",
    "    cout << \"\\n \" << busca(tabelaHash, 'K');    \n",
    "    \n",
    "}"
   ]
  },
  {
   "cell_type": "code",
   "execution_count": 11,
   "metadata": {},
   "outputs": [
    {
     "name": "stdout",
     "output_type": "stream",
     "text": [
      "\n",
      "k mod m 0 \n",
      "k mod m 11 \n",
      "k mod m 17 \n",
      "k mod m 15 \n",
      "k mod m 0 \n",
      "Posição já alocada. Valor não incluído.\n",
      "k mod m 2 \n",
      "k mod m 2 \n",
      "Posição já alocada. Valor não incluído.\n",
      "\n",
      "0:Ariel.1:.2:Val.3:.4:.5:.6:.7:.8:.9:.10:.11:Lucas.12:.13:.14:.15:Pamela.16:.17:Rafael.18:.\n",
      " \n",
      "k mod m 17 Rafael\n",
      " \n",
      "k mod m 15 Pamela\n",
      " \n",
      "k mod m 10 \n",
      "k mod m 11 \n",
      "\n",
      "0:Ariel.1:.2:Val.3:.4:.5:.6:.7:.8:.9:.10:.11:.12:.13:.14:.15:Pamela.16:.17:Rafael.18:.\n",
      " \n",
      "k mod m 17 Rafael\n",
      " \n",
      "k mod m 15 Pamela\n",
      " \n",
      "k mod m 10 "
     ]
    }
   ],
   "source": [
    "iniciaprograma();"
   ]
  }
 ],
 "metadata": {
  "kernelspec": {
   "display_name": "C++14",
   "language": "C++14",
   "name": "xcpp14"
  },
  "language_info": {
   "codemirror_mode": "text/x-c++src",
   "file_extension": ".cpp",
   "mimetype": "text/x-c++src",
   "name": "c++",
   "version": "14"
  }
 },
 "nbformat": 4,
 "nbformat_minor": 4
}

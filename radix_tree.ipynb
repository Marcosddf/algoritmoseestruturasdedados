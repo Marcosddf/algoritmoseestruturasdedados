{
 "cells": [
  {
   "cell_type": "markdown",
   "metadata": {},
   "source": [
    "## Árvore Radix\n",
    "\n",
    "O código abaixo ilustra a inclusão, busca e exclusão em uma árvore Radix. Existem implementações com diferentes tamanhos de r (número de filhos). Neste notebook são usados nós com 26 filhos.\n",
    "\n",
    "Cada nó que possui apenas 1 filho é fusionado com o seu nó pai. Uma descrição informal pode ser encontrada no link: https://en.wikipedia.org/wiki/Radix_tree"
   ]
  },
  {
   "cell_type": "code",
   "execution_count": 1,
   "metadata": {},
   "outputs": [],
   "source": [
    "#include <iostream>\n",
    "using namespace std;\n",
    "\n",
    "#define ALFABETO 26\n",
    "#define A_ASCII 65;"
   ]
  },
  {
   "cell_type": "markdown",
   "metadata": {},
   "source": [
    "Estrutura para uma árvore Radix, com grau máximo 26. O grau máximo é dado pelo valor do alfabeto especificado acima. O nó folha possui a chave.\n",
    "\n",
    "O radical tem tamanho fixo 10, e a chave é um ponteiro para char. Estas escolhas poderiam ser modificadas de acordo com a aplicação.\n",
    "\n",
    "Quando o nó representa uma palavra, a chave inteira é armzenada. Existem outras implementações possíveis, por exemplo, com grau máximo = 2. Neste caso, o tamanho do nó é menor, porém a altura da árvore será maior."
   ]
  },
  {
   "cell_type": "code",
   "execution_count": 2,
   "metadata": {},
   "outputs": [],
   "source": [
    "struct tNo {\n",
    "    tNo *p [ALFABETO];\n",
    "    char radical[10];\n",
    "    char *chave;\n",
    "    int tamanho;    \n",
    "} "
   ]
  },
  {
   "cell_type": "markdown",
   "metadata": {},
   "source": [
    "Percurso da árvore em **ORDEM** pela chave. Imprime o radical associado a cada nó. Quando é um nó folha (tem uma chave associada), imprime também a chave."
   ]
  },
  {
   "cell_type": "code",
   "execution_count": 3,
   "metadata": {},
   "outputs": [],
   "source": [
    "void emordem(tNo *no){    \n",
    "    int j = 0;\n",
    "    if (no != NULL) {\n",
    "       for (int i=0; i < ALFABETO; i++){\n",
    "           if (no->p[i] != NULL) {\n",
    "               cout<< no->p[i]->radical;\n",
    "               if (no->p[i]->chave[0] != '\\0')\n",
    "                   cout << \"(\" << no->p[i]->chave << \")\";\n",
    "                cout <<'.';\n",
    "               emordem(no->p[i]);\n",
    "           }\n",
    "       }\n",
    "    }\n",
    "}"
   ]
  },
  {
   "cell_type": "markdown",
   "metadata": {},
   "source": [
    "Conta o número de nós da árvore, incluindo o nó raiz."
   ]
  },
  {
   "cell_type": "code",
   "execution_count": 4,
   "metadata": {},
   "outputs": [],
   "source": [
    "int contaNos(tNo *no){\n",
    "   int nos = 0; \n",
    "   if (no != NULL) {\n",
    "       for (int i=0; i < ALFABETO ;i++){\n",
    "           if (no->p[i] != NULL)\n",
    "               nos += contaNos(no->p[i]);\n",
    "       }\n",
    "       nos += 1;\n",
    "   }\n",
    "   return nos;\n",
    "}"
   ]
  },
  {
   "cell_type": "markdown",
   "metadata": {},
   "source": [
    "Calcula a altura da árvore. A altura da árvore será também o comprimento da maior chave (palavra) encontrada."
   ]
  },
  {
   "cell_type": "code",
   "execution_count": 5,
   "metadata": {},
   "outputs": [],
   "source": [
    "int altura (tNo *no) {\n",
    "   int hTotal = -1; \n",
    "   if (no != NULL) {\n",
    "       int h=-1;\n",
    "       for (int i=0; i < ALFABETO ;i++){\n",
    "           if (no->p[i] != NULL){\n",
    "              h = altura(no->p[i]);\n",
    "               if (h > hTotal)\n",
    "                   hTotal = h;\n",
    "           }\n",
    "       }\n",
    "       hTotal += 1;\n",
    "   }\n",
    "   return hTotal;\n",
    "}"
   ]
  },
  {
   "cell_type": "markdown",
   "metadata": {},
   "source": [
    "Função que converte um caracter de entrada em um número inteiro. Esta função converte todas as letras para maíusculas e diminui do valor ASCII da letra 'A', que é 65. O valor está definido na constante A_ASCII;"
   ]
  },
  {
   "cell_type": "code",
   "execution_count": 6,
   "metadata": {},
   "outputs": [],
   "source": [
    "int char_to_index(char chr){\n",
    "    char c = toupper(chr);\n",
    "    return c - A_ASCII;\n",
    "}"
   ]
  },
  {
   "cell_type": "markdown",
   "metadata": {},
   "source": [
    "Função que retorna um token de uma determinada string, separada por espaços. Usada para processar a string de entrada de dados."
   ]
  },
  {
   "cell_type": "code",
   "execution_count": 7,
   "metadata": {},
   "outputs": [],
   "source": [
    "char* get_token(const char *str, int *indice){    \n",
    "    char * token = (char *) malloc(sizeof(char)*20) ;\n",
    "    int i = 0;\n",
    "    while (str[*indice] != '\\0' && str[*indice] != ' '){\n",
    "        token[i] = str[*indice];\n",
    "        i++;\n",
    "        (*indice)++;\n",
    "    }\n",
    "    token[i] = '\\0';\n",
    "    (*indice)++;    \n",
    "    return token;\n",
    "}"
   ]
  },
  {
   "cell_type": "markdown",
   "metadata": {},
   "source": [
    "Busca em árvore Radix. Percorre os componentes das chaves baseados na string de entrada, e retorna o nó folha encontrado.\n",
    "\n",
    "Imprime o radical dos nós percorridos."
   ]
  },
  {
   "cell_type": "code",
   "execution_count": 8,
   "metadata": {},
   "outputs": [],
   "source": [
    "tNo *busca (tNo *no, const char *chave, int inicio) {\n",
    "    int nivel, indice_char, j;\n",
    "    tNo *noMeio = NULL, *noFilho = NULL;\n",
    "    int tamanho_chave = strlen(chave);\n",
    "    char radix[15]; \n",
    "    int i=0;\n",
    "    indice_char = char_to_index(chave[inicio]);\n",
    "    noFilho = no->p[indice_char];\n",
    "    if (noFilho == NULL) //nao encontrou a chave\n",
    "        return NULL;\n",
    "    else {\n",
    "        cout << noFilho->radical << \".\";\n",
    "        while (chave[i+inicio] == noFilho->radical[i])\n",
    "            i++;        \n",
    "        if (i < noFilho->tamanho) // não encontrou\n",
    "            return NULL;\n",
    "        else {\n",
    "            //diminiui 1 do i, pois já está posicionado no próximo caracter.\n",
    "            if ((i-1) == noFilho->tamanho && (i - 1 + inicio) == tamanho_chave) //encontrou palavra                \n",
    "               return noFilho;\n",
    "            else \n",
    "               return busca(noFilho, chave, i + inicio );\n",
    "        }\n",
    "    }\n",
    "}"
   ]
  },
  {
   "cell_type": "markdown",
   "metadata": {},
   "source": [
    "Função auxiliar para imprimir a chave de um nó."
   ]
  },
  {
   "cell_type": "code",
   "execution_count": 9,
   "metadata": {},
   "outputs": [],
   "source": [
    "void imprime(const char *str, tNo *no){\n",
    "    cout << \"||\" << str << \" \";\n",
    "    if (no!=NULL) cout << \"[\"<< no->chave<<\"]\";\n",
    "    else cout << \"não\";\n",
    "    cout << \" encontrado\\n\";\n",
    "}"
   ]
  },
  {
   "cell_type": "markdown",
   "metadata": {},
   "source": [
    "Função para inicialização do nó, com alocação de memória, atribuição de valores NULL para os ponteiros e atribuição dos valores para o radical de cada nó e para a chave, caso exista."
   ]
  },
  {
   "cell_type": "code",
   "execution_count": 12,
   "metadata": {},
   "outputs": [],
   "source": [
    "tNo *criaNo (const char *radix, int inicio, int fim, const char * chave){\n",
    "    tNo *no = (tNo *)malloc (sizeof (tNo));\n",
    "    int i, j, tamanho_chave = strlen(chave) ;\n",
    "    for (int j=0; j < ALFABETO; j++) //zera os ponteiros\n",
    "       no->p[j] = NULL;\n",
    "    no->chave = (char *)malloc(sizeof(char) * 20); //aloca a chave com 20 caracteres.\n",
    "    no->chave[0] = '\\0';\n",
    "    for (i=0; i < fim; i ++) //seta um valor para o radical\n",
    "        no->radical[i] = radix[i+inicio];    \n",
    "    no->radical[i] = '\\0';\n",
    "    no->tamanho = strlen(no->radical); //fim-inicio;\n",
    "    if (inicio + fim == tamanho_chave){\n",
    "        for (j=0; j < tamanho_chave; j ++)\n",
    "            no->chave[j] = chave[j];\n",
    "        no->chave[j] = '\\0';\n",
    "    }\n",
    "    return no;\n",
    "}"
   ]
  },
  {
   "cell_type": "markdown",
   "metadata": {},
   "source": [
    "Funcão para inclusão de uma nova chave na árvore Radix, dado um nó raiz. \n",
    "\n",
    "Percorre a árvore de acordo até um nó folha e inclui uma nova chave. Caso necessário, faz um **split** de um nó já existente e ajusta os valores dos radicais e ponteiros. O split é feito na descida. Existem implementações que faze o split na subida.\n",
    "\n",
    "O nó final armazena a chave inteira."
   ]
  },
  {
   "cell_type": "code",
   "execution_count": 13,
   "metadata": {},
   "outputs": [],
   "source": [
    "void inclui (tNo *no, const char *chave, int inicio){\n",
    "    int nivel, indice_char, j;\n",
    "    tNo *noMeio = NULL, *noFilho = NULL;\n",
    "    int tamanho_chave = strlen(chave);\n",
    "    char radix[15]; \n",
    "    int i=0;\n",
    "    indice_char = char_to_index(chave[inicio]);\n",
    "    noFilho = no->p[indice_char];\n",
    "    if (noFilho == NULL){ //nao existe subarvore, incluir noh\n",
    "        no->p[indice_char] = criaNo(chave, inicio, tamanho_chave-inicio, chave);\n",
    "        i = tamanho_chave;\n",
    "    } else {\n",
    "        while (chave[i+inicio] == noFilho->radical[i]){\n",
    "            i++;        \n",
    "        }\n",
    "        if (i < noFilho->tamanho){ // split do nó\n",
    "            noMeio = criaNo(noFilho->radical, 0, i, chave); //novo nó será o nó do meio\n",
    "            no->p[indice_char] = noMeio;\n",
    "            noFilho->tamanho = noFilho->tamanho - i;\n",
    "            for (j = 0; j < noFilho->tamanho ; j++)\n",
    "                noFilho->radical[j] = noFilho->radical[j + i];\n",
    "            noFilho->radical[j] = '\\0';\n",
    "            noMeio->p[char_to_index(noFilho->radical[0])] = noFilho;\n",
    "            if (i != tamanho_chave) \n",
    "              inclui(noMeio,chave,i+inicio);                  \n",
    "        }\n",
    "        else {\n",
    "            if ((i-1) == noFilho->tamanho && (i - 1 + inicio) == tamanho_chave) {//encontrou palavra\n",
    "                return;\n",
    "            } else { //chama próximo nó (se for palavra maior que a existente, irá incluir novo no)\n",
    "                for (int k = i; k < strlen(chave); k ++)\n",
    "                    cout << chave [k];\n",
    "                inclui(noFilho, chave, i + inicio );\n",
    "            }\n",
    "        }\n",
    "    }\n",
    "}"
   ]
  },
  {
   "cell_type": "markdown",
   "metadata": {},
   "source": [
    "Faz a leitura da string de entrada, separa cada token com espaços e chama a função de inclusão."
   ]
  },
  {
   "cell_type": "code",
   "execution_count": 14,
   "metadata": {},
   "outputs": [],
   "source": [
    "tNo* montaarvore(const char *str){\n",
    "    tNo *raiz = NULL;\n",
    "    int i = 0, v =0;\n",
    "    raiz = criaNo(\"\\0\",0,0, \"\\0\");\n",
    "    while (str[i]!='\\0')\n",
    "        inclui (raiz, get_token(str, &i),0);\n",
    "    return raiz;        \n",
    "}\n"
   ]
  },
  {
   "cell_type": "code",
   "execution_count": 15,
   "metadata": {},
   "outputs": [],
   "source": [
    "void iniciaprograma(){\n",
    "    tNo *raiz = NULL;\n",
    "    \n",
    "    char entrada[] = \"casado casa carro bola busca\\0\";\n",
    "    raiz=montaarvore(entrada); \n",
    "    \n",
    "    cout << \"\\nPercurso em ordem: \";\n",
    "    emordem(raiz); cout << \"\\n\";\n",
    "    \n",
    "    cout << \"\\nTotal de nós: \" << contaNos(raiz);\n",
    "    cout << \"\\nAltura da árvore: \" << altura(raiz) << \"\\n\\n\";\n",
    "    \n",
    "     imprime (\" busca carra\", busca(raiz, \"carra\",0));\n",
    "     imprime (\" busca \", busca(raiz, \"cargo\",0));\n",
    "     imprime (\" busca \", busca(raiz, \"bola\",0));\n",
    "     imprime (\" busca \", busca(raiz, \"carta\",0));\n",
    "    \n",
    "}"
   ]
  },
  {
   "cell_type": "code",
   "execution_count": 16,
   "metadata": {},
   "outputs": [
    {
     "name": "stdout",
     "output_type": "stream",
     "text": [
      "\n",
      "Percurso em ordem: b.ola(bola).usca(busca).ca.rro(carro).sa(casa).do(casado).\n",
      "\n",
      "Total de nós: 8\n",
      "Altura da árvore: 3\n",
      "\n",
      "ca.rro.|| busca carra não encontrado\n",
      "ca.rro.|| busca  não encontrado\n",
      "b.ola.|| busca  [bola] encontrado\n",
      "ca.rro.|| busca  não encontrado\n"
     ]
    }
   ],
   "source": [
    "iniciaprograma();"
   ]
  }
 ],
 "metadata": {
  "kernelspec": {
   "display_name": "C++17",
   "language": "C++17",
   "name": "xcpp17"
  },
  "language_info": {
   "codemirror_mode": "text/x-c++src",
   "file_extension": ".cpp",
   "mimetype": "text/x-c++src",
   "name": "c++",
   "version": "17"
  }
 },
 "nbformat": 4,
 "nbformat_minor": 4
}

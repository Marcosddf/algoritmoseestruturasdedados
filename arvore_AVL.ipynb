{
 "cells": [
  {
   "cell_type": "markdown",
   "metadata": {},
   "source": [
    "## Árvore AVL\n",
    "\n",
    "\n",
    "O código abaixo ilustra uma árvore AVL. Uma árvore AVL é uma árvore binária balanceada. O balanceamento é realizado após cada inclusão ou exclusão de nós.\n",
    "\n",
    "exclusãoDado 1 nó qualquer da árvore a diferença entre a altura da sub-árvore da esquerda e da sub-árvore da direita será sempre menor ou igual a 1. Esta diferença é chamada de **fator de balanceamento** do nó."
   ]
  },
  {
   "cell_type": "code",
   "execution_count": 1,
   "metadata": {},
   "outputs": [],
   "source": [
    "#include <iostream>\n",
    "#include <stdlib.h> \n",
    "using namespace std;"
   ]
  },
  {
   "cell_type": "markdown",
   "metadata": {},
   "source": [
    "Estrutura para uma árvore AVL."
   ]
  },
  {
   "cell_type": "code",
   "execution_count": 2,
   "metadata": {},
   "outputs": [],
   "source": [
    "struct tNo {\n",
    "    int chave; \n",
    "    tNo *esq, *dir, *pai;\n",
    "    int fb; //fator de balanceamento (altura esquerda - altura direita)\n",
    "};"
   ]
  },
  {
   "cell_type": "markdown",
   "metadata": {},
   "source": [
    "Função para inicialização do nó, com alocação de memória e atribuição de valores para os componentes do nó."
   ]
  },
  {
   "cell_type": "code",
   "execution_count": 3,
   "metadata": {},
   "outputs": [],
   "source": [
    "tNo *criaNo (int chave){\n",
    "    tNo *no = (tNo *)malloc (sizeof (tNo));\n",
    "    no->chave = chave;\n",
    "    no->esq = NULL;\n",
    "    no->dir = NULL;\n",
    "    no->pai = NULL; \n",
    "    no->fb = 0;\n",
    "    return no;\n",
    "}"
   ]
  },
  {
   "cell_type": "markdown",
   "metadata": {},
   "source": [
    "Rotação à esquerda do nó, retorna o novo nó. Tem ponteiro para o pai."
   ]
  },
  {
   "cell_type": "code",
   "execution_count": 4,
   "metadata": {},
   "outputs": [],
   "source": [
    "tNo *rotEsquerda(tNo *p){\n",
    "    tNo *q = p->dir;\n",
    "    p->dir = q->esq;\n",
    "    q->pai = p->pai;\n",
    "    p->pai = q;\n",
    "    if (q->esq != NULL)\n",
    "        q->esq->pai = p;\n",
    "    q->esq = p;\n",
    "    return q;\n",
    "}"
   ]
  },
  {
   "cell_type": "markdown",
   "metadata": {},
   "source": [
    "Rotação à direita do nó, retorna o novo nó. Tem ponteiro para o pai."
   ]
  },
  {
   "cell_type": "code",
   "execution_count": 5,
   "metadata": {},
   "outputs": [],
   "source": [
    "tNo *rotDireita(tNo *p){\n",
    "    tNo *q = p->esq;\n",
    "    p->esq = q->dir;\n",
    "    q->pai = p->pai;\n",
    "    p->pai = q;\n",
    "    if (q->dir != NULL)\n",
    "        q->dir->pai = p;\n",
    "    q->dir = p;\n",
    "    return q;\n",
    "}"
   ]
  },
  {
   "cell_type": "markdown",
   "metadata": {},
   "source": [
    "Altura da árvore"
   ]
  },
  {
   "cell_type": "code",
   "execution_count": 6,
   "metadata": {},
   "outputs": [],
   "source": [
    "int altura (tNo *p) {\n",
    "    int he, hd;\n",
    "    if (p == NULL) return -1;\n",
    "    he = altura (p->esq);\n",
    "    hd = altura (p->dir);\n",
    "    if (he > hd)\n",
    "        return he+1;\n",
    "    else\n",
    "        return hd+1;    \n",
    "}"
   ]
  },
  {
   "cell_type": "markdown",
   "metadata": {},
   "source": [
    "Função para ajustar ponteiro _pai_ da árvore binária, usada na função de exclusão."
   ]
  },
  {
   "cell_type": "code",
   "execution_count": 7,
   "metadata": {},
   "outputs": [],
   "source": [
    "void ajustaNoPai(tNo *no, tNo *novo){\n",
    "    if (no->pai != NULL) {\n",
    "        if (no->pai->esq == no)\n",
    "            no->pai->esq = novo;\n",
    "        else\n",
    "            no->pai->dir = novo;\n",
    "        if (novo != NULL)\n",
    "           novo->pai = no->pai;\n",
    "    }\n",
    "}"
   ]
  },
  {
   "cell_type": "markdown",
   "metadata": {},
   "source": [
    "Função que ajusta um nó desbalanceado em uma árvore AVL. Um nó está desbalanceado quando a diferença de altura entre a subárvore da direita e da esquerda do nó é maior que 1.\n",
    "\n",
    "Caso o fator de balanceamento for -2, está desbalanceada para a esquerda. Caso for 2, está desbalanceada para a direita.\n",
    "\n",
    "A função tem 4 casos possíveis:\n",
    "- esq-esq : 1 rotação à direita do nó\n",
    "- esq-dir : 1 rotação à esquerda do nó à esquerda e 1 rotação à direita do nó\n",
    "- dir-dir : 1 rotação à esquerda do nó\n",
    "- dir-esq : 1 rotação à direita do nó à direita e 1 rotação à esquerda do nó"
   ]
  },
  {
   "cell_type": "code",
   "execution_count": 8,
   "metadata": {},
   "outputs": [],
   "source": [
    "tNo* ajustaAVL(tNo * no, int *calcula_fb){\n",
    "    cout << \"\\najusta \"<< no->chave <<\" \\n\";\n",
    "    tNo *noAjuste;//, *pai = no->pai;\n",
    "    if (no->fb == -2) { //desbalanceado na  esquerda\n",
    "        if (no->esq != NULL && no->esq->fb > 0) {\n",
    "            cout << \"esq.\" << no->esq->chave;\n",
    "            no->esq = rotEsquerda(no->esq);\n",
    "        }\n",
    "        cout << \" dir.\" << no->chave;    \n",
    "        noAjuste = rotDireita(no);        \n",
    "    } else {        \n",
    "        if (no->dir->fb < 0){\n",
    "            cout << \"dir.\"<< no->dir->chave;\n",
    "            no->dir = rotDireita(no->dir);\n",
    "        }\n",
    "        cout << \" esq.\" << no->chave;\n",
    "        noAjuste = rotEsquerda(no);\n",
    "        \n",
    "    }\n",
    "    if (noAjuste->pai != NULL){\n",
    "        if (noAjuste->pai->esq == no)\n",
    "            noAjuste->pai->esq = noAjuste;\n",
    "        else\n",
    "            noAjuste->pai->dir = noAjuste;  \n",
    "    }\n",
    "    noAjuste->fb = 0;\n",
    "    noAjuste->esq->fb = (altura(noAjuste->esq->dir) - altura(noAjuste->esq->esq));\n",
    "    noAjuste->dir->fb = (altura(noAjuste->dir->dir) - altura(noAjuste->dir->esq));\n",
    "    *calcula_fb = 0;\n",
    "    return noAjuste;\n",
    "}"
   ]
  },
  {
   "cell_type": "markdown",
   "metadata": {},
   "source": [
    "Funcão para inclusão de novo nó na árvore AVL, dado um nó raiz.\n",
    "\n",
    "Possui um parâmetro extra, chamado **calcula_fb**, para indicar se uma determinada sub-árvore teve sua altura alterada."
   ]
  },
  {
   "cell_type": "code",
   "execution_count": 9,
   "metadata": {},
   "outputs": [],
   "source": [
    "tNo* inclui (tNo *no, int c, int *calcula_fb){\n",
    "    if (no == NULL) {\n",
    "        no = criaNo(c);        \n",
    "        (*calcula_fb) = 1;\n",
    "        return no;    \n",
    "    }\n",
    "    if (c < no->chave){\n",
    "        no->esq = inclui(no->esq, c, calcula_fb);\n",
    "        no->esq->pai = no;\n",
    "        if (*calcula_fb) no->fb --;\n",
    "    }\n",
    "    else {\n",
    "        no->dir = inclui(no->dir, c, calcula_fb);\n",
    "        no->dir->pai = no;\n",
    "        if (*calcula_fb) no->fb ++;\n",
    "    }\n",
    "    if (*calcula_fb){\n",
    "        if (no->fb == 0) *calcula_fb = 0;\n",
    "        if (no->fb == 2 || no->fb == -2) // se está desbalanceada, precisa chamar a função de ajuste\n",
    "           no = ajustaAVL(no, calcula_fb);\n",
    "    }\n",
    "    return no;\n",
    "}"
   ]
  },
  {
   "cell_type": "markdown",
   "metadata": {},
   "source": [
    "Função que lê um token, separado por espaço, e converte para um número inteiro."
   ]
  },
  {
   "cell_type": "code",
   "execution_count": 10,
   "metadata": {},
   "outputs": [],
   "source": [
    "int token_to_num(const char *str, int *indice){    \n",
    "    char token[100];\n",
    "    int i = 0;\n",
    "    while (str[*indice] != '\\0' && str[*indice] != ' '){\n",
    "        token[i] = str[*indice];\n",
    "        i++;\n",
    "        (*indice)++;\n",
    "    }\n",
    "    token[i] = '\\0';\n",
    "    (*indice)++;    \n",
    "    return atoi(token);\n",
    "}"
   ]
  },
  {
   "cell_type": "markdown",
   "metadata": {},
   "source": [
    "Função que monta uma árvore binária recebendo como entrada uma árvore com parênteses aninhados. Não há suporte a erros de entrada, por isso a árvore passada como parâmetro deve estar correta."
   ]
  },
  {
   "cell_type": "code",
   "execution_count": 11,
   "metadata": {},
   "outputs": [],
   "source": [
    "tNo* montaarvore(const char *str){\n",
    "    tNo *raiz = NULL;\n",
    "    int i = 0, v =0, calcula_fb = 0;\n",
    "    raiz = inclui(NULL, token_to_num(str,&i), &calcula_fb);\n",
    "    while (str[i]!='\\0'){\n",
    "        raiz = inclui (raiz, token_to_num(str, &i), &calcula_fb);                \n",
    "    }\n",
    "    return raiz;        \n",
    "}"
   ]
  },
  {
   "cell_type": "markdown",
   "metadata": {},
   "source": [
    "Operação de visita do nó. Neste caso é uma impressão simples."
   ]
  },
  {
   "cell_type": "code",
   "execution_count": 12,
   "metadata": {},
   "outputs": [],
   "source": [
    "void visita(tNo * no){\n",
    "    cout << no->chave << ':'<< no->fb << '.';\n",
    "}"
   ]
  },
  {
   "cell_type": "markdown",
   "metadata": {},
   "source": [
    "Percurso da árvore em **PRÉ-ORDEM**."
   ]
  },
  {
   "cell_type": "code",
   "execution_count": 13,
   "metadata": {},
   "outputs": [],
   "source": [
    "void preordem(tNo *no){\n",
    "    cout << \"(\";\n",
    "    if (no != NULL){\n",
    "        visita(no);\n",
    "        preordem(no->esq);\n",
    "        preordem(no->dir);\n",
    "    }\n",
    "    cout << \")\";\n",
    "}"
   ]
  },
  {
   "cell_type": "markdown",
   "metadata": {},
   "source": [
    "Percurso da árvore em **ORDEM**."
   ]
  },
  {
   "cell_type": "code",
   "execution_count": 14,
   "metadata": {},
   "outputs": [],
   "source": [
    "void emordem(tNo *no){    \n",
    "    if (no !=NULL){\n",
    "        emordem(no->esq);\n",
    "        visita(no);\n",
    "        emordem(no->dir);\n",
    "    }\n",
    "}"
   ]
  },
  {
   "cell_type": "markdown",
   "metadata": {},
   "source": [
    "Percurso da árvore em **PÓS-ORDEM**."
   ]
  },
  {
   "cell_type": "code",
   "execution_count": 15,
   "metadata": {},
   "outputs": [],
   "source": [
    "void posordem(tNo * no){\n",
    "    if (no !=NULL){    \n",
    "        posordem(no->esq);        \n",
    "        posordem(no->dir);\n",
    "        visita(no);\n",
    "    }\n",
    "}"
   ]
  },
  {
   "cell_type": "markdown",
   "metadata": {},
   "source": [
    "Função que retorna o nó mínimo de uma sub-árvore. O nó mínimo de uma subárvore é o nó com a menor chave."
   ]
  },
  {
   "cell_type": "code",
   "execution_count": 16,
   "metadata": {},
   "outputs": [],
   "source": [
    "tNo *min(tNo *no){\n",
    "    if (no->esq == NULL) return no;\n",
    "    else\n",
    "        return min(no->esq);\n",
    "}"
   ]
  },
  {
   "cell_type": "markdown",
   "metadata": {},
   "source": [
    "Função que retorna o nó sucessor de um determinado nó. A chave do nó deverá ser o valor imediatamente superior, em ordem crescente. \n",
    "\n",
    "As funções do antecessor e máximo possuem ideia semelhante as do sucessor e mínimo, porém para o lado contrário da árvore."
   ]
  },
  {
   "cell_type": "code",
   "execution_count": 17,
   "metadata": {},
   "outputs": [],
   "source": [
    "tNo *sucessor (tNo *no){\n",
    "    tNo *s = NULL;\n",
    "    if (no->dir != NULL) return min (no->dir);\n",
    "    else {\n",
    "        s = no->pai;\n",
    "        while (s != NULL && no == s->dir) {\n",
    "            no = s;\n",
    "            s = s->pai;\n",
    "        }        \n",
    "    }\n",
    "    return s;\n",
    "}"
   ]
  },
  {
   "cell_type": "markdown",
   "metadata": {},
   "source": [
    "Busca em árvore binária."
   ]
  },
  {
   "cell_type": "code",
   "execution_count": 18,
   "metadata": {},
   "outputs": [],
   "source": [
    "tNo *busca(tNo *no, int chave){\n",
    "    if (no == NULL) return NULL;\n",
    "    if (no->chave == chave) return no;\n",
    "    if (chave < no->chave)\n",
    "        return busca (no->esq, chave);\n",
    "    else\n",
    "        return busca (no->dir, chave);\n",
    "}"
   ]
  },
  {
   "cell_type": "markdown",
   "metadata": {},
   "source": [
    "Ajusta fator de balanceamento do pai."
   ]
  },
  {
   "cell_type": "code",
   "execution_count": 19,
   "metadata": {},
   "outputs": [],
   "source": [
    "tNo *ajustaFBPai(tNo *p){\n",
    "    tNo *no = p;\n",
    "    while (no->pai != NULL && no->fb != -2 && no->fb != 2){\n",
    "        if (no->pai->esq == no)\n",
    "            no->pai->fb++;\n",
    "        else\n",
    "            no->pai->fb--;\n",
    "        no = no->pai;\n",
    "    }\n",
    "    return no;\n",
    "}"
   ]
  },
  {
   "cell_type": "markdown",
   "metadata": {},
   "source": [
    "Conta o total de nós."
   ]
  },
  {
   "cell_type": "code",
   "execution_count": 20,
   "metadata": {},
   "outputs": [],
   "source": [
    "int contaNos(tNo *no){\n",
    "    if (no!=NULL) {\n",
    "        return contaNos(no->esq) + contaNos(no->dir) + 1;\n",
    "    } else\n",
    "        return 0;\n",
    "}"
   ]
  },
  {
   "cell_type": "markdown",
   "metadata": {},
   "source": [
    "Função que exclui um nó da árvore AVL. Usa a regra do sucessor. Retorna a raiz da árvore, pois a árvore poderá ter uma nova raiz, caso seja o nó a ser excluído.\n",
    "\n",
    "Chama funções de ajuste do fator de balanceamento do nó e dos nós pais.\n",
    "\n",
    "A mesma função poderia ser adaptada para usar a regra do antecessor."
   ]
  },
  {
   "cell_type": "code",
   "execution_count": 21,
   "metadata": {},
   "outputs": [],
   "source": [
    "tNo* exclui (tNo *no, tNo *raiz) {\n",
    "    int calcula_fb;\n",
    "    tNo *direitaSuc, *s, *novaRaiz = raiz;\n",
    "    if (no == NULL) return NULL;    \n",
    "    tNo *noAjuste = no->pai;\n",
    "    if (no->esq == NULL && no->dir == NULL) { //nó folha\n",
    "        if (no == raiz) {//exclusao da raiz em árvore com 1 nó\n",
    "            free(no);\n",
    "            return NULL;\n",
    "        }\n",
    "        if (no->pai->esq == no)\n",
    "            no->pai->fb++;\n",
    "        else\n",
    "            no->pai->fb--;\n",
    "        noAjuste = ajustaFBPai(no->pai);               \n",
    "        ajustaNoPai(no,NULL);\n",
    "        free (no);        \n",
    "    } else {\n",
    "        if (no->esq == NULL){ // nó com 1 filho direito\n",
    "            noAjuste = ajustaFBPai(no);\n",
    "            ajustaNoPai(no, no->dir);\n",
    "            if (no->pai == NULL) novaRaiz = no->dir;\n",
    "            free (no);\n",
    "        } else {\n",
    "            if (no->dir == NULL){ //nó com 1 filho esquerdo\n",
    "                noAjuste = ajustaFBPai(no);\n",
    "                ajustaNoPai(no, no->esq);\n",
    "                if (no->pai == NULL) novaRaiz = no->esq;\n",
    "                free(no);\n",
    "            }\n",
    "            else {            //nó com 2 filhos\n",
    "                int ultimoSucessor;\n",
    "                s = sucessor (no);\n",
    "                direitaSuc = s->dir;\n",
    "                ultimoSucessor = s->esq == NULL && s->dir == NULL;\n",
    "                ajustaNoPai(s, s->dir);\n",
    "                s->esq = no->esq;\n",
    "                s->dir = no->dir;\n",
    "                s->fb = no->fb;\n",
    "                ajustaNoPai(no, s);   \n",
    "                s->esq->pai = s;                       \n",
    "                if (ultimoSucessor) {//ultimo sucessor\n",
    "                    s->fb --;\n",
    "                    noAjuste = s;\n",
    "                } else\n",
    "                    s->dir->pai = s;\n",
    "                if (no == raiz) {\n",
    "                    novaRaiz = s;\n",
    "                    s->pai = NULL; //verificar essa linha. já deveria ser NULL\n",
    "                }\n",
    "                free(no);\n",
    "                if (s->fb != -2 && direitaSuc != NULL) //verifica se precisa ajustar 'pra cima'\n",
    "                    noAjuste = ajustaFBPai(direitaSuc);\n",
    "            }\n",
    "        }\n",
    "    } \n",
    "    while (noAjuste != NULL && (noAjuste->fb == 2 || noAjuste->fb == -2)){ \n",
    "        // se está desbalanceada após a exclusão,\n",
    "        calcula_fb = 1;     //chama a função de ajuste\n",
    "        no = ajustaAVL(noAjuste, &calcula_fb);\n",
    "        if (no->pai == NULL){ //para se o nó ajustado for o nó raiz\n",
    "            novaRaiz = no;\n",
    "            noAjuste = NULL;\n",
    "        }\n",
    "        else\n",
    "            noAjuste = ajustaFBPai(noAjuste->pai);\n",
    "    }\n",
    "    return novaRaiz;\n",
    "}"
   ]
  },
  {
   "cell_type": "code",
   "execution_count": 22,
   "metadata": {},
   "outputs": [],
   "source": [
    "void iniciaprograma(){\n",
    "    tNo *raiz = NULL, *no= NULL;\n",
    "    int v;\n",
    "    char entrada[] = \"50 30 90 20 40 100 35 45 85 88 21 37\\0\";\n",
    "    //char entrada[] = \"50 90 100\\0\"; //árvore mais simples\n",
    "    \n",
    "    raiz=montaarvore(entrada);    \n",
    "    cout << \"\\nPercurso em pré-ordem: \";\n",
    "    preordem(raiz); cout << \"\\n\";\n",
    "    cout << \"total de nós: \" << contaNos(raiz);\n",
    "    cout << \"\\naltura: \" << altura(raiz);\n",
    "\n",
    "    //nós com casos complexos para testar com a árvore inteira : 100, 88, 21, 50, 90\n",
    "    v = 37; //testa exclusão do sucessor\n",
    "    cout << \"\\n\\nexclusão :\" << v << \"\\n\";\n",
    "    raiz = exclui( busca(raiz,v), raiz); cout << \"\\n\";\n",
    "    preordem(raiz); cout << \"\\n\";\n",
    "    cout << \"total de nós: \" << contaNos(raiz);      \n",
    "    cout << \"\\naltura: \" << altura(raiz);\n",
    "}"
   ]
  },
  {
   "cell_type": "code",
   "execution_count": 23,
   "metadata": {},
   "outputs": [
    {
     "name": "stdout",
     "output_type": "stream",
     "text": [
      "\n",
      "Percurso em pré-ordem: (50:-1.(30:1.(20:1.()(21:0.()()))(40:-1.(35:1.()(37:0.()()))(45:0.()())))(90:-1.(85:1.()(88:0.()()))(100:0.()())))\n",
      "total de nós: 12\n",
      "altura: 4\n",
      "\n",
      "exclusão :37\n",
      "\n",
      "(50:0.(30:0.(20:1.()(21:0.()()))(40:0.(35:0.()())(45:0.()())))(90:-1.(85:1.()(88:0.()()))(100:0.()())))\n",
      "total de nós: 11\n",
      "altura: 3"
     ]
    }
   ],
   "source": [
    "iniciaprograma();"
   ]
  }
 ],
 "metadata": {
  "kernelspec": {
   "display_name": "C++14",
   "language": "C++14",
   "name": "xcpp14"
  },
  "language_info": {
   "codemirror_mode": "text/x-c++src",
   "file_extension": ".cpp",
   "mimetype": "text/x-c++src",
   "name": "c++",
   "version": "14"
  }
 },
 "nbformat": 4,
 "nbformat_minor": 4
}

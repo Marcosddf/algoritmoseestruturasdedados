{
 "cells": [
  {
   "cell_type": "markdown",
   "metadata": {},
   "source": [
    "## Inclusão na raiz e rotações\n",
    "\n",
    "O código abaixo ilustra a inclusão de elementos na raiz de uma árvore binária de busca. Para inclusão na raiz, é necessário a realização de operações de rotações sucessivas.\n",
    "\n",
    "A maioria das funções do TAD árvore binária de busca não são suportadas, pois o objetivo é apresentar apenas a inclusão na raiz."
   ]
  },
  {
   "cell_type": "code",
   "execution_count": 1,
   "metadata": {},
   "outputs": [],
   "source": [
    "#include <iostream>\n",
    "#include <stdlib.h> \n",
    "using namespace std;"
   ]
  },
  {
   "cell_type": "markdown",
   "metadata": {},
   "source": [
    "Estrutura para uma árvore binária simples.\n",
    "A árvore tem ponteiro para o nó pai."
   ]
  },
  {
   "cell_type": "code",
   "execution_count": 2,
   "metadata": {},
   "outputs": [],
   "source": [
    "struct tNo {\n",
    "  int chave; // pode ser modificado paraqualquer tipo de dado\n",
    "  tNo *esq, *dir, *pai;\n",
    "};"
   ]
  },
  {
   "cell_type": "markdown",
   "metadata": {},
   "source": [
    "Função para inicialização do nó, com alocação de memória e atribuição de valores para os componentes do nó."
   ]
  },
  {
   "cell_type": "code",
   "execution_count": 3,
   "metadata": {},
   "outputs": [],
   "source": [
    "tNo *criaNo (int chave){\n",
    "  tNo *n = (tNo *)malloc (sizeof (tNo));\n",
    "  n->chave = chave;\n",
    "  n->esq = NULL;\n",
    "  n->dir = NULL;\n",
    "  n->pai = NULL; \n",
    "  return n;\n",
    "}"
   ]
  },
  {
   "cell_type": "markdown",
   "metadata": {},
   "source": [
    "Funcão para inclusão de novo nó na árvore, dado um nó raiz."
   ]
  },
  {
   "cell_type": "code",
   "execution_count": 4,
   "metadata": {},
   "outputs": [],
   "source": [
    "tNo* inclui (tNo *no, int c){\n",
    "    if (no == NULL) return criaNo(c);    \n",
    "    if (c < no->chave){\n",
    "        no->esq = inclui(no->esq, c);\n",
    "        no->esq->pai = no;\n",
    "    }\n",
    "    else {\n",
    "        no->dir = inclui(no->dir, c);\n",
    "        no->dir->pai = no;\n",
    "    }\n",
    "    return no;\n",
    "}"
   ]
  },
  {
   "cell_type": "markdown",
   "metadata": {},
   "source": [
    "Função que lê um token, separado por espaço, e converte para um número inteiro."
   ]
  },
  {
   "cell_type": "code",
   "execution_count": 5,
   "metadata": {},
   "outputs": [],
   "source": [
    "int token_to_num(const char *str, int *indice){    \n",
    "    char token[100];\n",
    "    int i = 0;\n",
    "    while (str[*indice] != '\\0' && str[*indice] != ' '){\n",
    "        token[i] = str[*indice];\n",
    "        i++;\n",
    "        (*indice)++;\n",
    "    }\n",
    "    token[i] = '\\0';\n",
    "    (*indice)++;    \n",
    "    return atoi(token);\n",
    "}"
   ]
  },
  {
   "cell_type": "markdown",
   "metadata": {},
   "source": [
    "Função que monta uma árvore binária recebendo como entrada uma árvore com parênteses aninhados. Não há suporte a erros de entrada, por isso a árvore passada como parâmetro deve estar correta."
   ]
  },
  {
   "cell_type": "code",
   "execution_count": 6,
   "metadata": {},
   "outputs": [],
   "source": [
    "tNo* montaarvore(const char *str){\n",
    "    tNo *raiz = NULL;\n",
    "    int i = 0, v =0;\n",
    "    raiz = inclui(NULL, token_to_num(str,&i));\n",
    "    while (str[i]!='\\0'){\n",
    "        inclui (raiz, token_to_num(str, &i));                \n",
    "    }\n",
    "    return raiz;        \n",
    "}"
   ]
  },
  {
   "cell_type": "markdown",
   "metadata": {},
   "source": [
    "Operação de visita do nó. Neste caso é uma impressão simples."
   ]
  },
  {
   "cell_type": "code",
   "execution_count": 7,
   "metadata": {},
   "outputs": [],
   "source": [
    "void visita(tNo * no){\n",
    "    cout << no->chave << '.' ;\n",
    "}"
   ]
  },
  {
   "cell_type": "markdown",
   "metadata": {},
   "source": [
    "Percurso da árvore em **PRÉ-ORDEM**."
   ]
  },
  {
   "cell_type": "code",
   "execution_count": 8,
   "metadata": {},
   "outputs": [],
   "source": [
    "void preordem(tNo *no){\n",
    "    if (no != NULL){\n",
    "        visita(no);\n",
    "        preordem(no->esq);\n",
    "        preordem(no->dir);\n",
    "    }\n",
    "}\n"
   ]
  },
  {
   "cell_type": "markdown",
   "metadata": {},
   "source": [
    "Percurso da árvore em **ORDEM**."
   ]
  },
  {
   "cell_type": "code",
   "execution_count": 9,
   "metadata": {},
   "outputs": [],
   "source": [
    "void emordem(tNo *no){    \n",
    "    if (no !=NULL){\n",
    "        emordem(no->esq);\n",
    "        visita(no);\n",
    "        emordem(no->dir);\n",
    "    }\n",
    "}"
   ]
  },
  {
   "cell_type": "markdown",
   "metadata": {},
   "source": [
    "Percurso da árvore em **PÓS-ORDEM**."
   ]
  },
  {
   "cell_type": "code",
   "execution_count": 10,
   "metadata": {},
   "outputs": [],
   "source": [
    "void posordem(tNo * no){\n",
    "    if (no !=NULL){    \n",
    "        posordem(no->esq);        \n",
    "        posordem(no->dir);\n",
    "        visita(no);\n",
    "    }\n",
    "}"
   ]
  },
  {
   "cell_type": "markdown",
   "metadata": {},
   "source": [
    "Conta o número de nós da árvore."
   ]
  },
  {
   "cell_type": "code",
   "execution_count": 11,
   "metadata": {},
   "outputs": [],
   "source": [
    "int contaNos(tNo *no){\n",
    "    if (no!=NULL) {\n",
    "        return contaNos(no->esq) + contaNos(no->dir) + 1;\n",
    "    } else\n",
    "        return 0;\n",
    "}"
   ]
  },
  {
   "cell_type": "markdown",
   "metadata": {},
   "source": [
    "Calcula a altura da árvore. Retorna -1 para considerar a altura da raiz como 0."
   ]
  },
  {
   "cell_type": "code",
   "execution_count": 12,
   "metadata": {},
   "outputs": [],
   "source": [
    "int altura (tNo *p) {\n",
    "    int he, hd;\n",
    "    if (p == NULL) return -1;\n",
    "    he = altura (p->esq);\n",
    "    hd = altura (p->dir);\n",
    "    if (he > hd)\n",
    "        return he+1;\n",
    "    else\n",
    "        return hd+1;    \n",
    "}"
   ]
  },
  {
   "cell_type": "markdown",
   "metadata": {},
   "source": [
    "Função para rotação de um nó à esquerda."
   ]
  },
  {
   "cell_type": "code",
   "execution_count": 13,
   "metadata": {},
   "outputs": [],
   "source": [
    "tNo *rotEsquerda(tNo *p){\n",
    "    tNo *q = p->dir;\n",
    "    p->dir = q->esq;\n",
    "    \n",
    "    q->pai = p->pai;\n",
    "    p->pai = q;\n",
    "    if (q->esq != NULL) q->esq->pai = p;\n",
    "    \n",
    "    q->esq = p;\n",
    "    return q;\n",
    "}"
   ]
  },
  {
   "cell_type": "markdown",
   "metadata": {},
   "source": [
    "Função para rotação de um nó à direita."
   ]
  },
  {
   "cell_type": "code",
   "execution_count": 14,
   "metadata": {},
   "outputs": [],
   "source": [
    "tNo *rotDireita(tNo *p){\n",
    "    tNo *q = p->esq;\n",
    "    p->esq = q->dir;\n",
    "    \n",
    "    q->pai = p->pai;\n",
    "    p->pai = q;\n",
    "    if (q->dir != NULL) q->dir->pai = p;\n",
    "    \n",
    "    q->dir = p;\n",
    "    return q;\n",
    "}"
   ]
  },
  {
   "cell_type": "markdown",
   "metadata": {},
   "source": [
    "Função de inclusão de novo nó na raiz. Primeiro inclui o nó na folha, e rotaciona para esquerda ou direita, até chegar na raiz."
   ]
  },
  {
   "cell_type": "code",
   "execution_count": 15,
   "metadata": {},
   "outputs": [],
   "source": [
    "tNo* incluiNaRaiz (tNo *no, int c){\n",
    "    if (no == NULL) return criaNo(c);\n",
    "    if (c < no->chave){\n",
    "        no->esq = incluiNaRaiz(no->esq, c);\n",
    "        no->esq->pai = no;\n",
    "        no = rotDireita(no);\n",
    "    }\n",
    "    else {\n",
    "        no->dir = incluiNaRaiz(no->dir, c);\n",
    "        no->dir->pai = no;\n",
    "        no = rotEsquerda(no);\n",
    "    }\n",
    "    return no;\n",
    "}"
   ]
  },
  {
   "cell_type": "code",
   "execution_count": 16,
   "metadata": {},
   "outputs": [],
   "source": [
    "void iniciaprograma(){\n",
    "    tNo *raiz = NULL;\n",
    "    \n",
    "    char entrada[] = \"20 12 27 25 22\\0\";\n",
    "    raiz=montaarvore(entrada); \n",
    "    cout << \"\\nPercurso em pré-ordem: \";\n",
    "    preordem(raiz); cout << \"\\n\";\n",
    "    cout << \"Percurso em ordem: \";\n",
    "    emordem(raiz); cout << \"\\n\";\n",
    "    cout << \"Percurso em pós-ordem: \";\n",
    "    posordem(raiz);\n",
    "    cout << \"\\nTotal de nós: \" << contaNos(raiz);\n",
    "    cout << \"\\nAltura da árvore: \" << altura(raiz) << \"\\n\";\n",
    "    \n",
    "    cout << \"\\nInclusão do 23 na raiz \\n\";\n",
    "    raiz = incluiNaRaiz(raiz, 23);\n",
    "    preordem(raiz); cout << \"\\n\";\n",
    "    emordem(raiz);\n",
    "    \n",
    "}"
   ]
  },
  {
   "cell_type": "code",
   "execution_count": 17,
   "metadata": {},
   "outputs": [
    {
     "name": "stdout",
     "output_type": "stream",
     "text": [
      "\n",
      "Percurso em pré-ordem: 20.12.27.25.22.\n",
      "Percurso em ordem: 12.20.22.25.27.\n",
      "Percurso em pós-ordem: 12.22.25.27.20.\n",
      "Total de nós: 5\n",
      "Altura da árvore: 3\n",
      "\n",
      "Inclusão do 23 na raiz \n",
      "23.20.12.22.27.25.\n",
      "12.20.22.23.25.27."
     ]
    }
   ],
   "source": [
    "iniciaprograma();"
   ]
  }
 ],
 "metadata": {
  "kernelspec": {
   "display_name": "C++14",
   "language": "C++14",
   "name": "xcpp14"
  },
  "language_info": {
   "codemirror_mode": "text/x-c++src",
   "file_extension": ".cpp",
   "mimetype": "text/x-c++src",
   "name": "c++",
   "version": "14"
  }
 },
 "nbformat": 4,
 "nbformat_minor": 4
}
